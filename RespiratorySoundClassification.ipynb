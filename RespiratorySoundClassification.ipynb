{
 "cells": [
  {
   "cell_type": "markdown",
   "metadata": {
    "id": "pw3IVv3cz38W"
   },
   "source": [
    "# Data Loading "
   ]
  },
  {
   "cell_type": "code",
   "execution_count": 2,
   "metadata": {
    "colab": {
     "base_uri": "https://localhost:8080/"
    },
    "id": "RHM7sVQd8h_X",
    "outputId": "00ad2327-8757-4faf-8bab-9e5c1927538d"
   },
   "outputs": [
    {
     "name": "stdout",
     "output_type": "stream",
     "text": [
      "Looking in indexes: https://pypi.org/simple, https://pypi.ngc.nvidia.com\n",
      "Requirement already satisfied: cmapy in /home/user/.local/lib/python3.8/site-packages (0.6.6)\n",
      "Requirement already satisfied: matplotlib in /home/user/.local/lib/python3.8/site-packages (from cmapy) (3.7.1)\n",
      "Requirement already satisfied: numpy in /home/user/.local/lib/python3.8/site-packages (from cmapy) (1.23.5)\n",
      "Requirement already satisfied: opencv-python>=3.3 in /home/user/.local/lib/python3.8/site-packages (from cmapy) (4.7.0.72)\n",
      "Requirement already satisfied: contourpy>=1.0.1 in /home/user/.local/lib/python3.8/site-packages (from matplotlib->cmapy) (1.0.7)\n",
      "Requirement already satisfied: cycler>=0.10 in /home/user/.local/lib/python3.8/site-packages (from matplotlib->cmapy) (0.11.0)\n",
      "Requirement already satisfied: fonttools>=4.22.0 in /home/user/.local/lib/python3.8/site-packages (from matplotlib->cmapy) (4.39.3)\n",
      "Requirement already satisfied: kiwisolver>=1.0.1 in /home/user/.local/lib/python3.8/site-packages (from matplotlib->cmapy) (1.4.4)\n",
      "Requirement already satisfied: packaging>=20.0 in /home/user/.local/lib/python3.8/site-packages (from matplotlib->cmapy) (23.0)\n",
      "Requirement already satisfied: pillow>=6.2.0 in /usr/lib/python3/dist-packages (from matplotlib->cmapy) (7.0.0)\n",
      "Requirement already satisfied: pyparsing>=2.3.1 in /home/user/.local/lib/python3.8/site-packages (from matplotlib->cmapy) (3.0.9)\n",
      "Requirement already satisfied: python-dateutil>=2.7 in /home/user/.local/lib/python3.8/site-packages (from matplotlib->cmapy) (2.8.2)\n",
      "Requirement already satisfied: importlib-resources>=3.2.0; python_version < \"3.10\" in /home/user/.local/lib/python3.8/site-packages (from matplotlib->cmapy) (5.12.0)\n",
      "Requirement already satisfied: six>=1.5 in /usr/lib/python3/dist-packages (from python-dateutil>=2.7->matplotlib->cmapy) (1.14.0)\n",
      "Requirement already satisfied: zipp>=3.1.0; python_version < \"3.10\" in /home/user/.local/lib/python3.8/site-packages (from importlib-resources>=3.2.0; python_version < \"3.10\"->matplotlib->cmapy) (3.15.0)\n"
     ]
    }
   ],
   "source": [
    "!pip install cmapy\n"
   ]
  },
  {
   "cell_type": "code",
   "execution_count": 3,
   "metadata": {
    "id": "C6FqFAF3wrnW"
   },
   "outputs": [],
   "source": [
    "import os\n",
    "import random\n",
    "import numpy as np\n",
    "import cv2\n",
    "import pandas as pd\n",
    "import torch\n",
    "import librosa\n",
    "from tqdm import tqdm\n",
    "from matplotlib import pyplot as plt\n",
    "import librosa.display\n",
    "import cmapy\n",
    "import io\n",
    "import math\n",
    "import os\n",
    "import torch\n",
    "import torchvision\n",
    "import torchvision.transforms as transforms\n",
    "from torchvision.utils import make_grid\n",
    "from tqdm.notebook import tqdm as tqdm\n",
    "import matplotlib.pyplot as plt\n",
    "import numpy as np\n",
    "from torchvision import datasets\n",
    "import torchvision.transforms.functional as F\n",
    "from torchvision import utils\n",
    "from torch.utils.data import random_split\n",
    "from torch.utils.data import TensorDataset\n",
    "from torch.utils.data import Dataset, DataLoader\n",
    "import librosa\n",
    "from tqdm import tqdm\n",
    "import librosa.display\n",
    "from utils import *\n",
    "\n",
    "\n",
    "\n",
    "\n"
   ]
  },
  {
   "cell_type": "markdown",
   "metadata": {
    "id": "WnujnOlcaXRc"
   },
   "source": [
    "# Helper Functions"
   ]
  },
  {
   "cell_type": "code",
   "execution_count": 4,
   "metadata": {
    "id": "Ny86KDc5EC4i"
   },
   "outputs": [],
   "source": [
    "import os\n",
    "import random\n",
    "import numpy as np\n",
    "import cv2\n",
    "import pandas as pd\n",
    "import torch\n",
    "import librosa\n",
    "from tqdm import tqdm\n",
    "from matplotlib import pyplot as plt\n",
    "import librosa.display\n",
    "import cmapy\n",
    "import io\n",
    "import math\n",
    "import os\n",
    "import torch\n",
    "import torchvision\n",
    "import torchvision.transforms as transforms\n",
    "from torchvision.utils import make_grid\n",
    "from tqdm.notebook import tqdm as tqdm\n",
    "import matplotlib.pyplot as plt\n",
    "import numpy as np\n",
    "from torchvision import datasets\n",
    "import torchvision.transforms.functional as F\n",
    "from torchvision import utils\n",
    "from torch.utils.data import random_split\n",
    "import torchaudio\n",
    "\n",
    "def get_annotation_data(file_name,data_dir): # Function returns the recording_data and the annotation_data\n",
    "  '''\n",
    "  Parameters\n",
    "  ----------\n",
    "  file_name: the file name of which data is to be retrived\n",
    "  data_dir: Directory where file is present\n",
    "  '''\n",
    "  annotation_data = pd.read_csv(os.path.join(data_dir,file_name+\".txt\"),sep=\"\\t\")\n",
    "  annotation_data.columns = [\"start\",\"end\",\"crackle\",\"wheeze\"]\n",
    "  file_data = file_name.split(\"_\")\n",
    "  recording_data = pd.DataFrame([file_data],columns = [\"pid\",\"recording_index\",\"chest_location\",\"acquisition_mode\",\"equipment\"])\n",
    "  return recording_data,annotation_data \n",
    "\n",
    "\n",
    "def save_images(image, train_flag):\n",
    "    save_dir = 'dump_image'\n",
    "    if not os.path.isdir(save_dir):\n",
    "        os.makedirs(save_dir)\n",
    "        \n",
    "    if train_flag:\n",
    "        save_dir = os.path.join(save_dir, 'train')\n",
    "        if not os.path.isdir(save_dir):\n",
    "            os.makedirs(save_dir)\n",
    "        cv2.imwrite(os.path.join(save_dir, image[1]+'_'+str(image[2])+'_'+str(image[3])+'_'+str(image[4])+'.jpg'), cv2.cvtColor(image[0], cv2.COLOR_RGB2BGR))\n",
    "    else:\n",
    "        save_dir = os.path.join(save_dir, 'test')\n",
    "        if not os.path.isdir(save_dir):\n",
    "            os.makedirs(save_dir)\n",
    "        cv2.imwrite(os.path.join(save_dir, image[1]+'_'+str(image[2])+'_'+str(image[3])+'_'+str(image[4])+'.jpg'), cv2.cvtColor(image[0], cv2.COLOR_RGB2BGR))\n",
    "\n",
    "def get_label(crackle, wheeze):\n",
    "    if crackle == 0 and wheeze == 0:\n",
    "        return 0\n",
    "    elif crackle == 1 and wheeze == 0:\n",
    "        return 1\n",
    "    elif crackle == 0 and wheeze == 1:\n",
    "        return 2\n",
    "    else:\n",
    "        return 3\n",
    "\n",
    "def get_samples(file_name,dataset_dir,annotation_data,sample_rate):\n",
    "  samples = []\n",
    "  audio_file,original_sr = torchaudio.load(os.path.join(dataset_dir,file_name+\".wav\"))\n",
    "  audio_file = torchaudio.transforms.Resample(original_sr, sample_rate)(audio_file)\n",
    "#   print(\"Audio Chunk shape: \",audio_file.shape)\n",
    "#   print(\"Annotation Data: \",annotation_data)\n",
    "  for i in range(len(annotation_data.index)):\n",
    "        row = annotation_data.loc[i]\n",
    "        # print(\"Row: \",row)\n",
    "        start = row['start']\n",
    "        # print(\"Start: \",start)\n",
    "        end = row['end']\n",
    "        crackles = row['crackle']\n",
    "        wheezes = row['wheeze']\n",
    "        max_ind = audio_file.shape[1]\n",
    "        # print(\"Max Ind\",max_ind) \n",
    "        # split signal\n",
    "        start_ind = min(int(start * sample_rate), max_ind)\n",
    "        end_ind = min(int(end * sample_rate), max_ind)\n",
    "        # print(\"Start Ind\",start_ind,\"End Ind\",end_ind)\n",
    "        audio_chunk = audio_file[:,start_ind:end_ind]\n",
    "        # print(\"Audio Chunk\",audio_chunk.shape)\n",
    "        samples.append((audio_chunk, get_label(crackles, wheezes), start,end))\n",
    "  return samples\n",
    "\n",
    "def get_train_test_names(train_test_file_names):\n",
    "    '''\n",
    "    Get List of file names belonging in train and test datasets\n",
    "    ---------\n",
    "    train_test_file_names:  txt file containing names of all samples in train\n",
    "                            and test as given by ICBHI\n",
    "    return: train_names,test_names\n",
    "    '''\n",
    "    train_test = pd.read_csv(train_test_file_names,sep=\"\\t\",header=None)\n",
    "    train_names = train_test[train_test[1]==\"train\"]\n",
    "    test_names = train_test[train_test[1]==\"test\"]\n",
    "    return train_names,test_names\n",
    "\n",
    "\n",
    "\n"
   ]
  },
  {
   "cell_type": "markdown",
   "metadata": {
    "id": "fea1mTIs9qWO"
   },
   "source": [
    "# Implementing Custom Dataloader"
   ]
  },
  {
   "cell_type": "code",
   "execution_count": 5,
   "metadata": {
    "id": "GQN_jxC699TL"
   },
   "outputs": [],
   "source": [
    "from torch.utils.data import Dataset, DataLoader"
   ]
  },
  {
   "cell_type": "code",
   "execution_count": 6,
   "metadata": {
    "id": "s1bkAGsF9VpI"
   },
   "outputs": [],
   "source": [
    "from torch.utils.data import Dataset\n",
    "import librosa\n",
    "from tqdm import tqdm\n",
    "import librosa.display\n",
    "import torchaudio\n",
    "from utils import *\n",
    "\n",
    "class ImageLoader(Dataset):\n",
    "  def __init__(self,dataset_file,dataset_dir,train_flag=True,transform=None):\n",
    "    self.input_transform = transform\n",
    "    self.dataset_file = dataset_file\n",
    "    self.dataset_dir = dataset_dir\n",
    "    # self.dataset = pd.read_csv(os.path.join(dataset_dir,dataset_file),sep=\"\\t\",header=None)\n",
    "    self.dataset = dataset_file\n",
    "    self.audio_data = []\n",
    "    # self.train_flag = False\n",
    "    # Spectrogram parameters\n",
    "    self.train_flag = train_flag\n",
    "    self.sample_rate = 4000\n",
    "    self.desired_length = 8\n",
    "    self.n_mels = 128 #128\n",
    "    self.nfft = 1024 #2048\n",
    "    self.win_length = int(60/1000*self.sample_rate)\n",
    "    self.hop = self.win_length//2\n",
    "    self.f_max = 2000\n",
    "    self.device_to_files = []  # mapping the filename to device\n",
    "    # self.patient_to_device = {}\n",
    "    self.patient_to_samples ={}\n",
    "    self.patient_to_idx = {}\n",
    "\n",
    "    # files = os.listdir(dataset_dir)\n",
    "    failed_files=[]\n",
    "    print(\"LOADING AUDIO FILES\")\n",
    "    for i,f in enumerate(tqdm(self.dataset[0])):\n",
    "      # idx_0: patient_id, idx_1: recording_index, idx_2:Chest location, idx_3:A cquistation mode, idx_4: device\n",
    "      tokens = f.strip().split(\"_\")\n",
    "      try:\n",
    "        _,annotation_data = get_annotation_data(f,dataset_dir)\n",
    "        sample_data = get_samples(f,dataset_dir,annotation_data,sample_rate=self.sample_rate)\n",
    "        if tokens[0] not in self.patient_to_samples.keys():\n",
    "          self.patient_to_samples[tokens[0]] = sample_data\n",
    "        else:\n",
    "          self.patient_to_samples[tokens[0]].extend(sample_data)\n",
    "        \n",
    "        if tokens[0] not in self.patient_to_idx.keys():\n",
    "          self.patient_to_idx[tokens[0]] = [i]\n",
    "        else:\n",
    "          self.patient_to_idx[tokens[0]].append(i)\n",
    "        \n",
    "        \n",
    "        self.audio_data.extend(sample_data)\n",
    "        \n",
    "      except Exception as e:\n",
    "        print(e)\n",
    "        failed_files.append(self.dataset.iloc[i,0])\n",
    "        continue\n",
    "\n",
    "  \n",
    "  def augment_audio(self,audio):\n",
    "    effects = [[\"lowpass\", \"-1\", \"300\"],\n",
    "           [\"speed\", \"0.8\"],\n",
    "           [\"rate\", f\"{self.sample_rate}\"],\n",
    "           [\"reverb\", \"-w\"],\n",
    "           [\"channels\", \"1\"],\n",
    "           ]\n",
    "    if self.train_flag:\n",
    "      audio,sr = torchaudio.sox_effects.apply_effects_tensor(audio, self.sample_rate, effects)\n",
    "    # print(audio.shape)\n",
    "    return audio\n",
    "    \n",
    "\n",
    "    # make a dict for easy indexing and loading\n",
    "\n",
    "  def __getitem__(self, index):\n",
    "    if torch.is_tensor(index):\n",
    "      index = index.tolist()\n",
    "    audio = self.audio_data[index][0]\n",
    "    # print(audio.shape)\n",
    "    # randomly augment data\n",
    "    # print(\"Augmenting data\")\n",
    "    audio,_ = torchaudio.sox_effects.apply_effects_tensor(audio,self.sample_rate,effects=[[\"channels\",\"1\"]])\n",
    "    if np.random.random() > 0.5:\n",
    "      audio = self.augment_audio(audio)\n",
    "\n",
    "    # pad the audio to desired length using \n",
    "    # print(\"Before padding: \",audio.shape)\n",
    "    if audio.shape[1] < self.desired_length*self.sample_rate:\n",
    "      audio = torch.nn.functional.pad(audio,(0,self.desired_length*self.sample_rate-audio.shape[1]))\n",
    "    else:\n",
    "      audio = audio[:,:self.desired_length*self.sample_rate]\n",
    "    audio_mel_image = torchaudio.transforms.MelSpectrogram(sample_rate=self.sample_rate, n_fft=self.nfft, win_length=self.win_length, hop_length=self.hop, n_mels=self.n_mels, f_max=self.f_max)(audio)\n",
    "    \n",
    "    # blank Region Clipping\n",
    "    audio_mel_image_raw = audio_mel_image.squeeze(0).numpy()\n",
    "    for row in range(audio_mel_image_raw.shape[0]):\n",
    "        black_percent = len(np.where(audio_mel_image_raw[row,:]==-100)[0])/len(audio_mel_image_raw[row,:])\n",
    "        if black_percent > 0.80:\n",
    "            break\n",
    "    audio_mel_image_raw = audio_mel_image_raw[:row+1,:]\n",
    "\n",
    "    for column in range(audio_mel_image_raw.shape[1]):\n",
    "        black_percent = len(np.where(audio_mel_image_raw[:,column]==-100)[0])/len(audio_mel_image_raw[:,column])\n",
    "        if black_percent > 0.90:\n",
    "            break\n",
    "    \n",
    "    audio_mel_image_raw = audio_mel_image_raw[:,:column+1]\n",
    "    audio_mel_image = torch.from_numpy(audio_mel_image_raw).unsqueeze(0)\n",
    "\n",
    "    \n",
    "    label = self.audio_data[index][1]\n",
    "    audio_mel_image = torchvision.transforms.Resize((256,256))(audio_mel_image)\n",
    "  \n",
    "    if self.input_transform is not None:\n",
    "      audio_mel_image = self.input_transform(audio_mel_image)\n",
    "    \n",
    "    label = torch.from_numpy(np.array(label)).float()\n",
    "    return audio_mel_image,label\n",
    "\n",
    "  def __len__(self):\n",
    "    # print(\"Length of dataset: \",len(self.audio_data))\n",
    "    return len(self.audio_data)\n",
    "  "
   ]
  },
  {
   "attachments": {},
   "cell_type": "markdown",
   "metadata": {
    "id": "_K6QXeG5CgXk"
   },
   "source": [
    "# Implementing Patient Based Tuning Model"
   ]
  },
  {
   "cell_type": "code",
   "execution_count": 7,
   "metadata": {},
   "outputs": [],
   "source": [
    "from torch.utils.data import Dataset, DataLoader\n",
    "from tqdm import tqdm\n",
    "from utils import *\n",
    "\n",
    "class RModel(torch.nn.Module):\n",
    "    def __init__(self):\n",
    "        super(RModel,self).__init__()\n",
    "        self.hidden_dim = 256\n",
    "        self.num_layers = 1\n",
    "        self.input_dim = 128\n",
    "        self.fc_dim = 36864\n",
    "        self.feature_extractor = torch.nn.Sequential(\n",
    "            torch.nn.BatchNorm2d(1),\n",
    "            # conv layer with kernel 5x7\n",
    "            torch.nn.Conv2d(1, 64, kernel_size=(5,7)),\n",
    "            torch.nn.ReLU(),\n",
    "            torch.nn.MaxPool2d(kernel_size=(2,3)),\n",
    "            torch.nn.Conv2d(64,64,kernel_size=(3,3)),\n",
    "            torch.nn.ReLU(),\n",
    "            torch.nn.Conv2d(64,64,kernel_size=(3,3)),\n",
    "            torch.nn.ReLU(),\n",
    "            torch.nn.MaxPool2d(kernel_size=(2,3)),\n",
    "            torch.nn.Conv2d(64,128,kernel_size=(3,3)),\n",
    "            torch.nn.ReLU(),\n",
    "            torch.nn.Conv2d(128,128,kernel_size=(3,3)),\n",
    "            torch.nn.ReLU(),\n",
    "            torch.nn.MaxPool2d(kernel_size=(2,3)),\n",
    "            torch.nn.Conv2d(128,128,kernel_size=(3,3)),\n",
    "            torch.nn.ReLU(),\n",
    "            torch.nn.Conv2d(128,128,kernel_size=(3,3)),\n",
    "            torch.nn.ReLU(),\n",
    "        )\n",
    "        self.fully_connected = torch.nn.Sequential(\n",
    "            torch.nn.Flatten(),\n",
    "            torch.nn.Dropout(0.5),\n",
    "            torch.nn.Linear(self.fc_dim,100),\n",
    "            # torch.nn.ReLU(),\n",
    "            torch.nn.Dropout(0.5),\n",
    "            torch.nn.Linear(100,4),\n",
    "            torch.nn.Softmax()\n",
    "        )\n",
    "        self.bi_lstm_block = torch.nn.LSTM(self.input_dim, self.hidden_dim, self.num_layers, batch_first=True, bidirectional=True)\n",
    "    \n",
    "    \n",
    "    def init_hidden_state(self, batch_size,device='cuda'):\n",
    "        return (torch.zeros((self.num_layers * 2, batch_size, self.hidden_dim),device=device),\n",
    "                torch.zeros((self.num_layers * 2, batch_size, self.hidden_dim),device=device))\n",
    "\n",
    "    def init_optimizer(self,learning_rate=0.0001):\n",
    "        return torch.optim.Adam(self.parameters(), lr=learning_rate, amsgrad=False,betas=(0.9, 0.999), weight_decay=5e-4)\n",
    "    \n",
    "    def forward(self, x):\n",
    "        # reshape the input to (batch_size, num_channels, height, width)\n",
    "        # x = x.permute(0, 3, 2, 1)\n",
    "        x = self.feature_extractor(x)\n",
    "        batch_size, C, H, W = x.size()\n",
    "        x = x.view(batch_size, C, H*W)\n",
    "        x = x.permute(0, 2, 1)\n",
    "        self.fc_dim = self.hidden_dim * H * W * 2\n",
    "        h0, c0 = self.init_hidden_state(batch_size)\n",
    "        x, (hn, cn) = self.bi_lstm_block(x, (h0, c0))\n",
    "        x = torch.nn.Tanh()(x)\n",
    "        x = self.fully_connected(x)\n",
    "        return x\n",
    "\n",
    "    \n",
    "    \n",
    "\n",
    "\n",
    "def save_model(model,name='model.pt'):\n",
    "    if not os.path.isdir('saved_models'):\n",
    "        os.mkdir('saved_models')\n",
    "      \n",
    "    torch.save(model.state_dict(), os.path.join('saved_models', name))\n",
    "    print(\"Model successfully saved.\")\n",
    "    \n",
    "def load_model(model):\n",
    "    model.load_state_dict(torch.load(os.path.join('saved_models', 'model.pt')))\n",
    "    return model\n",
    "\n"
   ]
  },
  {
   "attachments": {},
   "cell_type": "markdown",
   "metadata": {},
   "source": [
    "# Data Loading"
   ]
  },
  {
   "cell_type": "code",
   "execution_count": 8,
   "metadata": {
    "colab": {
     "base_uri": "https://localhost:8080/"
    },
    "id": "BkxQJytR1Sm8",
    "outputId": "00075074-1a38-4070-b1ee-7235ef131100"
   },
   "outputs": [],
   "source": [
    "\n",
    "dataset_dir = \"ICBHI_final_database\"\n",
    "train_test_txt = \"ICBHI_challenge_train_test (1).txt\"\n",
    "BATCH_SIZE = 32\n",
    "\n",
    "\n",
    "\n"
   ]
  },
  {
   "cell_type": "code",
   "execution_count": 9,
   "metadata": {},
   "outputs": [],
   "source": [
    "train_file_df,test_file_df = get_train_test_names(train_test_txt)"
   ]
  },
  {
   "cell_type": "code",
   "execution_count": 23,
   "metadata": {},
   "outputs": [
    {
     "name": "stdout",
     "output_type": "stream",
     "text": [
      "LOADING AUDIO FILES\n"
     ]
    },
    {
     "data": {
      "application/vnd.jupyter.widget-view+json": {
       "model_id": "c8085d6df71e40c4bebf0dd5dc53b0f4",
       "version_major": 2,
       "version_minor": 0
      },
      "text/plain": [
       "  0%|          | 0/539 [00:00<?, ?it/s]"
      ]
     },
     "metadata": {},
     "output_type": "display_data"
    },
    {
     "name": "stdout",
     "output_type": "stream",
     "text": [
      "[Errno 2] No such file or directory: 'ICBHI_final_database/226_1b1_Pl_sc_Meditron.txt'\n",
      "LOADING AUDIO FILES\n"
     ]
    },
    {
     "data": {
      "application/vnd.jupyter.widget-view+json": {
       "model_id": "90b82078cab94b7ba21f602ad58e1381",
       "version_major": 2,
       "version_minor": 0
      },
      "text/plain": [
       "  0%|          | 0/381 [00:00<?, ?it/s]"
      ]
     },
     "metadata": {},
     "output_type": "display_data"
    }
   ],
   "source": [
    "train_dataset = ImageLoader(train_file_df,dataset_dir,train_flag=True)\n",
    "test_dataset = ImageLoader(test_file_df,dataset_dir,train_flag=False) \n",
    "train_dataset,val_dataset = torch.utils.data.random_split(train_dataset,[int(0.8*len(train_dataset)),len(train_dataset)-int(0.8*len(train_dataset))])\n",
    "\n"
   ]
  },
  {
   "cell_type": "code",
   "execution_count": 24,
   "metadata": {},
   "outputs": [
    {
     "name": "stderr",
     "output_type": "stream",
     "text": [
      "/home/user/.local/lib/python3.8/site-packages/torchvision/transforms/functional.py:1603: UserWarning: The default value of the antialias parameter of all the resizing transforms (Resize(), RandomResizedCrop(), etc.) will change from None to True in v0.17, in order to be consistent across the PIL and Tensor backends. To suppress this warning, directly pass antialias=True (recommended, future default), antialias=None (current default, which means False for Tensors and True for PIL), or antialias=False (only works on Tensors - PIL will still use antialiasing). This also applies if you are using the inference transforms from the models weights: update the call to weights.transforms(antialias=True).\n",
      "  warnings.warn(\n"
     ]
    }
   ],
   "source": [
    "# create a df with audio array, label, start and end\n",
    "train_class_counts = {}\n",
    "for i, (audio,label) in enumerate(train_dataset):\n",
    "    label = int(label)\n",
    "    if label not in train_class_counts.keys():\n",
    "        train_class_counts[label] = 1\n",
    "    else:\n",
    "        train_class_counts[label]+=1"
   ]
  },
  {
   "cell_type": "code",
   "execution_count": 25,
   "metadata": {},
   "outputs": [
    {
     "data": {
      "text/plain": [
       "{0: 0.49582463465553234,\n",
       " 1: 0.2881002087682672,\n",
       " 2: 0.12700069589422408,\n",
       " 3: 0.08907446068197634}"
      ]
     },
     "execution_count": 25,
     "metadata": {},
     "output_type": "execute_result"
    }
   ],
   "source": [
    "train_class_prob = {\n",
    "    0:train_class_counts[0]/len(train_dataset),\n",
    "    1:train_class_counts[1]/len(train_dataset),\n",
    "    2:train_class_counts[2]/len(train_dataset),\n",
    "    3:train_class_counts[3]/len(train_dataset)\n",
    "}\n",
    "train_class_prob"
   ]
  },
  {
   "cell_type": "code",
   "execution_count": 26,
   "metadata": {},
   "outputs": [],
   "source": [
    "train_class_weights = torch.from_numpy(np.array([1/train_class_counts[i] for i in range(4)]))"
   ]
  },
  {
   "cell_type": "code",
   "execution_count": 27,
   "metadata": {},
   "outputs": [
    {
     "data": {
      "text/plain": [
       "tensor([0.0007, 0.0012, 0.0027, 0.0039], device='cuda:0')"
      ]
     },
     "execution_count": 27,
     "metadata": {},
     "output_type": "execute_result"
    }
   ],
   "source": [
    "train_class_weights=train_class_weights.to(\"cuda\").float()\n",
    "train_class_weights"
   ]
  },
  {
   "cell_type": "code",
   "execution_count": 28,
   "metadata": {},
   "outputs": [],
   "source": [
    "train_loader = DataLoader(train_dataset,batch_size=BATCH_SIZE,shuffle=True)\n",
    "val_loader = DataLoader(val_dataset,batch_size=BATCH_SIZE,shuffle=True)\n",
    "test_loader = DataLoader(test_dataset,batch_size=BATCH_SIZE,shuffle=True)\n"
   ]
  },
  {
   "attachments": {},
   "cell_type": "markdown",
   "metadata": {},
   "source": [
    "# Training\n"
   ]
  },
  {
   "cell_type": "code",
   "execution_count": 50,
   "metadata": {},
   "outputs": [],
   "source": [
    "def get_evaluation_metrics(preds,targets):\n",
    "    # calculate specificity\n",
    "    # sepcificity = Correct Label[0] + Correct Label[1] + Correct Label[2] + Correct Label[3] / Total Label[0] + Total Label[1] + Total Label[2] + Total Label[3]\n",
    "    sensitivity_num = 0\n",
    "    sensitivity_denm = 0\n",
    "    for i in range(4):\n",
    "        sensitivity_num += torch.sum((preds==i) & (targets==i))\n",
    "        sensitivity_denm += torch.sum(targets==i)\n",
    "    sensitivity = float(sensitivity_num)/float(sensitivity_denm)\n",
    "    specificity = float(torch.sum((preds==0) & (targets==0)))/float(torch.sum(targets==0))\n",
    "    score = 0.5*(sensitivity+specificity)\n",
    "    return sensitivity,specificity,score\n",
    "\n",
    "def get_scores(model, testloader, device):\n",
    "    # model.eval()\n",
    "    with torch.no_grad():\n",
    "        val_loss, val_sensitivity, val_specificity, val_score = 0.0, 0.0, 0.0, 0.0\n",
    "        for val_batch in testloader:\n",
    "            imgs, targets = val_batch\n",
    "            imgs, targets = imgs.to(device), targets.to(device).long()\n",
    "            val_outputs = model(imgs)\n",
    "            val_loss += torch.nn.CrossEntropyLoss()(val_outputs, targets).item()\n",
    "            val_preds = torch.argmax(val_outputs, dim=1)\n",
    "            sensitivity,specificity,score = get_evaluation_metrics(val_preds,targets)\n",
    "            val_sensitivity += sensitivity\n",
    "            val_specificity += specificity\n",
    "            val_score += score\n",
    "\n",
    "    val_loss = float(float(val_loss)/float(len(testloader)*BATCH_SIZE))\n",
    "    val_sensitivity = float(float(val_sensitivity)/float(len(testloader)))\n",
    "    val_specificity = float(float(val_specificity)/float(len(testloader)))\n",
    "    val_score = float(float(val_score)/float(len(testloader)))\n",
    "    return val_loss,val_sensitivity,val_specificity,val_score\n",
    "\n",
    "\n",
    "\n",
    "def evaluate(model, testloader, device):\n",
    "    # model.eval()\n",
    "    with torch.no_grad():\n",
    "        val_loss, val_acc = 0.0, 0.0\n",
    "        for val_batch in testloader:\n",
    "            imgs, targets = val_batch\n",
    "            #print(imgs.shape, targets.shape)\n",
    "            #print(targets)\n",
    "            imgs, targets = imgs.to(device), targets.to(device).long()\n",
    "            val_outputs = model(imgs)\n",
    "            val_loss += torch.nn.CrossEntropyLoss()(val_outputs, targets).item()\n",
    "            val_preds = torch.argmax(val_outputs, dim=1)\n",
    "            val_acc += torch.sum(val_preds == targets)\n",
    "\n",
    "    val_acc = float(float(val_acc)/float(len(testloader)*BATCH_SIZE))\n",
    "    return val_acc,val_loss\n",
    "\n",
    "def train_evaluate(model, optimizer, trainloader, valloader, num_epochs=10, save_model_name=None, dropout=None, learning_rate=0.001, device=\"cuda\"):\n",
    "    model.to(device)\n",
    "    model.train()\n",
    "    train_accuracy_with_epochs = []\n",
    "    val_accuracy_with_epochs = []\n",
    "    loss_with_epochs = []\n",
    "    val_loss_with_epochs = []\n",
    "    # best_val_acc = 0.0\n",
    "    best_loss = 0.0345\n",
    "\n",
    "    for epoch in range(num_epochs):\n",
    "        train_loss, train_acc = 0, 0\n",
    "        print(\"\\nEpoch: \", str(epoch+1), \"/\", str(num_epochs))\n",
    "\n",
    "        with tqdm(total=len(trainloader)) as pbar:\n",
    "            for idx, batch in enumerate(trainloader):\n",
    "                images, labels = batch\n",
    "                images, labels = images.to(device), labels.to(device).long()\n",
    "                preds = model(images)\n",
    "                loss = torch.nn.CrossEntropyLoss(weight=train_class_weights)(preds, labels)\n",
    "                optimizer.zero_grad()\n",
    "                loss.backward()\n",
    "                optimizer.step()\n",
    "                # print(torch.argmax(preds, dim=1),labels)\n",
    "                train_loss += loss.item()\n",
    "                acc = torch.sum(torch.argmax(preds, dim=1) == labels)\n",
    "                train_acc += acc\n",
    "                pbar.set_postfix(Loss='{0:.4f}'.format(loss.item()), Accuracy='{0:.4f}'.format(float(train_acc.item()/(BATCH_SIZE*(idx+1)))))\n",
    "                pbar.update(1)\n",
    "\n",
    "            val_acc, val_loss = evaluate(model, valloader, device)\n",
    "            val_accuracy_with_epochs.append(val_acc)\n",
    "            val_loss_with_epochs.append(val_loss)\n",
    "            loss_with_epochs.append(train_loss)\n",
    "            train_loss = float(float(train_loss)/float(len(trainloader)*BATCH_SIZE))\n",
    "            print(\"train_acc:\", round(float(float(train_acc)/float(len(trainloader)*BATCH_SIZE)), 4), \" val_acc:\", round(val_acc, 4))\n",
    "            train_accuracy_with_epochs.append(round(float(float(train_acc)/float(len(trainloader)*BATCH_SIZE)), 4))\n",
    "            \n",
    "            if train_loss <= best_loss:\n",
    "                best_loss = train_loss\n",
    "                if save_model_name is not None:\n",
    "                    torch.save(model.state_dict(), save_model_name)\n",
    "                    print(\"Model saved at\", save_model_name)\n",
    "                    print(\"Best train loss:\", best_loss)\n",
    "\n",
    "    return train_accuracy_with_epochs, val_accuracy_with_epochs, model, loss_with_epochs, val_loss_with_epochs\n"
   ]
  },
  {
   "cell_type": "code",
   "execution_count": 30,
   "metadata": {},
   "outputs": [],
   "source": [
    "device=\"cuda\""
   ]
  },
  {
   "attachments": {},
   "cell_type": "markdown",
   "metadata": {},
   "source": [
    "# Training Mobile NET \n"
   ]
  },
  {
   "cell_type": "code",
   "execution_count": 22,
   "metadata": {},
   "outputs": [
    {
     "name": "stderr",
     "output_type": "stream",
     "text": [
      "/home/user/.local/lib/python3.8/site-packages/torchvision/models/_utils.py:223: UserWarning: Arguments other than a weight enum or `None` for 'weights' are deprecated since 0.13 and may be removed in the future. The current behavior is equivalent to passing `weights=MobileNet_V2_Weights.IMAGENET1K_V1`. You can also use `weights=MobileNet_V2_Weights.DEFAULT` to get the most up-to-date weights.\n",
      "  warnings.warn(msg)\n"
     ]
    },
    {
     "name": "stdout",
     "output_type": "stream",
     "text": [
      "\n",
      "Epoch:  1 / 50\n"
     ]
    },
    {
     "data": {
      "application/vnd.jupyter.widget-view+json": {
       "model_id": "96ae97bce66e42b8b126e5705b79dc61",
       "version_major": 2,
       "version_minor": 0
      },
      "text/plain": [
       "  0%|          | 0/90 [00:00<?, ?it/s]"
      ]
     },
     "metadata": {},
     "output_type": "display_data"
    },
    {
     "name": "stderr",
     "output_type": "stream",
     "text": [
      "/home/user/.local/lib/python3.8/site-packages/torchvision/transforms/functional.py:1603: UserWarning: The default value of the antialias parameter of all the resizing transforms (Resize(), RandomResizedCrop(), etc.) will change from None to True in v0.17, in order to be consistent across the PIL and Tensor backends. To suppress this warning, directly pass antialias=True (recommended, future default), antialias=None (current default, which means False for Tensors and True for PIL), or antialias=False (only works on Tensors - PIL will still use antialiasing). This also applies if you are using the inference transforms from the models weights: update the call to weights.transforms(antialias=True).\n",
      "  warnings.warn(\n"
     ]
    },
    {
     "name": "stdout",
     "output_type": "stream",
     "text": [
      "train_acc: 0.3674  val_acc: 0.4307\n",
      "Model successfully saved.\n",
      "Best validation accuracy so far:  0.4307\n",
      "\n",
      "Epoch:  2 / 50\n"
     ]
    },
    {
     "data": {
      "application/vnd.jupyter.widget-view+json": {
       "model_id": "fc085d91184e4f29bad61436b5ad813b",
       "version_major": 2,
       "version_minor": 0
      },
      "text/plain": [
       "  0%|          | 0/90 [00:00<?, ?it/s]"
      ]
     },
     "metadata": {},
     "output_type": "display_data"
    },
    {
     "name": "stdout",
     "output_type": "stream",
     "text": [
      "train_acc: 0.4781  val_acc: 0.4769\n",
      "Model successfully saved.\n",
      "Best validation accuracy so far:  0.4769\n",
      "\n",
      "Epoch:  3 / 50\n"
     ]
    },
    {
     "data": {
      "application/vnd.jupyter.widget-view+json": {
       "model_id": "0ce3ad748c7a46d687e3fe788be8549d",
       "version_major": 2,
       "version_minor": 0
      },
      "text/plain": [
       "  0%|          | 0/90 [00:00<?, ?it/s]"
      ]
     },
     "metadata": {},
     "output_type": "display_data"
    },
    {
     "name": "stdout",
     "output_type": "stream",
     "text": [
      "train_acc: 0.5142  val_acc: 0.5014\n",
      "Model successfully saved.\n",
      "Best validation accuracy so far:  0.5014\n",
      "\n",
      "Epoch:  4 / 50\n"
     ]
    },
    {
     "data": {
      "application/vnd.jupyter.widget-view+json": {
       "model_id": "55f3a6f7a5024101a8c41db2f92f6ffb",
       "version_major": 2,
       "version_minor": 0
      },
      "text/plain": [
       "  0%|          | 0/90 [00:00<?, ?it/s]"
      ]
     },
     "metadata": {},
     "output_type": "display_data"
    },
    {
     "name": "stdout",
     "output_type": "stream",
     "text": [
      "train_acc: 0.5531  val_acc: 0.5122\n",
      "Model successfully saved.\n",
      "Best validation accuracy so far:  0.5122\n",
      "\n",
      "Epoch:  5 / 50\n"
     ]
    },
    {
     "data": {
      "application/vnd.jupyter.widget-view+json": {
       "model_id": "4b4219db638d445ab5e8d35d6e7d381f",
       "version_major": 2,
       "version_minor": 0
      },
      "text/plain": [
       "  0%|          | 0/90 [00:00<?, ?it/s]"
      ]
     },
     "metadata": {},
     "output_type": "display_data"
    },
    {
     "name": "stdout",
     "output_type": "stream",
     "text": [
      "train_acc: 0.5642  val_acc: 0.5299\n",
      "Model successfully saved.\n",
      "Best validation accuracy so far:  0.5299\n",
      "\n",
      "Epoch:  6 / 50\n"
     ]
    },
    {
     "data": {
      "application/vnd.jupyter.widget-view+json": {
       "model_id": "2e0d3f3bf7a443e583e0a25c7af7cae2",
       "version_major": 2,
       "version_minor": 0
      },
      "text/plain": [
       "  0%|          | 0/90 [00:00<?, ?it/s]"
      ]
     },
     "metadata": {},
     "output_type": "display_data"
    },
    {
     "name": "stdout",
     "output_type": "stream",
     "text": [
      "train_acc: 0.5868  val_acc: 0.534\n",
      "Model successfully saved.\n",
      "Best validation accuracy so far:  0.534\n",
      "\n",
      "Epoch:  7 / 50\n"
     ]
    },
    {
     "data": {
      "application/vnd.jupyter.widget-view+json": {
       "model_id": "3d0678749e724e68a2ad30d3ab4032d3",
       "version_major": 2,
       "version_minor": 0
      },
      "text/plain": [
       "  0%|          | 0/90 [00:00<?, ?it/s]"
      ]
     },
     "metadata": {},
     "output_type": "display_data"
    },
    {
     "name": "stdout",
     "output_type": "stream",
     "text": [
      "train_acc: 0.5962  val_acc: 0.5177\n",
      "Best validation accuracy so far:  0.534\n",
      "\n",
      "Epoch:  8 / 50\n"
     ]
    },
    {
     "data": {
      "application/vnd.jupyter.widget-view+json": {
       "model_id": "9dd5ec177d684051b2259d553e62df52",
       "version_major": 2,
       "version_minor": 0
      },
      "text/plain": [
       "  0%|          | 0/90 [00:00<?, ?it/s]"
      ]
     },
     "metadata": {},
     "output_type": "display_data"
    },
    {
     "name": "stdout",
     "output_type": "stream",
     "text": [
      "train_acc: 0.6208  val_acc: 0.4932\n",
      "Best validation accuracy so far:  0.534\n",
      "\n",
      "Epoch:  9 / 50\n"
     ]
    },
    {
     "data": {
      "application/vnd.jupyter.widget-view+json": {
       "model_id": "13247ab772ac4964828ddca83599b928",
       "version_major": 2,
       "version_minor": 0
      },
      "text/plain": [
       "  0%|          | 0/90 [00:00<?, ?it/s]"
      ]
     },
     "metadata": {},
     "output_type": "display_data"
    },
    {
     "name": "stdout",
     "output_type": "stream",
     "text": [
      "train_acc: 0.6538  val_acc: 0.5435\n",
      "Model successfully saved.\n",
      "Best validation accuracy so far:  0.5435\n",
      "\n",
      "Epoch:  10 / 50\n"
     ]
    },
    {
     "data": {
      "application/vnd.jupyter.widget-view+json": {
       "model_id": "930a400078b54df2a3a64afca4963f95",
       "version_major": 2,
       "version_minor": 0
      },
      "text/plain": [
       "  0%|          | 0/90 [00:00<?, ?it/s]"
      ]
     },
     "metadata": {},
     "output_type": "display_data"
    },
    {
     "name": "stdout",
     "output_type": "stream",
     "text": [
      "train_acc: 0.6681  val_acc: 0.5462\n",
      "Model successfully saved.\n",
      "Best validation accuracy so far:  0.5462\n",
      "\n",
      "Epoch:  11 / 50\n"
     ]
    },
    {
     "data": {
      "application/vnd.jupyter.widget-view+json": {
       "model_id": "eb3561e4790a48cda0e3f0f4cf4773ca",
       "version_major": 2,
       "version_minor": 0
      },
      "text/plain": [
       "  0%|          | 0/90 [00:00<?, ?it/s]"
      ]
     },
     "metadata": {},
     "output_type": "display_data"
    },
    {
     "name": "stdout",
     "output_type": "stream",
     "text": [
      "train_acc: 0.6778  val_acc: 0.5245\n",
      "Best validation accuracy so far:  0.5462\n",
      "\n",
      "Epoch:  12 / 50\n"
     ]
    },
    {
     "data": {
      "application/vnd.jupyter.widget-view+json": {
       "model_id": "71ab01a9dbb34294bd9dfdeae8f47c91",
       "version_major": 2,
       "version_minor": 0
      },
      "text/plain": [
       "  0%|          | 0/90 [00:00<?, ?it/s]"
      ]
     },
     "metadata": {},
     "output_type": "display_data"
    },
    {
     "name": "stdout",
     "output_type": "stream",
     "text": [
      "train_acc: 0.6865  val_acc: 0.5353\n",
      "Best validation accuracy so far:  0.5462\n",
      "\n",
      "Epoch:  13 / 50\n"
     ]
    },
    {
     "data": {
      "application/vnd.jupyter.widget-view+json": {
       "model_id": "29a50ffa04f14aa9bed2884df3ebb2a5",
       "version_major": 2,
       "version_minor": 0
      },
      "text/plain": [
       "  0%|          | 0/90 [00:00<?, ?it/s]"
      ]
     },
     "metadata": {},
     "output_type": "display_data"
    },
    {
     "name": "stdout",
     "output_type": "stream",
     "text": [
      "train_acc: 0.7045  val_acc: 0.5571\n",
      "Model successfully saved.\n",
      "Best validation accuracy so far:  0.5571\n",
      "\n",
      "Epoch:  14 / 50\n"
     ]
    },
    {
     "data": {
      "application/vnd.jupyter.widget-view+json": {
       "model_id": "44e08659a3d74f94ae5b15430e67058f",
       "version_major": 2,
       "version_minor": 0
      },
      "text/plain": [
       "  0%|          | 0/90 [00:00<?, ?it/s]"
      ]
     },
     "metadata": {},
     "output_type": "display_data"
    },
    {
     "name": "stdout",
     "output_type": "stream",
     "text": [
      "train_acc: 0.7146  val_acc: 0.534\n",
      "Best validation accuracy so far:  0.5571\n",
      "\n",
      "Epoch:  15 / 50\n"
     ]
    },
    {
     "data": {
      "application/vnd.jupyter.widget-view+json": {
       "model_id": "4c16411d1d0e49dd8f1ad933d492d50c",
       "version_major": 2,
       "version_minor": 0
      },
      "text/plain": [
       "  0%|          | 0/90 [00:00<?, ?it/s]"
      ]
     },
     "metadata": {},
     "output_type": "display_data"
    },
    {
     "name": "stdout",
     "output_type": "stream",
     "text": [
      "train_acc: 0.7104  val_acc: 0.5557\n",
      "Best validation accuracy so far:  0.5571\n",
      "\n",
      "Epoch:  16 / 50\n"
     ]
    },
    {
     "data": {
      "application/vnd.jupyter.widget-view+json": {
       "model_id": "6f265c9098f944c0b76cc7ca356300c0",
       "version_major": 2,
       "version_minor": 0
      },
      "text/plain": [
       "  0%|          | 0/90 [00:00<?, ?it/s]"
      ]
     },
     "metadata": {},
     "output_type": "display_data"
    },
    {
     "name": "stdout",
     "output_type": "stream",
     "text": [
      "train_acc: 0.7455  val_acc: 0.5557\n",
      "Best validation accuracy so far:  0.5571\n",
      "\n",
      "Epoch:  17 / 50\n"
     ]
    },
    {
     "data": {
      "application/vnd.jupyter.widget-view+json": {
       "model_id": "cee5e0eb93f042c5b2a1b0ebeb1c62b2",
       "version_major": 2,
       "version_minor": 0
      },
      "text/plain": [
       "  0%|          | 0/90 [00:00<?, ?it/s]"
      ]
     },
     "metadata": {},
     "output_type": "display_data"
    },
    {
     "name": "stdout",
     "output_type": "stream",
     "text": [
      "train_acc: 0.7503  val_acc: 0.5693\n",
      "Model successfully saved.\n",
      "Best validation accuracy so far:  0.5693\n",
      "\n",
      "Epoch:  18 / 50\n"
     ]
    },
    {
     "data": {
      "application/vnd.jupyter.widget-view+json": {
       "model_id": "74bc64cfc4e54ca89924450ae7c9708e",
       "version_major": 2,
       "version_minor": 0
      },
      "text/plain": [
       "  0%|          | 0/90 [00:00<?, ?it/s]"
      ]
     },
     "metadata": {},
     "output_type": "display_data"
    },
    {
     "name": "stdout",
     "output_type": "stream",
     "text": [
      "train_acc: 0.7545  val_acc: 0.5448\n",
      "Best validation accuracy so far:  0.5693\n",
      "\n",
      "Epoch:  19 / 50\n"
     ]
    },
    {
     "data": {
      "application/vnd.jupyter.widget-view+json": {
       "model_id": "098bd7bdd2b24685b06dd9371210823c",
       "version_major": 2,
       "version_minor": 0
      },
      "text/plain": [
       "  0%|          | 0/90 [00:00<?, ?it/s]"
      ]
     },
     "metadata": {},
     "output_type": "display_data"
    },
    {
     "name": "stdout",
     "output_type": "stream",
     "text": [
      "train_acc: 0.7611  val_acc: 0.5571\n",
      "Best validation accuracy so far:  0.5693\n",
      "\n",
      "Epoch:  20 / 50\n"
     ]
    },
    {
     "data": {
      "application/vnd.jupyter.widget-view+json": {
       "model_id": "23b4738db0634002b83fcc203d2a788d",
       "version_major": 2,
       "version_minor": 0
      },
      "text/plain": [
       "  0%|          | 0/90 [00:00<?, ?it/s]"
      ]
     },
     "metadata": {},
     "output_type": "display_data"
    },
    {
     "name": "stdout",
     "output_type": "stream",
     "text": [
      "train_acc: 0.7729  val_acc: 0.5842\n",
      "Model successfully saved.\n",
      "Best validation accuracy so far:  0.5842\n",
      "\n",
      "Epoch:  21 / 50\n"
     ]
    },
    {
     "data": {
      "application/vnd.jupyter.widget-view+json": {
       "model_id": "93ff57687a6b40e0a80346bf2d4245e1",
       "version_major": 2,
       "version_minor": 0
      },
      "text/plain": [
       "  0%|          | 0/90 [00:00<?, ?it/s]"
      ]
     },
     "metadata": {},
     "output_type": "display_data"
    },
    {
     "name": "stdout",
     "output_type": "stream",
     "text": [
      "train_acc: 0.7889  val_acc: 0.5625\n",
      "Best validation accuracy so far:  0.5842\n",
      "\n",
      "Epoch:  22 / 50\n"
     ]
    },
    {
     "data": {
      "application/vnd.jupyter.widget-view+json": {
       "model_id": "7504659dd8ad4f27a97e681f99b74a18",
       "version_major": 2,
       "version_minor": 0
      },
      "text/plain": [
       "  0%|          | 0/90 [00:00<?, ?it/s]"
      ]
     },
     "metadata": {},
     "output_type": "display_data"
    },
    {
     "name": "stdout",
     "output_type": "stream",
     "text": [
      "train_acc: 0.7941  val_acc: 0.5842\n",
      "Best validation accuracy so far:  0.5842\n",
      "\n",
      "Epoch:  23 / 50\n"
     ]
    },
    {
     "data": {
      "application/vnd.jupyter.widget-view+json": {
       "model_id": "5bc4ae45a515416faf0151535056854f",
       "version_major": 2,
       "version_minor": 0
      },
      "text/plain": [
       "  0%|          | 0/90 [00:00<?, ?it/s]"
      ]
     },
     "metadata": {},
     "output_type": "display_data"
    },
    {
     "name": "stdout",
     "output_type": "stream",
     "text": [
      "train_acc: 0.7941  val_acc: 0.5448\n",
      "Best validation accuracy so far:  0.5842\n",
      "\n",
      "Epoch:  24 / 50\n"
     ]
    },
    {
     "data": {
      "application/vnd.jupyter.widget-view+json": {
       "model_id": "ff6f7be487144978bcdd87e63ab4edc6",
       "version_major": 2,
       "version_minor": 0
      },
      "text/plain": [
       "  0%|          | 0/90 [00:00<?, ?it/s]"
      ]
     },
     "metadata": {},
     "output_type": "display_data"
    },
    {
     "name": "stdout",
     "output_type": "stream",
     "text": [
      "train_acc: 0.8122  val_acc: 0.5679\n",
      "Best validation accuracy so far:  0.5842\n",
      "\n",
      "Epoch:  25 / 50\n"
     ]
    },
    {
     "data": {
      "application/vnd.jupyter.widget-view+json": {
       "model_id": "37a8674058b045ecadb9dd2aaf73e7f0",
       "version_major": 2,
       "version_minor": 0
      },
      "text/plain": [
       "  0%|          | 0/90 [00:00<?, ?it/s]"
      ]
     },
     "metadata": {},
     "output_type": "display_data"
    },
    {
     "name": "stdout",
     "output_type": "stream",
     "text": [
      "train_acc: 0.8198  val_acc: 0.5802\n",
      "Best validation accuracy so far:  0.5842\n",
      "\n",
      "Epoch:  26 / 50\n"
     ]
    },
    {
     "data": {
      "application/vnd.jupyter.widget-view+json": {
       "model_id": "859a8e2cc6b8455ea66c39c8b1adfca6",
       "version_major": 2,
       "version_minor": 0
      },
      "text/plain": [
       "  0%|          | 0/90 [00:00<?, ?it/s]"
      ]
     },
     "metadata": {},
     "output_type": "display_data"
    },
    {
     "name": "stdout",
     "output_type": "stream",
     "text": [
      "train_acc: 0.8163  val_acc: 0.591\n",
      "Model successfully saved.\n",
      "Best validation accuracy so far:  0.591\n",
      "\n",
      "Epoch:  27 / 50\n"
     ]
    },
    {
     "data": {
      "application/vnd.jupyter.widget-view+json": {
       "model_id": "7eba4b87f3b64af1a37a88df9788d8da",
       "version_major": 2,
       "version_minor": 0
      },
      "text/plain": [
       "  0%|          | 0/90 [00:00<?, ?it/s]"
      ]
     },
     "metadata": {},
     "output_type": "display_data"
    },
    {
     "name": "stdout",
     "output_type": "stream",
     "text": [
      "train_acc: 0.8406  val_acc: 0.5598\n",
      "Best validation accuracy so far:  0.591\n",
      "\n",
      "Epoch:  28 / 50\n"
     ]
    },
    {
     "data": {
      "application/vnd.jupyter.widget-view+json": {
       "model_id": "e5a9d80141504e2f9b311f4a232c81fa",
       "version_major": 2,
       "version_minor": 0
      },
      "text/plain": [
       "  0%|          | 0/90 [00:00<?, ?it/s]"
      ]
     },
     "metadata": {},
     "output_type": "display_data"
    },
    {
     "name": "stdout",
     "output_type": "stream",
     "text": [
      "train_acc: 0.8451  val_acc: 0.5666\n",
      "Best validation accuracy so far:  0.591\n",
      "\n",
      "Epoch:  29 / 50\n"
     ]
    },
    {
     "data": {
      "application/vnd.jupyter.widget-view+json": {
       "model_id": "e46177563f7442cdbc0631490b057514",
       "version_major": 2,
       "version_minor": 0
      },
      "text/plain": [
       "  0%|          | 0/90 [00:00<?, ?it/s]"
      ]
     },
     "metadata": {},
     "output_type": "display_data"
    },
    {
     "name": "stdout",
     "output_type": "stream",
     "text": [
      "train_acc: 0.8406  val_acc: 0.6101\n",
      "Model successfully saved.\n",
      "Best validation accuracy so far:  0.6101\n",
      "\n",
      "Epoch:  30 / 50\n"
     ]
    },
    {
     "data": {
      "application/vnd.jupyter.widget-view+json": {
       "model_id": "6ae927c731874a42bd72cb6f8a2a7843",
       "version_major": 2,
       "version_minor": 0
      },
      "text/plain": [
       "  0%|          | 0/90 [00:00<?, ?it/s]"
      ]
     },
     "metadata": {},
     "output_type": "display_data"
    },
    {
     "name": "stdout",
     "output_type": "stream",
     "text": [
      "train_acc: 0.8642  val_acc: 0.5802\n",
      "Best validation accuracy so far:  0.6101\n",
      "\n",
      "Epoch:  31 / 50\n"
     ]
    },
    {
     "data": {
      "application/vnd.jupyter.widget-view+json": {
       "model_id": "8e1289f306bc42f2b197a1a0b63ec1e3",
       "version_major": 2,
       "version_minor": 0
      },
      "text/plain": [
       "  0%|          | 0/90 [00:00<?, ?it/s]"
      ]
     },
     "metadata": {},
     "output_type": "display_data"
    },
    {
     "name": "stdout",
     "output_type": "stream",
     "text": [
      "train_acc: 0.8597  val_acc: 0.591\n",
      "Best validation accuracy so far:  0.6101\n",
      "\n",
      "Epoch:  32 / 50\n"
     ]
    },
    {
     "data": {
      "application/vnd.jupyter.widget-view+json": {
       "model_id": "94b1fd6e6829418a919d2bddfa85b412",
       "version_major": 2,
       "version_minor": 0
      },
      "text/plain": [
       "  0%|          | 0/90 [00:00<?, ?it/s]"
      ]
     },
     "metadata": {},
     "output_type": "display_data"
    },
    {
     "name": "stdout",
     "output_type": "stream",
     "text": [
      "train_acc: 0.8573  val_acc: 0.591\n",
      "Best validation accuracy so far:  0.6101\n",
      "\n",
      "Epoch:  33 / 50\n"
     ]
    },
    {
     "data": {
      "application/vnd.jupyter.widget-view+json": {
       "model_id": "6601acfa93cb4ffa80244f1566e7959c",
       "version_major": 2,
       "version_minor": 0
      },
      "text/plain": [
       "  0%|          | 0/90 [00:00<?, ?it/s]"
      ]
     },
     "metadata": {},
     "output_type": "display_data"
    },
    {
     "name": "stdout",
     "output_type": "stream",
     "text": [
      "train_acc: 0.8521  val_acc: 0.6073\n",
      "Best validation accuracy so far:  0.6101\n",
      "\n",
      "Epoch:  34 / 50\n"
     ]
    },
    {
     "data": {
      "application/vnd.jupyter.widget-view+json": {
       "model_id": "b59ff260caa44d1eaff02560edd6218e",
       "version_major": 2,
       "version_minor": 0
      },
      "text/plain": [
       "  0%|          | 0/90 [00:00<?, ?it/s]"
      ]
     },
     "metadata": {},
     "output_type": "display_data"
    },
    {
     "name": "stdout",
     "output_type": "stream",
     "text": [
      "train_acc: 0.8632  val_acc: 0.587\n",
      "Best validation accuracy so far:  0.6101\n",
      "\n",
      "Epoch:  35 / 50\n"
     ]
    },
    {
     "data": {
      "application/vnd.jupyter.widget-view+json": {
       "model_id": "416b2d9696c1468b9270f57334285e23",
       "version_major": 2,
       "version_minor": 0
      },
      "text/plain": [
       "  0%|          | 0/90 [00:00<?, ?it/s]"
      ]
     },
     "metadata": {},
     "output_type": "display_data"
    },
    {
     "name": "stdout",
     "output_type": "stream",
     "text": [
      "train_acc: 0.8726  val_acc: 0.5856\n",
      "Best validation accuracy so far:  0.6101\n",
      "\n",
      "Epoch:  36 / 50\n"
     ]
    },
    {
     "data": {
      "application/vnd.jupyter.widget-view+json": {
       "model_id": "fe32292ac53b44bf8dff773136198635",
       "version_major": 2,
       "version_minor": 0
      },
      "text/plain": [
       "  0%|          | 0/90 [00:00<?, ?it/s]"
      ]
     },
     "metadata": {},
     "output_type": "display_data"
    },
    {
     "name": "stdout",
     "output_type": "stream",
     "text": [
      "train_acc: 0.8743  val_acc: 0.591\n",
      "Best validation accuracy so far:  0.6101\n",
      "\n",
      "Epoch:  37 / 50\n"
     ]
    },
    {
     "data": {
      "application/vnd.jupyter.widget-view+json": {
       "model_id": "8408a5b1cc114f8fb2d1918fe60c7fc5",
       "version_major": 2,
       "version_minor": 0
      },
      "text/plain": [
       "  0%|          | 0/90 [00:00<?, ?it/s]"
      ]
     },
     "metadata": {},
     "output_type": "display_data"
    },
    {
     "name": "stdout",
     "output_type": "stream",
     "text": [
      "train_acc: 0.891  val_acc: 0.5815\n",
      "Best validation accuracy so far:  0.6101\n",
      "\n",
      "Epoch:  38 / 50\n"
     ]
    },
    {
     "data": {
      "application/vnd.jupyter.widget-view+json": {
       "model_id": "4c9d0dbcfa1f422a9d445ec44bbc92ac",
       "version_major": 2,
       "version_minor": 0
      },
      "text/plain": [
       "  0%|          | 0/90 [00:00<?, ?it/s]"
      ]
     },
     "metadata": {},
     "output_type": "display_data"
    },
    {
     "name": "stdout",
     "output_type": "stream",
     "text": [
      "train_acc: 0.8795  val_acc: 0.572\n",
      "Best validation accuracy so far:  0.6101\n",
      "\n",
      "Epoch:  39 / 50\n"
     ]
    },
    {
     "data": {
      "application/vnd.jupyter.widget-view+json": {
       "model_id": "98c286603605431384abe3cbf401540c",
       "version_major": 2,
       "version_minor": 0
      },
      "text/plain": [
       "  0%|          | 0/90 [00:00<?, ?it/s]"
      ]
     },
     "metadata": {},
     "output_type": "display_data"
    },
    {
     "name": "stdout",
     "output_type": "stream",
     "text": [
      "train_acc: 0.8809  val_acc: 0.6128\n",
      "Model successfully saved.\n",
      "Best validation accuracy so far:  0.6128\n",
      "\n",
      "Epoch:  40 / 50\n"
     ]
    },
    {
     "data": {
      "application/vnd.jupyter.widget-view+json": {
       "model_id": "0f292980d81a4118bf2c8f22d899b232",
       "version_major": 2,
       "version_minor": 0
      },
      "text/plain": [
       "  0%|          | 0/90 [00:00<?, ?it/s]"
      ]
     },
     "metadata": {},
     "output_type": "display_data"
    },
    {
     "name": "stdout",
     "output_type": "stream",
     "text": [
      "train_acc: 0.9024  val_acc: 0.572\n",
      "Best validation accuracy so far:  0.6128\n",
      "\n",
      "Epoch:  41 / 50\n"
     ]
    },
    {
     "data": {
      "application/vnd.jupyter.widget-view+json": {
       "model_id": "ae1e6ac1aa644ab0ba38ef0501e695c4",
       "version_major": 2,
       "version_minor": 0
      },
      "text/plain": [
       "  0%|          | 0/90 [00:00<?, ?it/s]"
      ]
     },
     "metadata": {},
     "output_type": "display_data"
    },
    {
     "name": "stdout",
     "output_type": "stream",
     "text": [
      "train_acc: 0.8951  val_acc: 0.5707\n",
      "Best validation accuracy so far:  0.6128\n",
      "\n",
      "Epoch:  42 / 50\n"
     ]
    },
    {
     "data": {
      "application/vnd.jupyter.widget-view+json": {
       "model_id": "c70ed1890da34a109b85c7399523dd46",
       "version_major": 2,
       "version_minor": 0
      },
      "text/plain": [
       "  0%|          | 0/90 [00:00<?, ?it/s]"
      ]
     },
     "metadata": {},
     "output_type": "display_data"
    },
    {
     "name": "stdout",
     "output_type": "stream",
     "text": [
      "train_acc: 0.8854  val_acc: 0.5938\n",
      "Best validation accuracy so far:  0.6128\n",
      "\n",
      "Epoch:  43 / 50\n"
     ]
    },
    {
     "data": {
      "application/vnd.jupyter.widget-view+json": {
       "model_id": "89547d8448b247139af3c20e60a2089c",
       "version_major": 2,
       "version_minor": 0
      },
      "text/plain": [
       "  0%|          | 0/90 [00:00<?, ?it/s]"
      ]
     },
     "metadata": {},
     "output_type": "display_data"
    },
    {
     "name": "stdout",
     "output_type": "stream",
     "text": [
      "train_acc: 0.9174  val_acc: 0.5707\n",
      "Best validation accuracy so far:  0.6128\n",
      "\n",
      "Epoch:  44 / 50\n"
     ]
    },
    {
     "data": {
      "application/vnd.jupyter.widget-view+json": {
       "model_id": "10b8753de2d348f2b3b2eca03e356a96",
       "version_major": 2,
       "version_minor": 0
      },
      "text/plain": [
       "  0%|          | 0/90 [00:00<?, ?it/s]"
      ]
     },
     "metadata": {},
     "output_type": "display_data"
    },
    {
     "name": "stdout",
     "output_type": "stream",
     "text": [
      "train_acc: 0.8851  val_acc: 0.5965\n",
      "Best validation accuracy so far:  0.6128\n",
      "\n",
      "Epoch:  45 / 50\n"
     ]
    },
    {
     "data": {
      "application/vnd.jupyter.widget-view+json": {
       "model_id": "fd67826dc6d54ca1b433d16c1ea366f5",
       "version_major": 2,
       "version_minor": 0
      },
      "text/plain": [
       "  0%|          | 0/90 [00:00<?, ?it/s]"
      ]
     },
     "metadata": {},
     "output_type": "display_data"
    },
    {
     "name": "stdout",
     "output_type": "stream",
     "text": [
      "train_acc: 0.899  val_acc: 0.5584\n",
      "Best validation accuracy so far:  0.6128\n",
      "\n",
      "Epoch:  46 / 50\n"
     ]
    },
    {
     "data": {
      "application/vnd.jupyter.widget-view+json": {
       "model_id": "7c3b4ebc05e444f1a62690abdbf3ba9a",
       "version_major": 2,
       "version_minor": 0
      },
      "text/plain": [
       "  0%|          | 0/90 [00:00<?, ?it/s]"
      ]
     },
     "metadata": {},
     "output_type": "display_data"
    },
    {
     "name": "stdout",
     "output_type": "stream",
     "text": [
      "train_acc: 0.9045  val_acc: 0.6019\n",
      "Best validation accuracy so far:  0.6128\n",
      "\n",
      "Epoch:  47 / 50\n"
     ]
    },
    {
     "data": {
      "application/vnd.jupyter.widget-view+json": {
       "model_id": "d97e5ef5b756413bbb1efe96d07e19cb",
       "version_major": 2,
       "version_minor": 0
      },
      "text/plain": [
       "  0%|          | 0/90 [00:00<?, ?it/s]"
      ]
     },
     "metadata": {},
     "output_type": "display_data"
    },
    {
     "name": "stdout",
     "output_type": "stream",
     "text": [
      "train_acc: 0.9108  val_acc: 0.6005\n",
      "Best validation accuracy so far:  0.6128\n",
      "\n",
      "Epoch:  48 / 50\n"
     ]
    },
    {
     "data": {
      "application/vnd.jupyter.widget-view+json": {
       "model_id": "45626277118343a68de9fbd7156977ca",
       "version_major": 2,
       "version_minor": 0
      },
      "text/plain": [
       "  0%|          | 0/90 [00:00<?, ?it/s]"
      ]
     },
     "metadata": {},
     "output_type": "display_data"
    },
    {
     "name": "stdout",
     "output_type": "stream",
     "text": [
      "train_acc: 0.9083  val_acc: 0.6114\n",
      "Best validation accuracy so far:  0.6128\n",
      "\n",
      "Epoch:  49 / 50\n"
     ]
    },
    {
     "data": {
      "application/vnd.jupyter.widget-view+json": {
       "model_id": "6231d6e7486c484d9a2df03c8d45d6e0",
       "version_major": 2,
       "version_minor": 0
      },
      "text/plain": [
       "  0%|          | 0/90 [00:00<?, ?it/s]"
      ]
     },
     "metadata": {},
     "output_type": "display_data"
    },
    {
     "name": "stdout",
     "output_type": "stream",
     "text": [
      "train_acc: 0.9128  val_acc: 0.6087\n",
      "Best validation accuracy so far:  0.6128\n",
      "\n",
      "Epoch:  50 / 50\n"
     ]
    },
    {
     "data": {
      "application/vnd.jupyter.widget-view+json": {
       "model_id": "cfcaa981d5c9424fa8150d1dc3a25e51",
       "version_major": 2,
       "version_minor": 0
      },
      "text/plain": [
       "  0%|          | 0/90 [00:00<?, ?it/s]"
      ]
     },
     "metadata": {},
     "output_type": "display_data"
    },
    {
     "name": "stdout",
     "output_type": "stream",
     "text": [
      "train_acc: 0.9066  val_acc: 0.5924\n",
      "Best validation accuracy so far:  0.6128\n"
     ]
    }
   ],
   "source": [
    "mobilenet_model = torchvision.models.mobilenet_v2(weights=torchvision.models.MobileNet_V2_Weights)\n",
    "new_conv = torch.nn.Conv2d(1, 32, kernel_size=3, stride=2, padding=1, bias=False)\n",
    "# with torch.no_grad():\n",
    "#     new_conv.weight[:, 0, :, :] = mobilenet_model.features[0].weight.sum(dim=1)\n",
    "mobilenet_model.features[0] = new_conv\n",
    "mobilenet_in_features = mobilenet_model.classifier[1].in_features\n",
    "mobilenet_model.classifier[1] = torch.nn.Linear(mobilenet_in_features,4)\n",
    "\n",
    "mobile_optimizer = torch.optim.Adam(mobilenet_model.parameters(),lr=0.0001,betas=(0.9,0.99),amsgrad=False)\n",
    "mobilenet_train_acc,mobilenet_val_acc,mobilenet_model,mobilenet_loss_with_epochs, mobilenet_val_loss_with_epochs = train_evaluate(mobilenet_model,mobile_optimizer,train_loader,val_loader,num_epochs=50,save_model_name=\"mobilenetmodel.pt\",dropout=0.5,learning_rate=0.0001,device=device)\n"
   ]
  },
  {
   "cell_type": "code",
   "execution_count": 23,
   "metadata": {},
   "outputs": [
    {
     "data": {
      "image/png": "[encoded data removed]",
      "text/plain": [
       "<Figure size 640x480 with 1 Axes>"
      ]
     },
     "metadata": {},
     "output_type": "display_data"
    },
    {
     "data": {
      "image/png": "[encoded data removed]",
      "text/plain": [
       "<Figure size 640x480 with 1 Axes>"
      ]
     },
     "metadata": {},
     "output_type": "display_data"
    }
   ],
   "source": [
    "import seaborn as sns\n",
    "sns.set_theme()\n",
    "plt.plot(mobilenet_val_acc,label=\"Validation\")\n",
    "plt.plot(mobilenet_train_acc,label=\"Train\")\n",
    "plt.xlabel(\"Epochs\")\n",
    "plt.ylabel(\"Accuracy\")\n",
    "plt.legend()\n",
    "plt.title(\"Training vs Validation Accuracy for Mobilenet backbone\")\n",
    "plt.savefig(\"plots/mobilenet_train_vs_validation_acc.png\")\n",
    "plt.show()\n",
    "\n",
    "plt.figure()\n",
    "plt.plot(mobilenet_loss_with_epochs,label=\"Train\")\n",
    "plt.plot(mobilenet_val_loss_with_epochs,label=\"Validation\")\n",
    "plt.title(\"MobileNet-Loss Curve\")\n",
    "plt.xlabel(\"Epochs\")\n",
    "plt.ylabel(\"Loss\")\n",
    "plt.legend()\n",
    "plt.savefig(\"plots/mobilenet_train_vs_val_loss.png\")\n",
    "plt.show()"
   ]
  },
  {
   "attachments": {},
   "cell_type": "markdown",
   "metadata": {},
   "source": [
    "# Training VGG16 model"
   ]
  },
  {
   "cell_type": "code",
   "execution_count": 42,
   "metadata": {},
   "outputs": [
    {
     "name": "stdout",
     "output_type": "stream",
     "text": [
      "\n",
      "Epoch:  1 / 50\n"
     ]
    },
    {
     "data": {
      "application/vnd.jupyter.widget-view+json": {
       "model_id": "a65bb992ff2b477ba051cbaa3453e041",
       "version_major": 2,
       "version_minor": 0
      },
      "text/plain": [
       "  0%|          | 0/90 [00:00<?, ?it/s]"
      ]
     },
     "metadata": {},
     "output_type": "display_data"
    },
    {
     "name": "stdout",
     "output_type": "stream",
     "text": [
      "train_acc: 0.3632  val_acc: 0.3492\n",
      "Model successfully saved.\n",
      "Best validation accuracy so far:  0.3492\n",
      "\n",
      "Epoch:  2 / 50\n"
     ]
    },
    {
     "data": {
      "application/vnd.jupyter.widget-view+json": {
       "model_id": "e3ca368de3c446f68cdefb6c358cd4e0",
       "version_major": 2,
       "version_minor": 0
      },
      "text/plain": [
       "  0%|          | 0/90 [00:00<?, ?it/s]"
      ]
     },
     "metadata": {},
     "output_type": "display_data"
    },
    {
     "name": "stdout",
     "output_type": "stream",
     "text": [
      "train_acc: 0.4601  val_acc: 0.3098\n",
      "Best validation accuracy so far:  0.3492\n",
      "\n",
      "Epoch:  3 / 50\n"
     ]
    },
    {
     "data": {
      "application/vnd.jupyter.widget-view+json": {
       "model_id": "7d207664c98a4de1bedc21545b596814",
       "version_major": 2,
       "version_minor": 0
      },
      "text/plain": [
       "  0%|          | 0/90 [00:00<?, ?it/s]"
      ]
     },
     "metadata": {},
     "output_type": "display_data"
    },
    {
     "name": "stdout",
     "output_type": "stream",
     "text": [
      "train_acc: 0.4799  val_acc: 0.428\n",
      "Model successfully saved.\n",
      "Best validation accuracy so far:  0.428\n",
      "\n",
      "Epoch:  4 / 50\n"
     ]
    },
    {
     "data": {
      "application/vnd.jupyter.widget-view+json": {
       "model_id": "485f19b25a314748b5bdf241bd5b0fca",
       "version_major": 2,
       "version_minor": 0
      },
      "text/plain": [
       "  0%|          | 0/90 [00:00<?, ?it/s]"
      ]
     },
     "metadata": {},
     "output_type": "display_data"
    },
    {
     "name": "stdout",
     "output_type": "stream",
     "text": [
      "train_acc: 0.4646  val_acc: 0.5543\n",
      "Model successfully saved.\n",
      "Best validation accuracy so far:  0.5543\n",
      "\n",
      "Epoch:  5 / 50\n"
     ]
    },
    {
     "data": {
      "application/vnd.jupyter.widget-view+json": {
       "model_id": "d05f021de7c64b1c8ad6c17f8a891c8f",
       "version_major": 2,
       "version_minor": 0
      },
      "text/plain": [
       "  0%|          | 0/90 [00:00<?, ?it/s]"
      ]
     },
     "metadata": {},
     "output_type": "display_data"
    },
    {
     "name": "stdout",
     "output_type": "stream",
     "text": [
      "train_acc: 0.5309  val_acc: 0.5258\n",
      "Best validation accuracy so far:  0.5543\n",
      "\n",
      "Epoch:  6 / 50\n"
     ]
    },
    {
     "data": {
      "application/vnd.jupyter.widget-view+json": {
       "model_id": "8953bb742b4e4544974987ba16b8b943",
       "version_major": 2,
       "version_minor": 0
      },
      "text/plain": [
       "  0%|          | 0/90 [00:00<?, ?it/s]"
      ]
     },
     "metadata": {},
     "output_type": "display_data"
    },
    {
     "name": "stdout",
     "output_type": "stream",
     "text": [
      "train_acc: 0.5566  val_acc: 0.4959\n",
      "Best validation accuracy so far:  0.5543\n",
      "\n",
      "Epoch:  7 / 50\n"
     ]
    },
    {
     "data": {
      "application/vnd.jupyter.widget-view+json": {
       "model_id": "8f2b5625f1504e458a6c17482090370b",
       "version_major": 2,
       "version_minor": 0
      },
      "text/plain": [
       "  0%|          | 0/90 [00:00<?, ?it/s]"
      ]
     },
     "metadata": {},
     "output_type": "display_data"
    },
    {
     "name": "stdout",
     "output_type": "stream",
     "text": [
      "train_acc: 0.5576  val_acc: 0.5408\n",
      "Best validation accuracy so far:  0.5543\n",
      "\n",
      "Epoch:  8 / 50\n"
     ]
    },
    {
     "data": {
      "application/vnd.jupyter.widget-view+json": {
       "model_id": "6db63837f5c944e5abd2676ee0096502",
       "version_major": 2,
       "version_minor": 0
      },
      "text/plain": [
       "  0%|          | 0/90 [00:00<?, ?it/s]"
      ]
     },
     "metadata": {},
     "output_type": "display_data"
    },
    {
     "name": "stdout",
     "output_type": "stream",
     "text": [
      "train_acc: 0.5677  val_acc: 0.5761\n",
      "Model successfully saved.\n",
      "Best validation accuracy so far:  0.5761\n",
      "\n",
      "Epoch:  9 / 50\n"
     ]
    },
    {
     "data": {
      "application/vnd.jupyter.widget-view+json": {
       "model_id": "7645d76820f04ac3bfd11d7e7dcba93f",
       "version_major": 2,
       "version_minor": 0
      },
      "text/plain": [
       "  0%|          | 0/90 [00:00<?, ?it/s]"
      ]
     },
     "metadata": {},
     "output_type": "display_data"
    },
    {
     "name": "stdout",
     "output_type": "stream",
     "text": [
      "train_acc: 0.5951  val_acc: 0.5516\n",
      "Best validation accuracy so far:  0.5761\n",
      "\n",
      "Epoch:  10 / 50\n"
     ]
    },
    {
     "data": {
      "application/vnd.jupyter.widget-view+json": {
       "model_id": "cdab137eee4c4eeb85d17b2bfc4e5fce",
       "version_major": 2,
       "version_minor": 0
      },
      "text/plain": [
       "  0%|          | 0/90 [00:00<?, ?it/s]"
      ]
     },
     "metadata": {},
     "output_type": "display_data"
    },
    {
     "name": "stdout",
     "output_type": "stream",
     "text": [
      "train_acc: 0.6073  val_acc: 0.5448\n",
      "Best validation accuracy so far:  0.5761\n",
      "\n",
      "Epoch:  11 / 50\n"
     ]
    },
    {
     "data": {
      "application/vnd.jupyter.widget-view+json": {
       "model_id": "84db979642e049cf9dbaba810b03725c",
       "version_major": 2,
       "version_minor": 0
      },
      "text/plain": [
       "  0%|          | 0/90 [00:00<?, ?it/s]"
      ]
     },
     "metadata": {},
     "output_type": "display_data"
    },
    {
     "name": "stdout",
     "output_type": "stream",
     "text": [
      "train_acc: 0.6042  val_acc: 0.534\n",
      "Best validation accuracy so far:  0.5761\n",
      "\n",
      "Epoch:  12 / 50\n"
     ]
    },
    {
     "data": {
      "application/vnd.jupyter.widget-view+json": {
       "model_id": "cc8bdecd10714d58aac1678084e83a3d",
       "version_major": 2,
       "version_minor": 0
      },
      "text/plain": [
       "  0%|          | 0/90 [00:00<?, ?it/s]"
      ]
     },
     "metadata": {},
     "output_type": "display_data"
    },
    {
     "name": "stdout",
     "output_type": "stream",
     "text": [
      "train_acc: 0.6156  val_acc: 0.5598\n",
      "Best validation accuracy so far:  0.5761\n",
      "\n",
      "Epoch:  13 / 50\n"
     ]
    },
    {
     "data": {
      "application/vnd.jupyter.widget-view+json": {
       "model_id": "18a25ad7dac14688b4011a42f9839fce",
       "version_major": 2,
       "version_minor": 0
      },
      "text/plain": [
       "  0%|          | 0/90 [00:00<?, ?it/s]"
      ]
     },
     "metadata": {},
     "output_type": "display_data"
    },
    {
     "name": "stdout",
     "output_type": "stream",
     "text": [
      "train_acc: 0.6392  val_acc: 0.5707\n",
      "Best validation accuracy so far:  0.5761\n",
      "\n",
      "Epoch:  14 / 50\n"
     ]
    },
    {
     "data": {
      "application/vnd.jupyter.widget-view+json": {
       "model_id": "e599f9f03cae46e2825375f941bb6bc4",
       "version_major": 2,
       "version_minor": 0
      },
      "text/plain": [
       "  0%|          | 0/90 [00:00<?, ?it/s]"
      ]
     },
     "metadata": {},
     "output_type": "display_data"
    },
    {
     "name": "stdout",
     "output_type": "stream",
     "text": [
      "train_acc: 0.6396  val_acc: 0.5856\n",
      "Model successfully saved.\n",
      "Best validation accuracy so far:  0.5856\n",
      "\n",
      "Epoch:  15 / 50\n"
     ]
    },
    {
     "data": {
      "application/vnd.jupyter.widget-view+json": {
       "model_id": "85cafba9fb5949af95bbc88a3fd8439a",
       "version_major": 2,
       "version_minor": 0
      },
      "text/plain": [
       "  0%|          | 0/90 [00:00<?, ?it/s]"
      ]
     },
     "metadata": {},
     "output_type": "display_data"
    },
    {
     "name": "stdout",
     "output_type": "stream",
     "text": [
      "train_acc: 0.6448  val_acc: 0.5516\n",
      "Best validation accuracy so far:  0.5856\n",
      "\n",
      "Epoch:  16 / 50\n"
     ]
    },
    {
     "data": {
      "application/vnd.jupyter.widget-view+json": {
       "model_id": "3dfc20af6e034ecaa25138b8ed65617e",
       "version_major": 2,
       "version_minor": 0
      },
      "text/plain": [
       "  0%|          | 0/90 [00:00<?, ?it/s]"
      ]
     },
     "metadata": {},
     "output_type": "display_data"
    },
    {
     "name": "stdout",
     "output_type": "stream",
     "text": [
      "train_acc: 0.6594  val_acc: 0.6033\n",
      "Model successfully saved.\n",
      "Best validation accuracy so far:  0.6033\n",
      "\n",
      "Epoch:  17 / 50\n"
     ]
    },
    {
     "data": {
      "application/vnd.jupyter.widget-view+json": {
       "model_id": "d5b2dcb758a943a0812698af18fc9259",
       "version_major": 2,
       "version_minor": 0
      },
      "text/plain": [
       "  0%|          | 0/90 [00:00<?, ?it/s]"
      ]
     },
     "metadata": {},
     "output_type": "display_data"
    },
    {
     "name": "stdout",
     "output_type": "stream",
     "text": [
      "train_acc: 0.6632  val_acc: 0.5299\n",
      "Best validation accuracy so far:  0.6033\n",
      "\n",
      "Epoch:  18 / 50\n"
     ]
    },
    {
     "data": {
      "application/vnd.jupyter.widget-view+json": {
       "model_id": "a0769729b9bf4fccbe5df59f0b8f6228",
       "version_major": 2,
       "version_minor": 0
      },
      "text/plain": [
       "  0%|          | 0/90 [00:00<?, ?it/s]"
      ]
     },
     "metadata": {},
     "output_type": "display_data"
    },
    {
     "name": "stdout",
     "output_type": "stream",
     "text": [
      "train_acc: 0.6729  val_acc: 0.5707\n",
      "Best validation accuracy so far:  0.6033\n",
      "\n",
      "Epoch:  19 / 50\n"
     ]
    },
    {
     "data": {
      "application/vnd.jupyter.widget-view+json": {
       "model_id": "4222c8fd546a4f8999b984a10822fb1e",
       "version_major": 2,
       "version_minor": 0
      },
      "text/plain": [
       "  0%|          | 0/90 [00:00<?, ?it/s]"
      ]
     },
     "metadata": {},
     "output_type": "display_data"
    },
    {
     "name": "stdout",
     "output_type": "stream",
     "text": [
      "train_acc: 0.6955  val_acc: 0.5571\n",
      "Best validation accuracy so far:  0.6033\n",
      "\n",
      "Epoch:  20 / 50\n"
     ]
    },
    {
     "data": {
      "application/vnd.jupyter.widget-view+json": {
       "model_id": "323c77262ba6430085a281ed7c99fc9e",
       "version_major": 2,
       "version_minor": 0
      },
      "text/plain": [
       "  0%|          | 0/90 [00:00<?, ?it/s]"
      ]
     },
     "metadata": {},
     "output_type": "display_data"
    },
    {
     "name": "stdout",
     "output_type": "stream",
     "text": [
      "train_acc: 0.7014  val_acc: 0.5842\n",
      "Best validation accuracy so far:  0.6033\n",
      "\n",
      "Epoch:  21 / 50\n"
     ]
    },
    {
     "data": {
      "application/vnd.jupyter.widget-view+json": {
       "model_id": "3c8df942ec2042a4948fd1c889dac917",
       "version_major": 2,
       "version_minor": 0
      },
      "text/plain": [
       "  0%|          | 0/90 [00:00<?, ?it/s]"
      ]
     },
     "metadata": {},
     "output_type": "display_data"
    },
    {
     "name": "stdout",
     "output_type": "stream",
     "text": [
      "train_acc: 0.6931  val_acc: 0.6209\n",
      "Model successfully saved.\n",
      "Best validation accuracy so far:  0.6209\n",
      "\n",
      "Epoch:  22 / 50\n"
     ]
    },
    {
     "data": {
      "application/vnd.jupyter.widget-view+json": {
       "model_id": "3e679cf6cec1405d989c8da8235cd066",
       "version_major": 2,
       "version_minor": 0
      },
      "text/plain": [
       "  0%|          | 0/90 [00:00<?, ?it/s]"
      ]
     },
     "metadata": {},
     "output_type": "display_data"
    },
    {
     "name": "stdout",
     "output_type": "stream",
     "text": [
      "train_acc: 0.7219  val_acc: 0.5761\n",
      "Best validation accuracy so far:  0.6209\n",
      "\n",
      "Epoch:  23 / 50\n"
     ]
    },
    {
     "data": {
      "application/vnd.jupyter.widget-view+json": {
       "model_id": "50ea2907330a4c329e62d541ddaa0eed",
       "version_major": 2,
       "version_minor": 0
      },
      "text/plain": [
       "  0%|          | 0/90 [00:00<?, ?it/s]"
      ]
     },
     "metadata": {},
     "output_type": "display_data"
    },
    {
     "name": "stdout",
     "output_type": "stream",
     "text": [
      "train_acc: 0.7212  val_acc: 0.5978\n",
      "Best validation accuracy so far:  0.6209\n",
      "\n",
      "Epoch:  24 / 50\n"
     ]
    },
    {
     "data": {
      "application/vnd.jupyter.widget-view+json": {
       "model_id": "0f7234bfa3f94af480c814914a41f8cd",
       "version_major": 2,
       "version_minor": 0
      },
      "text/plain": [
       "  0%|          | 0/90 [00:00<?, ?it/s]"
      ]
     },
     "metadata": {},
     "output_type": "display_data"
    },
    {
     "name": "stdout",
     "output_type": "stream",
     "text": [
      "train_acc: 0.7469  val_acc: 0.591\n",
      "Best validation accuracy so far:  0.6209\n",
      "\n",
      "Epoch:  25 / 50\n"
     ]
    },
    {
     "data": {
      "application/vnd.jupyter.widget-view+json": {
       "model_id": "76ac6b5f589540978b225e07e48a352d",
       "version_major": 2,
       "version_minor": 0
      },
      "text/plain": [
       "  0%|          | 0/90 [00:00<?, ?it/s]"
      ]
     },
     "metadata": {},
     "output_type": "display_data"
    },
    {
     "name": "stdout",
     "output_type": "stream",
     "text": [
      "train_acc: 0.7323  val_acc: 0.6046\n",
      "Best validation accuracy so far:  0.6209\n",
      "\n",
      "Epoch:  26 / 50\n"
     ]
    },
    {
     "data": {
      "application/vnd.jupyter.widget-view+json": {
       "model_id": "a1a70a9eb3f74d859948d6672db1cf96",
       "version_major": 2,
       "version_minor": 0
      },
      "text/plain": [
       "  0%|          | 0/90 [00:00<?, ?it/s]"
      ]
     },
     "metadata": {},
     "output_type": "display_data"
    },
    {
     "name": "stdout",
     "output_type": "stream",
     "text": [
      "train_acc: 0.7649  val_acc: 0.6128\n",
      "Best validation accuracy so far:  0.6209\n",
      "\n",
      "Epoch:  27 / 50\n"
     ]
    },
    {
     "data": {
      "application/vnd.jupyter.widget-view+json": {
       "model_id": "f90e57d34b9f4970b817fcd173c2d064",
       "version_major": 2,
       "version_minor": 0
      },
      "text/plain": [
       "  0%|          | 0/90 [00:00<?, ?it/s]"
      ]
     },
     "metadata": {},
     "output_type": "display_data"
    },
    {
     "name": "stdout",
     "output_type": "stream",
     "text": [
      "train_acc: 0.7792  val_acc: 0.6101\n",
      "Best validation accuracy so far:  0.6209\n",
      "\n",
      "Epoch:  28 / 50\n"
     ]
    },
    {
     "data": {
      "application/vnd.jupyter.widget-view+json": {
       "model_id": "6cc3082a8ab54b4381bf51b1ad2370c0",
       "version_major": 2,
       "version_minor": 0
      },
      "text/plain": [
       "  0%|          | 0/90 [00:00<?, ?it/s]"
      ]
     },
     "metadata": {},
     "output_type": "display_data"
    },
    {
     "name": "stdout",
     "output_type": "stream",
     "text": [
      "train_acc: 0.8049  val_acc: 0.6087\n",
      "Best validation accuracy so far:  0.6209\n",
      "\n",
      "Epoch:  29 / 50\n"
     ]
    },
    {
     "data": {
      "application/vnd.jupyter.widget-view+json": {
       "model_id": "0f14f5a11b7c405b949d3a8044fa9a75",
       "version_major": 2,
       "version_minor": 0
      },
      "text/plain": [
       "  0%|          | 0/90 [00:00<?, ?it/s]"
      ]
     },
     "metadata": {},
     "output_type": "display_data"
    },
    {
     "name": "stdout",
     "output_type": "stream",
     "text": [
      "train_acc: 0.8  val_acc: 0.5815\n",
      "Best validation accuracy so far:  0.6209\n",
      "\n",
      "Epoch:  30 / 50\n"
     ]
    },
    {
     "data": {
      "application/vnd.jupyter.widget-view+json": {
       "model_id": "2db8f1adf9364edcab27edc19546b390",
       "version_major": 2,
       "version_minor": 0
      },
      "text/plain": [
       "  0%|          | 0/90 [00:00<?, ?it/s]"
      ]
     },
     "metadata": {},
     "output_type": "display_data"
    },
    {
     "name": "stdout",
     "output_type": "stream",
     "text": [
      "train_acc: 0.7847  val_acc: 0.6223\n",
      "Model successfully saved.\n",
      "Best validation accuracy so far:  0.6223\n",
      "\n",
      "Epoch:  31 / 50\n"
     ]
    },
    {
     "data": {
      "application/vnd.jupyter.widget-view+json": {
       "model_id": "4851b631d8da4e69bea6004c778bad88",
       "version_major": 2,
       "version_minor": 0
      },
      "text/plain": [
       "  0%|          | 0/90 [00:00<?, ?it/s]"
      ]
     },
     "metadata": {},
     "output_type": "display_data"
    },
    {
     "name": "stdout",
     "output_type": "stream",
     "text": [
      "train_acc: 0.8069  val_acc: 0.6196\n",
      "Best validation accuracy so far:  0.6223\n",
      "\n",
      "Epoch:  32 / 50\n"
     ]
    },
    {
     "data": {
      "application/vnd.jupyter.widget-view+json": {
       "model_id": "c390bdd3d1694053ab3d231e989328e8",
       "version_major": 2,
       "version_minor": 0
      },
      "text/plain": [
       "  0%|          | 0/90 [00:00<?, ?it/s]"
      ]
     },
     "metadata": {},
     "output_type": "display_data"
    },
    {
     "name": "stdout",
     "output_type": "stream",
     "text": [
      "train_acc: 0.834  val_acc: 0.5992\n",
      "Best validation accuracy so far:  0.6223\n",
      "\n",
      "Epoch:  33 / 50\n"
     ]
    },
    {
     "data": {
      "application/vnd.jupyter.widget-view+json": {
       "model_id": "dbe5ffe0a86642c39e9db9e9a97a02e8",
       "version_major": 2,
       "version_minor": 0
      },
      "text/plain": [
       "  0%|          | 0/90 [00:00<?, ?it/s]"
      ]
     },
     "metadata": {},
     "output_type": "display_data"
    },
    {
     "name": "stdout",
     "output_type": "stream",
     "text": [
      "train_acc: 0.8226  val_acc: 0.6277\n",
      "Model successfully saved.\n",
      "Best validation accuracy so far:  0.6277\n",
      "\n",
      "Epoch:  34 / 50\n"
     ]
    },
    {
     "data": {
      "application/vnd.jupyter.widget-view+json": {
       "model_id": "1ddcb97e57ff40f8b760e7a4adac5a6b",
       "version_major": 2,
       "version_minor": 0
      },
      "text/plain": [
       "  0%|          | 0/90 [00:00<?, ?it/s]"
      ]
     },
     "metadata": {},
     "output_type": "display_data"
    },
    {
     "name": "stdout",
     "output_type": "stream",
     "text": [
      "train_acc: 0.8413  val_acc: 0.6332\n",
      "Model successfully saved.\n",
      "Best validation accuracy so far:  0.6332\n",
      "\n",
      "Epoch:  35 / 50\n"
     ]
    },
    {
     "data": {
      "application/vnd.jupyter.widget-view+json": {
       "model_id": "04b24fbf49e24db788d339e25281a42e",
       "version_major": 2,
       "version_minor": 0
      },
      "text/plain": [
       "  0%|          | 0/90 [00:00<?, ?it/s]"
      ]
     },
     "metadata": {},
     "output_type": "display_data"
    },
    {
     "name": "stdout",
     "output_type": "stream",
     "text": [
      "train_acc: 0.8514  val_acc: 0.6141\n",
      "Best validation accuracy so far:  0.6332\n",
      "\n",
      "Epoch:  36 / 50\n"
     ]
    },
    {
     "data": {
      "application/vnd.jupyter.widget-view+json": {
       "model_id": "0427cf6c819a4b25aac8022ffb7ae2e9",
       "version_major": 2,
       "version_minor": 0
      },
      "text/plain": [
       "  0%|          | 0/90 [00:00<?, ?it/s]"
      ]
     },
     "metadata": {},
     "output_type": "display_data"
    },
    {
     "name": "stdout",
     "output_type": "stream",
     "text": [
      "train_acc: 0.8361  val_acc: 0.606\n",
      "Best validation accuracy so far:  0.6332\n",
      "\n",
      "Epoch:  37 / 50\n"
     ]
    },
    {
     "data": {
      "application/vnd.jupyter.widget-view+json": {
       "model_id": "8648c4f45dfc43b587af7790efad9b0e",
       "version_major": 2,
       "version_minor": 0
      },
      "text/plain": [
       "  0%|          | 0/90 [00:00<?, ?it/s]"
      ]
     },
     "metadata": {},
     "output_type": "display_data"
    },
    {
     "name": "stdout",
     "output_type": "stream",
     "text": [
      "train_acc: 0.8674  val_acc: 0.5992\n",
      "Best validation accuracy so far:  0.6332\n",
      "\n",
      "Epoch:  38 / 50\n"
     ]
    },
    {
     "data": {
      "application/vnd.jupyter.widget-view+json": {
       "model_id": "02d8979a9052473aa142fac0dead70fe",
       "version_major": 2,
       "version_minor": 0
      },
      "text/plain": [
       "  0%|          | 0/90 [00:00<?, ?it/s]"
      ]
     },
     "metadata": {},
     "output_type": "display_data"
    },
    {
     "name": "stdout",
     "output_type": "stream",
     "text": [
      "train_acc: 0.8872  val_acc: 0.5978\n",
      "Best validation accuracy so far:  0.6332\n",
      "\n",
      "Epoch:  39 / 50\n"
     ]
    },
    {
     "data": {
      "application/vnd.jupyter.widget-view+json": {
       "model_id": "a6fa7dcd48c948cdaeb3236d1bcad263",
       "version_major": 2,
       "version_minor": 0
      },
      "text/plain": [
       "  0%|          | 0/90 [00:00<?, ?it/s]"
      ]
     },
     "metadata": {},
     "output_type": "display_data"
    },
    {
     "name": "stdout",
     "output_type": "stream",
     "text": [
      "train_acc: 0.8792  val_acc: 0.6291\n",
      "Best validation accuracy so far:  0.6332\n",
      "\n",
      "Epoch:  40 / 50\n"
     ]
    },
    {
     "data": {
      "application/vnd.jupyter.widget-view+json": {
       "model_id": "5855762e213048aa8119abd44fa969cf",
       "version_major": 2,
       "version_minor": 0
      },
      "text/plain": [
       "  0%|          | 0/90 [00:00<?, ?it/s]"
      ]
     },
     "metadata": {},
     "output_type": "display_data"
    },
    {
     "name": "stdout",
     "output_type": "stream",
     "text": [
      "train_acc: 0.8778  val_acc: 0.6155\n",
      "Best validation accuracy so far:  0.6332\n",
      "\n",
      "Epoch:  41 / 50\n"
     ]
    },
    {
     "data": {
      "application/vnd.jupyter.widget-view+json": {
       "model_id": "d73a01615705463a868b5a1f792c2e25",
       "version_major": 2,
       "version_minor": 0
      },
      "text/plain": [
       "  0%|          | 0/90 [00:00<?, ?it/s]"
      ]
     },
     "metadata": {},
     "output_type": "display_data"
    },
    {
     "name": "stdout",
     "output_type": "stream",
     "text": [
      "train_acc: 0.8726  val_acc: 0.6264\n",
      "Best validation accuracy so far:  0.6332\n",
      "\n",
      "Epoch:  42 / 50\n"
     ]
    },
    {
     "data": {
      "application/vnd.jupyter.widget-view+json": {
       "model_id": "7ae1f0b01b094bbfaaf11846c97c4aae",
       "version_major": 2,
       "version_minor": 0
      },
      "text/plain": [
       "  0%|          | 0/90 [00:00<?, ?it/s]"
      ]
     },
     "metadata": {},
     "output_type": "display_data"
    },
    {
     "name": "stdout",
     "output_type": "stream",
     "text": [
      "train_acc: 0.8944  val_acc: 0.5883\n",
      "Best validation accuracy so far:  0.6332\n",
      "\n",
      "Epoch:  43 / 50\n"
     ]
    },
    {
     "data": {
      "application/vnd.jupyter.widget-view+json": {
       "model_id": "70e49a470dc947f0998af0697db56934",
       "version_major": 2,
       "version_minor": 0
      },
      "text/plain": [
       "  0%|          | 0/90 [00:00<?, ?it/s]"
      ]
     },
     "metadata": {},
     "output_type": "display_data"
    },
    {
     "name": "stdout",
     "output_type": "stream",
     "text": [
      "train_acc: 0.8958  val_acc: 0.6413\n",
      "Model successfully saved.\n",
      "Best validation accuracy so far:  0.6413\n",
      "\n",
      "Epoch:  44 / 50\n"
     ]
    },
    {
     "data": {
      "application/vnd.jupyter.widget-view+json": {
       "model_id": "7ddc63af816d4a1f80c6271204a759fa",
       "version_major": 2,
       "version_minor": 0
      },
      "text/plain": [
       "  0%|          | 0/90 [00:00<?, ?it/s]"
      ]
     },
     "metadata": {},
     "output_type": "display_data"
    },
    {
     "name": "stdout",
     "output_type": "stream",
     "text": [
      "train_acc: 0.8903  val_acc: 0.6236\n",
      "Best validation accuracy so far:  0.6413\n",
      "\n",
      "Epoch:  45 / 50\n"
     ]
    },
    {
     "data": {
      "application/vnd.jupyter.widget-view+json": {
       "model_id": "4bb8dc7f7de94b698d93b78814ae0f5e",
       "version_major": 2,
       "version_minor": 0
      },
      "text/plain": [
       "  0%|          | 0/90 [00:00<?, ?it/s]"
      ]
     },
     "metadata": {},
     "output_type": "display_data"
    },
    {
     "name": "stdout",
     "output_type": "stream",
     "text": [
      "train_acc: 0.8948  val_acc: 0.5965\n",
      "Best validation accuracy so far:  0.6413\n",
      "\n",
      "Epoch:  46 / 50\n"
     ]
    },
    {
     "data": {
      "application/vnd.jupyter.widget-view+json": {
       "model_id": "b194e0736ca74348ba5c40ab8406fe9f",
       "version_major": 2,
       "version_minor": 0
      },
      "text/plain": [
       "  0%|          | 0/90 [00:00<?, ?it/s]"
      ]
     },
     "metadata": {},
     "output_type": "display_data"
    },
    {
     "name": "stdout",
     "output_type": "stream",
     "text": [
      "train_acc: 0.9083  val_acc: 0.6495\n",
      "Model successfully saved.\n",
      "Best validation accuracy so far:  0.6495\n",
      "\n",
      "Epoch:  47 / 50\n"
     ]
    },
    {
     "data": {
      "application/vnd.jupyter.widget-view+json": {
       "model_id": "53981d4b49a6404fb6fe4dcfb680df82",
       "version_major": 2,
       "version_minor": 0
      },
      "text/plain": [
       "  0%|          | 0/90 [00:00<?, ?it/s]"
      ]
     },
     "metadata": {},
     "output_type": "display_data"
    },
    {
     "name": "stdout",
     "output_type": "stream",
     "text": [
      "train_acc: 0.901  val_acc: 0.6073\n",
      "Best validation accuracy so far:  0.6495\n",
      "\n",
      "Epoch:  48 / 50\n"
     ]
    },
    {
     "data": {
      "application/vnd.jupyter.widget-view+json": {
       "model_id": "c139d9778fb44a4d80d63f5c834c270a",
       "version_major": 2,
       "version_minor": 0
      },
      "text/plain": [
       "  0%|          | 0/90 [00:00<?, ?it/s]"
      ]
     },
     "metadata": {},
     "output_type": "display_data"
    },
    {
     "name": "stdout",
     "output_type": "stream",
     "text": [
      "train_acc: 0.9028  val_acc: 0.6019\n",
      "Best validation accuracy so far:  0.6495\n",
      "\n",
      "Epoch:  49 / 50\n"
     ]
    },
    {
     "data": {
      "application/vnd.jupyter.widget-view+json": {
       "model_id": "6f2aecc92d584de885678bc3dedd4489",
       "version_major": 2,
       "version_minor": 0
      },
      "text/plain": [
       "  0%|          | 0/90 [00:00<?, ?it/s]"
      ]
     },
     "metadata": {},
     "output_type": "display_data"
    },
    {
     "name": "stdout",
     "output_type": "stream",
     "text": [
      "train_acc: 0.9132  val_acc: 0.5965\n",
      "Best validation accuracy so far:  0.6495\n",
      "\n",
      "Epoch:  50 / 50\n"
     ]
    },
    {
     "data": {
      "application/vnd.jupyter.widget-view+json": {
       "model_id": "506cb7b5a22b424296be817bdc446f02",
       "version_major": 2,
       "version_minor": 0
      },
      "text/plain": [
       "  0%|          | 0/90 [00:00<?, ?it/s]"
      ]
     },
     "metadata": {},
     "output_type": "display_data"
    },
    {
     "name": "stdout",
     "output_type": "stream",
     "text": [
      "train_acc: 0.8927  val_acc: 0.6141\n",
      "Best validation accuracy so far:  0.6495\n"
     ]
    }
   ],
   "source": [
    "device=\"cuda\"\n",
    "vgg16_model = torchvision.models.vgg16(weights=torchvision.models.VGG16_Weights.DEFAULT)\n",
    "vgg16_model.features[0]=torch.nn.Conv2d(1,64,kernel_size=3,padding=1,stride=1)\n",
    "vgg_in_features = vgg16_model.classifier[6].in_features\n",
    "vgg16_model.classifier[6] = torch.nn.Linear(vgg_in_features,4)\n",
    "vgg_optimizer = torch.optim.Adam(vgg16_model.parameters(),lr=0.0001,betas=(0.9,0.99),amsgrad=False)\n",
    "vgg16_train_acc,vgg16_val_acc,vgg16_model,vgg16_loss_with_epochs,vgg16_val_loss_with_epochs = train_evaluate(vgg16_model,vgg_optimizer,train_loader,val_loader,num_epochs=50,save_model_name=\"vgg16model.pt\",dropout=0.5,learning_rate=0.0001,device=device)\n"
   ]
  },
  {
   "cell_type": "code",
   "execution_count": 44,
   "metadata": {},
   "outputs": [
    {
     "data": {
      "image/png": "[encoded data removed]",
      "text/plain": [
       "<Figure size 640x480 with 1 Axes>"
      ]
     },
     "metadata": {},
     "output_type": "display_data"
    },
    {
     "data": {
      "image/png": "[encoded data removed]",
      "text/plain": [
       "<Figure size 640x480 with 1 Axes>"
      ]
     },
     "metadata": {},
     "output_type": "display_data"
    }
   ],
   "source": [
    "plt.figure()\n",
    "plt.plot(vgg16_val_acc,label=\"Validation\")\n",
    "plt.plot(vgg16_train_acc,label=\"Train\")\n",
    "plt.legend()\n",
    "plt.title(\"Training vs Validation Accuracy for Vgg16 backbone\")\n",
    "plt.xlabel(\"Epochs\")\n",
    "plt.ylabel(\"Accuracy\")\n",
    "plt.savefig(\"plots/Vgg16_train_vs_validation_acc.png\")\n",
    "\n",
    "plt.figure()\n",
    "plt.plot(vgg16_loss_with_epochs,label=\"Train\")\n",
    "plt.plot(vgg16_val_loss_with_epochs,label=\"Validation\")\n",
    "plt.title(\"Vgg16-Loss Curve\")\n",
    "plt.xlabel(\"Epochs\")\n",
    "plt.ylabel(\"Loss\")\n",
    "plt.legend()\n",
    "plt.savefig(\"plots/Vgg16_train_vs_val_loss.png\")"
   ]
  },
  {
   "attachments": {},
   "cell_type": "markdown",
   "metadata": {},
   "source": [
    "# Training Hybrid CNN-RNN Model"
   ]
  },
  {
   "cell_type": "code",
   "execution_count": 37,
   "metadata": {
    "id": "pkgEptHZkkx6"
   },
   "outputs": [
    {
     "name": "stdout",
     "output_type": "stream",
     "text": [
      "\n",
      "Epoch:  1 / 50\n"
     ]
    },
    {
     "data": {
      "application/vnd.jupyter.widget-view+json": {
       "model_id": "6368c8900dbb49b3b11a047d5ffdbb40",
       "version_major": 2,
       "version_minor": 0
      },
      "text/plain": [
       "  0%|          | 0/90 [00:00<?, ?it/s]"
      ]
     },
     "metadata": {},
     "output_type": "display_data"
    },
    {
     "name": "stderr",
     "output_type": "stream",
     "text": [
      "/home/user/.local/lib/python3.8/site-packages/torchvision/transforms/functional.py:1603: UserWarning: The default value of the antialias parameter of all the resizing transforms (Resize(), RandomResizedCrop(), etc.) will change from None to True in v0.17, in order to be consistent across the PIL and Tensor backends. To suppress this warning, directly pass antialias=True (recommended, future default), antialias=None (current default, which means False for Tensors and True for PIL), or antialias=False (only works on Tensors - PIL will still use antialiasing). This also applies if you are using the inference transforms from the models weights: update the call to weights.transforms(antialias=True).\n",
      "  warnings.warn(\n",
      "/home/user/.local/lib/python3.8/site-packages/torch/nn/modules/container.py:217: UserWarning: Implicit dimension choice for softmax has been deprecated. Change the call to include dim=X as an argument.\n",
      "  input = module(input)\n"
     ]
    },
    {
     "name": "stdout",
     "output_type": "stream",
     "text": [
      "train_acc: 0.3684  val_acc: 0.197\n",
      "Model saved at model.pt\n",
      "Best train loss: 0.043451348774962956\n",
      "\n",
      "Epoch:  2 / 50\n"
     ]
    },
    {
     "data": {
      "application/vnd.jupyter.widget-view+json": {
       "model_id": "926e19c2af2449e481b1f49c7d7be945",
       "version_major": 2,
       "version_minor": 0
      },
      "text/plain": [
       "  0%|          | 0/90 [00:00<?, ?it/s]"
      ]
     },
     "metadata": {},
     "output_type": "display_data"
    },
    {
     "name": "stdout",
     "output_type": "stream",
     "text": [
      "train_acc: 0.1844  val_acc: 0.2989\n",
      "Model saved at model.pt\n",
      "Best train loss: 0.043191096641951136\n",
      "\n",
      "Epoch:  3 / 50\n"
     ]
    },
    {
     "data": {
      "application/vnd.jupyter.widget-view+json": {
       "model_id": "ad3cc9fa28444479ad7dd2a5a1e15839",
       "version_major": 2,
       "version_minor": 0
      },
      "text/plain": [
       "  0%|          | 0/90 [00:00<?, ?it/s]"
      ]
     },
     "metadata": {},
     "output_type": "display_data"
    },
    {
     "name": "stdout",
     "output_type": "stream",
     "text": [
      "train_acc: 0.4174  val_acc: 0.4579\n",
      "Model saved at model.pt\n",
      "Best train loss: 0.042652966247664556\n",
      "\n",
      "Epoch:  4 / 50\n"
     ]
    },
    {
     "data": {
      "application/vnd.jupyter.widget-view+json": {
       "model_id": "ac60cd0cfe1a419f9dc5bdd63a21a1a4",
       "version_major": 2,
       "version_minor": 0
      },
      "text/plain": [
       "  0%|          | 0/90 [00:00<?, ?it/s]"
      ]
     },
     "metadata": {},
     "output_type": "display_data"
    },
    {
     "name": "stdout",
     "output_type": "stream",
     "text": [
      "train_acc: 0.4892  val_acc: 0.4552\n",
      "Model saved at model.pt\n",
      "Best train loss: 0.04198171935147709\n",
      "\n",
      "Epoch:  5 / 50\n"
     ]
    },
    {
     "data": {
      "application/vnd.jupyter.widget-view+json": {
       "model_id": "e7f035e1e5db42ccb9e069898128c256",
       "version_major": 2,
       "version_minor": 0
      },
      "text/plain": [
       "  0%|          | 0/90 [00:00<?, ?it/s]"
      ]
     },
     "metadata": {},
     "output_type": "display_data"
    },
    {
     "name": "stdout",
     "output_type": "stream",
     "text": [
      "train_acc: 0.466  val_acc: 0.4565\n",
      "Model saved at model.pt\n",
      "Best train loss: 0.04190903575056129\n",
      "\n",
      "Epoch:  6 / 50\n"
     ]
    },
    {
     "data": {
      "application/vnd.jupyter.widget-view+json": {
       "model_id": "ad2db11c41f9452b8215f29005cc377d",
       "version_major": 2,
       "version_minor": 0
      },
      "text/plain": [
       "  0%|          | 0/90 [00:00<?, ?it/s]"
      ]
     },
     "metadata": {},
     "output_type": "display_data"
    },
    {
     "name": "stdout",
     "output_type": "stream",
     "text": [
      "train_acc: 0.4288  val_acc: 0.4633\n",
      "Model saved at model.pt\n",
      "Best train loss: 0.041439861555894214\n",
      "\n",
      "Epoch:  7 / 50\n"
     ]
    },
    {
     "data": {
      "application/vnd.jupyter.widget-view+json": {
       "model_id": "6d9058dcc57d4553ae44f52ba7ad8571",
       "version_major": 2,
       "version_minor": 0
      },
      "text/plain": [
       "  0%|          | 0/90 [00:00<?, ?it/s]"
      ]
     },
     "metadata": {},
     "output_type": "display_data"
    },
    {
     "name": "stdout",
     "output_type": "stream",
     "text": [
      "train_acc: 0.5052  val_acc: 0.4443\n",
      "Model saved at model.pt\n",
      "Best train loss: 0.0412632666528225\n",
      "\n",
      "Epoch:  8 / 50\n"
     ]
    },
    {
     "data": {
      "application/vnd.jupyter.widget-view+json": {
       "model_id": "07a38b5498db4accbe002ce4507892ae",
       "version_major": 2,
       "version_minor": 0
      },
      "text/plain": [
       "  0%|          | 0/90 [00:00<?, ?it/s]"
      ]
     },
     "metadata": {},
     "output_type": "display_data"
    },
    {
     "name": "stdout",
     "output_type": "stream",
     "text": [
      "train_acc: 0.4757  val_acc: 0.4823\n",
      "Model saved at model.pt\n",
      "Best train loss: 0.04104222841560841\n",
      "\n",
      "Epoch:  9 / 50\n"
     ]
    },
    {
     "data": {
      "application/vnd.jupyter.widget-view+json": {
       "model_id": "53f124b74daf4c6d87e19ea2cb05919e",
       "version_major": 2,
       "version_minor": 0
      },
      "text/plain": [
       "  0%|          | 0/90 [00:00<?, ?it/s]"
      ]
     },
     "metadata": {},
     "output_type": "display_data"
    },
    {
     "name": "stdout",
     "output_type": "stream",
     "text": [
      "train_acc: 0.4913  val_acc: 0.462\n",
      "\n",
      "Epoch:  10 / 50\n"
     ]
    },
    {
     "data": {
      "application/vnd.jupyter.widget-view+json": {
       "model_id": "6afaa29bc2ab45699cb1fae314a61a33",
       "version_major": 2,
       "version_minor": 0
      },
      "text/plain": [
       "  0%|          | 0/90 [00:00<?, ?it/s]"
      ]
     },
     "metadata": {},
     "output_type": "display_data"
    },
    {
     "name": "stdout",
     "output_type": "stream",
     "text": [
      "train_acc: 0.4885  val_acc: 0.4837\n",
      "Model saved at model.pt\n",
      "Best train loss: 0.04056486404604382\n",
      "\n",
      "Epoch:  11 / 50\n"
     ]
    },
    {
     "data": {
      "application/vnd.jupyter.widget-view+json": {
       "model_id": "b4aeb45ee6ee4fcc8e21b012b353bfbc",
       "version_major": 2,
       "version_minor": 0
      },
      "text/plain": [
       "  0%|          | 0/90 [00:00<?, ?it/s]"
      ]
     },
     "metadata": {},
     "output_type": "display_data"
    },
    {
     "name": "stdout",
     "output_type": "stream",
     "text": [
      "train_acc: 0.5292  val_acc: 0.4932\n",
      "Model saved at model.pt\n",
      "Best train loss: 0.04044623072776529\n",
      "\n",
      "Epoch:  12 / 50\n"
     ]
    },
    {
     "data": {
      "application/vnd.jupyter.widget-view+json": {
       "model_id": "10ebfd32872044dd81b845bbd3391278",
       "version_major": 2,
       "version_minor": 0
      },
      "text/plain": [
       "  0%|          | 0/90 [00:00<?, ?it/s]"
      ]
     },
     "metadata": {},
     "output_type": "display_data"
    },
    {
     "name": "stdout",
     "output_type": "stream",
     "text": [
      "train_acc: 0.5149  val_acc: 0.4837\n",
      "Model saved at model.pt\n",
      "Best train loss: 0.04034519721236494\n",
      "\n",
      "Epoch:  13 / 50\n"
     ]
    },
    {
     "data": {
      "application/vnd.jupyter.widget-view+json": {
       "model_id": "27fd1464e94d42f4b7f19dfd2fa6134e",
       "version_major": 2,
       "version_minor": 0
      },
      "text/plain": [
       "  0%|          | 0/90 [00:00<?, ?it/s]"
      ]
     },
     "metadata": {},
     "output_type": "display_data"
    },
    {
     "name": "stdout",
     "output_type": "stream",
     "text": [
      "train_acc: 0.5264  val_acc: 0.466\n",
      "\n",
      "Epoch:  14 / 50\n"
     ]
    },
    {
     "data": {
      "application/vnd.jupyter.widget-view+json": {
       "model_id": "39f31581d98a46e685befa1adeaa9c08",
       "version_major": 2,
       "version_minor": 0
      },
      "text/plain": [
       "  0%|          | 0/90 [00:00<?, ?it/s]"
      ]
     },
     "metadata": {},
     "output_type": "display_data"
    },
    {
     "name": "stdout",
     "output_type": "stream",
     "text": [
      "train_acc: 0.5  val_acc: 0.4905\n",
      "\n",
      "Epoch:  15 / 50\n"
     ]
    },
    {
     "data": {
      "application/vnd.jupyter.widget-view+json": {
       "model_id": "6289aa56238b4737960f003ffec59f81",
       "version_major": 2,
       "version_minor": 0
      },
      "text/plain": [
       "  0%|          | 0/90 [00:00<?, ?it/s]"
      ]
     },
     "metadata": {},
     "output_type": "display_data"
    },
    {
     "name": "stdout",
     "output_type": "stream",
     "text": [
      "train_acc: 0.5292  val_acc: 0.4932\n",
      "Model saved at model.pt\n",
      "Best train loss: 0.04017679004205598\n",
      "\n",
      "Epoch:  16 / 50\n"
     ]
    },
    {
     "data": {
      "application/vnd.jupyter.widget-view+json": {
       "model_id": "5da781f9e75c4b01a45140966af1950d",
       "version_major": 2,
       "version_minor": 0
      },
      "text/plain": [
       "  0%|          | 0/90 [00:00<?, ?it/s]"
      ]
     },
     "metadata": {},
     "output_type": "display_data"
    },
    {
     "name": "stdout",
     "output_type": "stream",
     "text": [
      "train_acc: 0.5056  val_acc: 0.4565\n",
      "Model saved at model.pt\n",
      "Best train loss: 0.04010945161183675\n",
      "\n",
      "Epoch:  17 / 50\n"
     ]
    },
    {
     "data": {
      "application/vnd.jupyter.widget-view+json": {
       "model_id": "e8295b19a1a242e2a2bcacd926ac9a1a",
       "version_major": 2,
       "version_minor": 0
      },
      "text/plain": [
       "  0%|          | 0/90 [00:00<?, ?it/s]"
      ]
     },
     "metadata": {},
     "output_type": "display_data"
    },
    {
     "name": "stdout",
     "output_type": "stream",
     "text": [
      "train_acc: 0.5188  val_acc: 0.4579\n",
      "\n",
      "Epoch:  18 / 50\n"
     ]
    },
    {
     "data": {
      "application/vnd.jupyter.widget-view+json": {
       "model_id": "c5c7a244cc3f45e28d032abff1c9cf2f",
       "version_major": 2,
       "version_minor": 0
      },
      "text/plain": [
       "  0%|          | 0/90 [00:00<?, ?it/s]"
      ]
     },
     "metadata": {},
     "output_type": "display_data"
    },
    {
     "name": "stdout",
     "output_type": "stream",
     "text": [
      "train_acc: 0.4865  val_acc: 0.4905\n",
      "Model saved at model.pt\n",
      "Best train loss: 0.03995533953938219\n",
      "\n",
      "Epoch:  19 / 50\n"
     ]
    },
    {
     "data": {
      "application/vnd.jupyter.widget-view+json": {
       "model_id": "81b17a01422f4fbd952d3fb457233923",
       "version_major": 2,
       "version_minor": 0
      },
      "text/plain": [
       "  0%|          | 0/90 [00:00<?, ?it/s]"
      ]
     },
     "metadata": {},
     "output_type": "display_data"
    },
    {
     "name": "stdout",
     "output_type": "stream",
     "text": [
      "train_acc: 0.5167  val_acc: 0.4334\n",
      "\n",
      "Epoch:  20 / 50\n"
     ]
    },
    {
     "data": {
      "application/vnd.jupyter.widget-view+json": {
       "model_id": "a46a791218b8477486af8f7a6d0c83f6",
       "version_major": 2,
       "version_minor": 0
      },
      "text/plain": [
       "  0%|          | 0/90 [00:00<?, ?it/s]"
      ]
     },
     "metadata": {},
     "output_type": "display_data"
    },
    {
     "name": "stdout",
     "output_type": "stream",
     "text": [
      "train_acc: 0.5413  val_acc: 0.4647\n",
      "Model saved at model.pt\n",
      "Best train loss: 0.039809573690096536\n",
      "\n",
      "Epoch:  21 / 50\n"
     ]
    },
    {
     "data": {
      "application/vnd.jupyter.widget-view+json": {
       "model_id": "9b77a624234f40d9bdb35de4766e6025",
       "version_major": 2,
       "version_minor": 0
      },
      "text/plain": [
       "  0%|          | 0/90 [00:00<?, ?it/s]"
      ]
     },
     "metadata": {},
     "output_type": "display_data"
    },
    {
     "name": "stdout",
     "output_type": "stream",
     "text": [
      "train_acc: 0.517  val_acc: 0.5177\n",
      "Model saved at model.pt\n",
      "Best train loss: 0.03979449694355329\n",
      "\n",
      "Epoch:  22 / 50\n"
     ]
    },
    {
     "data": {
      "application/vnd.jupyter.widget-view+json": {
       "model_id": "15eaff579d9a47e8b6e87ec9ec09c448",
       "version_major": 2,
       "version_minor": 0
      },
      "text/plain": [
       "  0%|          | 0/90 [00:00<?, ?it/s]"
      ]
     },
     "metadata": {},
     "output_type": "display_data"
    },
    {
     "name": "stdout",
     "output_type": "stream",
     "text": [
      "train_acc: 0.5205  val_acc: 0.4701\n",
      "Model saved at model.pt\n",
      "Best train loss: 0.0396340540299813\n",
      "\n",
      "Epoch:  23 / 50\n"
     ]
    },
    {
     "data": {
      "application/vnd.jupyter.widget-view+json": {
       "model_id": "361e2074694d4dddb398da44a27409c4",
       "version_major": 2,
       "version_minor": 0
      },
      "text/plain": [
       "  0%|          | 0/90 [00:00<?, ?it/s]"
      ]
     },
     "metadata": {},
     "output_type": "display_data"
    },
    {
     "name": "stdout",
     "output_type": "stream",
     "text": [
      "train_acc: 0.5167  val_acc: 0.4742\n",
      "Model saved at model.pt\n",
      "Best train loss: 0.03937194090750482\n",
      "\n",
      "Epoch:  24 / 50\n"
     ]
    },
    {
     "data": {
      "application/vnd.jupyter.widget-view+json": {
       "model_id": "c2c0f8e2939a4f2a99860fea30f9b0cf",
       "version_major": 2,
       "version_minor": 0
      },
      "text/plain": [
       "  0%|          | 0/90 [00:00<?, ?it/s]"
      ]
     },
     "metadata": {},
     "output_type": "display_data"
    },
    {
     "name": "stdout",
     "output_type": "stream",
     "text": [
      "train_acc: 0.5385  val_acc: 0.4511\n",
      "Model saved at model.pt\n",
      "Best train loss: 0.039174870567189324\n",
      "\n",
      "Epoch:  25 / 50\n"
     ]
    },
    {
     "data": {
      "application/vnd.jupyter.widget-view+json": {
       "model_id": "523c897f66c14134b413f3dde56df110",
       "version_major": 2,
       "version_minor": 0
      },
      "text/plain": [
       "  0%|          | 0/90 [00:00<?, ?it/s]"
      ]
     },
     "metadata": {},
     "output_type": "display_data"
    },
    {
     "name": "stdout",
     "output_type": "stream",
     "text": [
      "train_acc: 0.5347  val_acc: 0.4918\n",
      "Model saved at model.pt\n",
      "Best train loss: 0.039075749160514935\n",
      "\n",
      "Epoch:  26 / 50\n"
     ]
    },
    {
     "data": {
      "application/vnd.jupyter.widget-view+json": {
       "model_id": "268359f0b24149e98c52a010fcb6b8e5",
       "version_major": 2,
       "version_minor": 0
      },
      "text/plain": [
       "  0%|          | 0/90 [00:00<?, ?it/s]"
      ]
     },
     "metadata": {},
     "output_type": "display_data"
    },
    {
     "name": "stdout",
     "output_type": "stream",
     "text": [
      "train_acc: 0.5372  val_acc: 0.4837\n",
      "\n",
      "Epoch:  27 / 50\n"
     ]
    },
    {
     "data": {
      "application/vnd.jupyter.widget-view+json": {
       "model_id": "7fd677304e1447c4ae952fd9cd64ef0b",
       "version_major": 2,
       "version_minor": 0
      },
      "text/plain": [
       "  0%|          | 0/90 [00:00<?, ?it/s]"
      ]
     },
     "metadata": {},
     "output_type": "display_data"
    },
    {
     "name": "stdout",
     "output_type": "stream",
     "text": [
      "train_acc: 0.5497  val_acc: 0.5109\n",
      "Model saved at model.pt\n",
      "Best train loss: 0.03896022347940339\n",
      "\n",
      "Epoch:  28 / 50\n"
     ]
    },
    {
     "data": {
      "application/vnd.jupyter.widget-view+json": {
       "model_id": "d8cf40c7d9894c50b1a58a64844435fd",
       "version_major": 2,
       "version_minor": 0
      },
      "text/plain": [
       "  0%|          | 0/90 [00:00<?, ?it/s]"
      ]
     },
     "metadata": {},
     "output_type": "display_data"
    },
    {
     "name": "stdout",
     "output_type": "stream",
     "text": [
      "train_acc: 0.5347  val_acc: 0.4837\n",
      "\n",
      "Epoch:  29 / 50\n"
     ]
    },
    {
     "data": {
      "application/vnd.jupyter.widget-view+json": {
       "model_id": "c079c2c853ab4e2c8db74d4c799e38e8",
       "version_major": 2,
       "version_minor": 0
      },
      "text/plain": [
       "  0%|          | 0/90 [00:00<?, ?it/s]"
      ]
     },
     "metadata": {},
     "output_type": "display_data"
    },
    {
     "name": "stdout",
     "output_type": "stream",
     "text": [
      "train_acc: 0.5413  val_acc: 0.462\n",
      "Model saved at model.pt\n",
      "Best train loss: 0.038870409917500286\n",
      "\n",
      "Epoch:  30 / 50\n"
     ]
    },
    {
     "data": {
      "application/vnd.jupyter.widget-view+json": {
       "model_id": "730c52b595114faba32d4c3a2645bc58",
       "version_major": 2,
       "version_minor": 0
      },
      "text/plain": [
       "  0%|          | 0/90 [00:00<?, ?it/s]"
      ]
     },
     "metadata": {},
     "output_type": "display_data"
    },
    {
     "name": "stdout",
     "output_type": "stream",
     "text": [
      "train_acc: 0.5344  val_acc: 0.4986\n",
      "Model saved at model.pt\n",
      "Best train loss: 0.03855257373717096\n",
      "\n",
      "Epoch:  31 / 50\n"
     ]
    },
    {
     "data": {
      "application/vnd.jupyter.widget-view+json": {
       "model_id": "93e22be39c524d1ba9b126a1fd9a859b",
       "version_major": 2,
       "version_minor": 0
      },
      "text/plain": [
       "  0%|          | 0/90 [00:00<?, ?it/s]"
      ]
     },
     "metadata": {},
     "output_type": "display_data"
    },
    {
     "name": "stdout",
     "output_type": "stream",
     "text": [
      "train_acc: 0.5479  val_acc: 0.466\n",
      "Model saved at model.pt\n",
      "Best train loss: 0.03842390175494883\n",
      "\n",
      "Epoch:  32 / 50\n"
     ]
    },
    {
     "data": {
      "application/vnd.jupyter.widget-view+json": {
       "model_id": "dce4297d0518437d89d5a60bc1b64353",
       "version_major": 2,
       "version_minor": 0
      },
      "text/plain": [
       "  0%|          | 0/90 [00:00<?, ?it/s]"
      ]
     },
     "metadata": {},
     "output_type": "display_data"
    },
    {
     "name": "stdout",
     "output_type": "stream",
     "text": [
      "train_acc: 0.559  val_acc: 0.5\n",
      "Model saved at model.pt\n",
      "Best train loss: 0.038277861517336635\n",
      "\n",
      "Epoch:  33 / 50\n"
     ]
    },
    {
     "data": {
      "application/vnd.jupyter.widget-view+json": {
       "model_id": "f427abd5b39f48e78e4527e6d2be35d7",
       "version_major": 2,
       "version_minor": 0
      },
      "text/plain": [
       "  0%|          | 0/90 [00:00<?, ?it/s]"
      ]
     },
     "metadata": {},
     "output_type": "display_data"
    },
    {
     "name": "stdout",
     "output_type": "stream",
     "text": [
      "train_acc: 0.5611  val_acc: 0.4783\n",
      "Model saved at model.pt\n",
      "Best train loss: 0.038257581326696606\n",
      "\n",
      "Epoch:  34 / 50\n"
     ]
    },
    {
     "data": {
      "application/vnd.jupyter.widget-view+json": {
       "model_id": "fc6138bbaf5e44c6a7502a250de458af",
       "version_major": 2,
       "version_minor": 0
      },
      "text/plain": [
       "  0%|          | 0/90 [00:00<?, ?it/s]"
      ]
     },
     "metadata": {},
     "output_type": "display_data"
    },
    {
     "name": "stdout",
     "output_type": "stream",
     "text": [
      "train_acc: 0.5552  val_acc: 0.4783\n",
      "\n",
      "Epoch:  35 / 50\n"
     ]
    },
    {
     "data": {
      "application/vnd.jupyter.widget-view+json": {
       "model_id": "49e913098fce407096ae36ddf0f5c18a",
       "version_major": 2,
       "version_minor": 0
      },
      "text/plain": [
       "  0%|          | 0/90 [00:00<?, ?it/s]"
      ]
     },
     "metadata": {},
     "output_type": "display_data"
    },
    {
     "name": "stdout",
     "output_type": "stream",
     "text": [
      "train_acc: 0.5698  val_acc: 0.4905\n",
      "Model saved at model.pt\n",
      "Best train loss: 0.03806635994050238\n",
      "\n",
      "Epoch:  36 / 50\n"
     ]
    },
    {
     "data": {
      "application/vnd.jupyter.widget-view+json": {
       "model_id": "d47ede7d187e48308d0626dcd2affbd2",
       "version_major": 2,
       "version_minor": 0
      },
      "text/plain": [
       "  0%|          | 0/90 [00:00<?, ?it/s]"
      ]
     },
     "metadata": {},
     "output_type": "display_data"
    },
    {
     "name": "stdout",
     "output_type": "stream",
     "text": [
      "train_acc: 0.5389  val_acc: 0.4918\n",
      "Model saved at model.pt\n",
      "Best train loss: 0.03798615725504027\n",
      "\n",
      "Epoch:  37 / 50\n"
     ]
    },
    {
     "data": {
      "application/vnd.jupyter.widget-view+json": {
       "model_id": "7fc0df9d3cac447f8cbec36841067f84",
       "version_major": 2,
       "version_minor": 0
      },
      "text/plain": [
       "  0%|          | 0/90 [00:00<?, ?it/s]"
      ]
     },
     "metadata": {},
     "output_type": "display_data"
    },
    {
     "name": "stdout",
     "output_type": "stream",
     "text": [
      "train_acc: 0.5622  val_acc: 0.5109\n",
      "Model saved at model.pt\n",
      "Best train loss: 0.03786150018374125\n",
      "\n",
      "Epoch:  38 / 50\n"
     ]
    },
    {
     "data": {
      "application/vnd.jupyter.widget-view+json": {
       "model_id": "3b791e2237274e479cb584e9415798dd",
       "version_major": 2,
       "version_minor": 0
      },
      "text/plain": [
       "  0%|          | 0/90 [00:00<?, ?it/s]"
      ]
     },
     "metadata": {},
     "output_type": "display_data"
    },
    {
     "name": "stdout",
     "output_type": "stream",
     "text": [
      "train_acc: 0.5788  val_acc: 0.5109\n",
      "Model saved at model.pt\n",
      "Best train loss: 0.03756985391179721\n",
      "\n",
      "Epoch:  39 / 50\n"
     ]
    },
    {
     "data": {
      "application/vnd.jupyter.widget-view+json": {
       "model_id": "ce391de06b3e4d0e8a1aa15a93acaedf",
       "version_major": 2,
       "version_minor": 0
      },
      "text/plain": [
       "  0%|          | 0/90 [00:00<?, ?it/s]"
      ]
     },
     "metadata": {},
     "output_type": "display_data"
    },
    {
     "name": "stdout",
     "output_type": "stream",
     "text": [
      "train_acc: 0.5542  val_acc: 0.4946\n",
      "\n",
      "Epoch:  40 / 50\n"
     ]
    },
    {
     "data": {
      "application/vnd.jupyter.widget-view+json": {
       "model_id": "929a466a648e42c992c5c9fe06afefbd",
       "version_major": 2,
       "version_minor": 0
      },
      "text/plain": [
       "  0%|          | 0/90 [00:00<?, ?it/s]"
      ]
     },
     "metadata": {},
     "output_type": "display_data"
    },
    {
     "name": "stdout",
     "output_type": "stream",
     "text": [
      "train_acc: 0.575  val_acc: 0.4959\n",
      "Model saved at model.pt\n",
      "Best train loss: 0.03747605143321885\n",
      "\n",
      "Epoch:  41 / 50\n"
     ]
    },
    {
     "data": {
      "application/vnd.jupyter.widget-view+json": {
       "model_id": "0a617b5005e942bdbfb28e704fa90d76",
       "version_major": 2,
       "version_minor": 0
      },
      "text/plain": [
       "  0%|          | 0/90 [00:00<?, ?it/s]"
      ]
     },
     "metadata": {},
     "output_type": "display_data"
    },
    {
     "name": "stdout",
     "output_type": "stream",
     "text": [
      "train_acc: 0.5552  val_acc: 0.5122\n",
      "\n",
      "Epoch:  42 / 50\n"
     ]
    },
    {
     "data": {
      "application/vnd.jupyter.widget-view+json": {
       "model_id": "5b9c14d8785549efa9f19e06c7960e38",
       "version_major": 2,
       "version_minor": 0
      },
      "text/plain": [
       "  0%|          | 0/90 [00:00<?, ?it/s]"
      ]
     },
     "metadata": {},
     "output_type": "display_data"
    },
    {
     "name": "stdout",
     "output_type": "stream",
     "text": [
      "train_acc: 0.5778  val_acc: 0.4986\n",
      "\n",
      "Epoch:  43 / 50\n"
     ]
    },
    {
     "data": {
      "application/vnd.jupyter.widget-view+json": {
       "model_id": "4ec5c788a06b4ae198b210ff42b359a0",
       "version_major": 2,
       "version_minor": 0
      },
      "text/plain": [
       "  0%|          | 0/90 [00:00<?, ?it/s]"
      ]
     },
     "metadata": {},
     "output_type": "display_data"
    },
    {
     "name": "stdout",
     "output_type": "stream",
     "text": [
      "train_acc: 0.5778  val_acc: 0.5041\n",
      "Model saved at model.pt\n",
      "Best train loss: 0.0372897296730015\n",
      "\n",
      "Epoch:  44 / 50\n"
     ]
    },
    {
     "data": {
      "application/vnd.jupyter.widget-view+json": {
       "model_id": "16ab3db0f4634da292c37868bedfef70",
       "version_major": 2,
       "version_minor": 0
      },
      "text/plain": [
       "  0%|          | 0/90 [00:00<?, ?it/s]"
      ]
     },
     "metadata": {},
     "output_type": "display_data"
    },
    {
     "name": "stdout",
     "output_type": "stream",
     "text": [
      "train_acc: 0.5701  val_acc: 0.5\n",
      "Model saved at model.pt\n",
      "Best train loss: 0.037227122257981034\n",
      "\n",
      "Epoch:  45 / 50\n"
     ]
    },
    {
     "data": {
      "application/vnd.jupyter.widget-view+json": {
       "model_id": "c50f389b4eb1463b9852db4c0ac39806",
       "version_major": 2,
       "version_minor": 0
      },
      "text/plain": [
       "  0%|          | 0/90 [00:00<?, ?it/s]"
      ]
     },
     "metadata": {},
     "output_type": "display_data"
    },
    {
     "name": "stdout",
     "output_type": "stream",
     "text": [
      "train_acc: 0.5753  val_acc: 0.5299\n",
      "Model saved at model.pt\n",
      "Best train loss: 0.03704658111350404\n",
      "\n",
      "Epoch:  46 / 50\n"
     ]
    },
    {
     "data": {
      "application/vnd.jupyter.widget-view+json": {
       "model_id": "7d45235c700f475e90ed95995dec0894",
       "version_major": 2,
       "version_minor": 0
      },
      "text/plain": [
       "  0%|          | 0/90 [00:00<?, ?it/s]"
      ]
     },
     "metadata": {},
     "output_type": "display_data"
    },
    {
     "name": "stdout",
     "output_type": "stream",
     "text": [
      "train_acc: 0.5747  val_acc: 0.5149\n",
      "Model saved at model.pt\n",
      "Best train loss: 0.03699542838666174\n",
      "\n",
      "Epoch:  47 / 50\n"
     ]
    },
    {
     "data": {
      "application/vnd.jupyter.widget-view+json": {
       "model_id": "9388f31b201c45b5bf4f2017a269f70c",
       "version_major": 2,
       "version_minor": 0
      },
      "text/plain": [
       "  0%|          | 0/90 [00:00<?, ?it/s]"
      ]
     },
     "metadata": {},
     "output_type": "display_data"
    },
    {
     "name": "stdout",
     "output_type": "stream",
     "text": [
      "train_acc: 0.5861  val_acc: 0.4701\n",
      "\n",
      "Epoch:  48 / 50\n"
     ]
    },
    {
     "data": {
      "application/vnd.jupyter.widget-view+json": {
       "model_id": "8f62571423e242449c448145ada51d90",
       "version_major": 2,
       "version_minor": 0
      },
      "text/plain": [
       "  0%|          | 0/90 [00:00<?, ?it/s]"
      ]
     },
     "metadata": {},
     "output_type": "display_data"
    },
    {
     "name": "stdout",
     "output_type": "stream",
     "text": [
      "train_acc: 0.5701  val_acc: 0.5245\n",
      "Model saved at model.pt\n",
      "Best train loss: 0.036976549836496515\n",
      "\n",
      "Epoch:  49 / 50\n"
     ]
    },
    {
     "data": {
      "application/vnd.jupyter.widget-view+json": {
       "model_id": "7edd1170100d4633bbd205d2ab3c47a5",
       "version_major": 2,
       "version_minor": 0
      },
      "text/plain": [
       "  0%|          | 0/90 [00:00<?, ?it/s]"
      ]
     },
     "metadata": {},
     "output_type": "display_data"
    },
    {
     "name": "stdout",
     "output_type": "stream",
     "text": [
      "train_acc: 0.6014  val_acc: 0.5082\n",
      "Model saved at model.pt\n",
      "Best train loss: 0.03653493022753133\n",
      "\n",
      "Epoch:  50 / 50\n"
     ]
    },
    {
     "data": {
      "application/vnd.jupyter.widget-view+json": {
       "model_id": "48006d6f160f4347b5d0379780c843ba",
       "version_major": 2,
       "version_minor": 0
      },
      "text/plain": [
       "  0%|          | 0/90 [00:00<?, ?it/s]"
      ]
     },
     "metadata": {},
     "output_type": "display_data"
    },
    {
     "name": "stdout",
     "output_type": "stream",
     "text": [
      "train_acc: 0.6017  val_acc: 0.5027\n",
      "Model saved at model.pt\n",
      "Best train loss: 0.03646533033914036\n"
     ]
    }
   ],
   "source": [
    "device = \"cuda\" if torch.cuda.is_available() else \"cpu\"\n",
    "model = RModel()\n",
    "optimizer = torch.optim.Adam(model.parameters(),lr=0.0001,betas=(0.99,0.99),amsgrad=False)\n",
    "train_acc,val_acc,model,loss_with_epochs,val_loss_with_epochs = train_evaluate(model,optimizer,train_loader,val_loader,num_epochs=50,save_model_name=\"model.pt\",dropout=0.5,learning_rate=0.0001,device=device)\n"
   ]
  },
  {
   "cell_type": "code",
   "execution_count": 62,
   "metadata": {},
   "outputs": [
    {
     "data": {
      "image/png": "[encoded data removed]",
      "text/plain": [
       "<Figure size 640x480 with 1 Axes>"
      ]
     },
     "metadata": {},
     "output_type": "display_data"
    },
    {
     "data": {
      "image/png": "[encoded data removed]",
      "text/plain": [
       "<Figure size 640x480 with 1 Axes>"
      ]
     },
     "metadata": {},
     "output_type": "display_data"
    }
   ],
   "source": [
    "import seaborn as sns\n",
    "sns.set_theme()\n",
    "plt.figure()\n",
    "plt.plot(val_acc,label=\"Validation\")\n",
    "plt.plot(train_acc,label=\"Train\")\n",
    "plt.legend()\n",
    "plt.title(\"Training vs Validation Accuracy for Patient Based Model\")\n",
    "plt.savefig(\"plots/patient_based_model_train_vs_validation_acc.png\")\n",
    "plt.show()\n",
    "\n",
    "plt.figure()\n",
    "plt.plot(loss_with_epochs,label=\"Train\")\n",
    "plt.plot(val_loss_with_epochs,label=\"Validation\")\n",
    "plt.title(\"Patient Based Model-Loss Curve\")\n",
    "plt.legend()\n",
    "plt.savefig(\"plots/patient_based_model_train_vs_val_loss.png\")\n",
    "plt.show()"
   ]
  },
  {
   "attachments": {},
   "cell_type": "markdown",
   "metadata": {},
   "source": [
    "## Fine tune the patient based model for a particular patient"
   ]
  },
  {
   "cell_type": "code",
   "execution_count": 41,
   "metadata": {},
   "outputs": [],
   "source": [
    "patient_wise_tune_data = train_dataset.dataset.patient_to_idx\n",
    "# patient to samples is a dict containing patient id as key and list of samples as value\n",
    "# we need to fine tune the model patient wise\n",
    "# we will use the same model as before\n",
    "\n",
    "patient_id = \"107\"\n",
    "patient_samples = patient_wise_tune_data[patient_id]\n",
    "patient_train_samples = patient_samples[:int(0.8*len(patient_samples))]\n",
    "patient_test_samples = patient_samples[int(0.8*len(patient_samples)):]\n",
    "patient_train_dataset = torch.utils.data.Subset(train_dataset,patient_train_samples)\n",
    "patient_test_dataset = torch.utils.data.Subset(train_dataset,patient_test_samples)\n",
    "patient_train_loader = torch.utils.data.DataLoader(patient_train_dataset,batch_size=32,shuffle=True)\n",
    "patient_test_loader = torch.utils.data.DataLoader(patient_test_dataset,batch_size=32,shuffle=True)\n",
    "\n"
   ]
  },
  {
   "cell_type": "code",
   "execution_count": 66,
   "metadata": {},
   "outputs": [
    {
     "name": "stdout",
     "output_type": "stream",
     "text": [
      "\n",
      "Epoch:  1 / 200\n"
     ]
    },
    {
     "data": {
      "application/vnd.jupyter.widget-view+json": {
       "model_id": "5bdc5c0205a0409793d5481ef37b87f8",
       "version_major": 2,
       "version_minor": 0
      },
      "text/plain": [
       "  0%|          | 0/1 [00:00<?, ?it/s]"
      ]
     },
     "metadata": {},
     "output_type": "display_data"
    },
    {
     "name": "stdout",
     "output_type": "stream",
     "text": [
      "train_acc: 0.4688  val_acc: 0.1562\n",
      "Model saved at fine_tune_model.pt\n",
      "Best train loss: 0.03227902576327324\n",
      "\n",
      "Epoch:  2 / 200\n"
     ]
    },
    {
     "data": {
      "application/vnd.jupyter.widget-view+json": {
       "model_id": "45c2956901974d5cb38b88dee105c971",
       "version_major": 2,
       "version_minor": 0
      },
      "text/plain": [
       "  0%|          | 0/1 [00:00<?, ?it/s]"
      ]
     },
     "metadata": {},
     "output_type": "display_data"
    },
    {
     "name": "stdout",
     "output_type": "stream",
     "text": [
      "train_acc: 0.5  val_acc: 0.1562\n",
      "\n",
      "Epoch:  3 / 200\n"
     ]
    },
    {
     "data": {
      "application/vnd.jupyter.widget-view+json": {
       "model_id": "f8a410a9a25c4864a7ba6db54d373cc5",
       "version_major": 2,
       "version_minor": 0
      },
      "text/plain": [
       "  0%|          | 0/1 [00:00<?, ?it/s]"
      ]
     },
     "metadata": {},
     "output_type": "display_data"
    },
    {
     "name": "stdout",
     "output_type": "stream",
     "text": [
      "train_acc: 0.5  val_acc: 0.125\n",
      "\n",
      "Epoch:  4 / 200\n"
     ]
    },
    {
     "data": {
      "application/vnd.jupyter.widget-view+json": {
       "model_id": "f723835e58e84a578f0b68ffba48fb99",
       "version_major": 2,
       "version_minor": 0
      },
      "text/plain": [
       "  0%|          | 0/1 [00:00<?, ?it/s]"
      ]
     },
     "metadata": {},
     "output_type": "display_data"
    },
    {
     "name": "stdout",
     "output_type": "stream",
     "text": [
      "train_acc: 0.5  val_acc: 0.1562\n",
      "\n",
      "Epoch:  5 / 200\n"
     ]
    },
    {
     "data": {
      "application/vnd.jupyter.widget-view+json": {
       "model_id": "c2fd25eb8d0741548533e8f8542cedf7",
       "version_major": 2,
       "version_minor": 0
      },
      "text/plain": [
       "  0%|          | 0/1 [00:00<?, ?it/s]"
      ]
     },
     "metadata": {},
     "output_type": "display_data"
    },
    {
     "name": "stdout",
     "output_type": "stream",
     "text": [
      "train_acc: 0.5312  val_acc: 0.1562\n",
      "\n",
      "Epoch:  6 / 200\n"
     ]
    },
    {
     "data": {
      "application/vnd.jupyter.widget-view+json": {
       "model_id": "ae0212d281db4cf7aabf85d50d903224",
       "version_major": 2,
       "version_minor": 0
      },
      "text/plain": [
       "  0%|          | 0/1 [00:00<?, ?it/s]"
      ]
     },
     "metadata": {},
     "output_type": "display_data"
    },
    {
     "name": "stdout",
     "output_type": "stream",
     "text": [
      "train_acc: 0.4688  val_acc: 0.125\n",
      "\n",
      "Epoch:  7 / 200\n"
     ]
    },
    {
     "data": {
      "application/vnd.jupyter.widget-view+json": {
       "model_id": "844bd3f159af4464a40a9821bc671fe7",
       "version_major": 2,
       "version_minor": 0
      },
      "text/plain": [
       "  0%|          | 0/1 [00:00<?, ?it/s]"
      ]
     },
     "metadata": {},
     "output_type": "display_data"
    },
    {
     "name": "stdout",
     "output_type": "stream",
     "text": [
      "train_acc: 0.5625  val_acc: 0.1562\n",
      "Model saved at fine_tune_model.pt\n",
      "Best train loss: 0.02950633130967617\n",
      "\n",
      "Epoch:  8 / 200\n"
     ]
    },
    {
     "data": {
      "application/vnd.jupyter.widget-view+json": {
       "model_id": "8174afe80b714627b3e6396e820e25ea",
       "version_major": 2,
       "version_minor": 0
      },
      "text/plain": [
       "  0%|          | 0/1 [00:00<?, ?it/s]"
      ]
     },
     "metadata": {},
     "output_type": "display_data"
    },
    {
     "name": "stdout",
     "output_type": "stream",
     "text": [
      "train_acc: 0.5  val_acc: 0.1562\n",
      "\n",
      "Epoch:  9 / 200\n"
     ]
    },
    {
     "data": {
      "application/vnd.jupyter.widget-view+json": {
       "model_id": "059448e6d2104885b48adacc938cb48f",
       "version_major": 2,
       "version_minor": 0
      },
      "text/plain": [
       "  0%|          | 0/1 [00:00<?, ?it/s]"
      ]
     },
     "metadata": {},
     "output_type": "display_data"
    },
    {
     "name": "stdout",
     "output_type": "stream",
     "text": [
      "train_acc: 0.625  val_acc: 0.1562\n",
      "\n",
      "Epoch:  10 / 200\n"
     ]
    },
    {
     "data": {
      "application/vnd.jupyter.widget-view+json": {
       "model_id": "cda5844d72ed4e9dac39b57425e44d22",
       "version_major": 2,
       "version_minor": 0
      },
      "text/plain": [
       "  0%|          | 0/1 [00:00<?, ?it/s]"
      ]
     },
     "metadata": {},
     "output_type": "display_data"
    },
    {
     "name": "stdout",
     "output_type": "stream",
     "text": [
      "train_acc: 0.5  val_acc: 0.1562\n",
      "\n",
      "Epoch:  11 / 200\n"
     ]
    },
    {
     "data": {
      "application/vnd.jupyter.widget-view+json": {
       "model_id": "0da6fe41a1c240d5b971671c7c24a048",
       "version_major": 2,
       "version_minor": 0
      },
      "text/plain": [
       "  0%|          | 0/1 [00:00<?, ?it/s]"
      ]
     },
     "metadata": {},
     "output_type": "display_data"
    },
    {
     "name": "stdout",
     "output_type": "stream",
     "text": [
      "train_acc: 0.5312  val_acc: 0.1562\n",
      "\n",
      "Epoch:  12 / 200\n"
     ]
    },
    {
     "data": {
      "application/vnd.jupyter.widget-view+json": {
       "model_id": "b52695f5c9a74264bba0705b0b21300c",
       "version_major": 2,
       "version_minor": 0
      },
      "text/plain": [
       "  0%|          | 0/1 [00:00<?, ?it/s]"
      ]
     },
     "metadata": {},
     "output_type": "display_data"
    },
    {
     "name": "stdout",
     "output_type": "stream",
     "text": [
      "train_acc: 0.6562  val_acc: 0.1562\n",
      "Model saved at fine_tune_model.pt\n",
      "Best train loss: 0.02650471217930317\n",
      "\n",
      "Epoch:  13 / 200\n"
     ]
    },
    {
     "data": {
      "application/vnd.jupyter.widget-view+json": {
       "model_id": "9b442634ebdc4e66b7af623105a26e6a",
       "version_major": 2,
       "version_minor": 0
      },
      "text/plain": [
       "  0%|          | 0/1 [00:00<?, ?it/s]"
      ]
     },
     "metadata": {},
     "output_type": "display_data"
    },
    {
     "name": "stdout",
     "output_type": "stream",
     "text": [
      "train_acc: 0.5938  val_acc: 0.1875\n",
      "\n",
      "Epoch:  14 / 200\n"
     ]
    },
    {
     "data": {
      "application/vnd.jupyter.widget-view+json": {
       "model_id": "0a2e1c4dc29144c19614c2c87184f55d",
       "version_major": 2,
       "version_minor": 0
      },
      "text/plain": [
       "  0%|          | 0/1 [00:00<?, ?it/s]"
      ]
     },
     "metadata": {},
     "output_type": "display_data"
    },
    {
     "name": "stdout",
     "output_type": "stream",
     "text": [
      "train_acc: 0.5625  val_acc: 0.1562\n",
      "\n",
      "Epoch:  15 / 200\n"
     ]
    },
    {
     "data": {
      "application/vnd.jupyter.widget-view+json": {
       "model_id": "ea58841d70d245cd83670212cc75a51c",
       "version_major": 2,
       "version_minor": 0
      },
      "text/plain": [
       "  0%|          | 0/1 [00:00<?, ?it/s]"
      ]
     },
     "metadata": {},
     "output_type": "display_data"
    },
    {
     "name": "stdout",
     "output_type": "stream",
     "text": [
      "train_acc: 0.5938  val_acc: 0.1562\n",
      "\n",
      "Epoch:  16 / 200\n"
     ]
    },
    {
     "data": {
      "application/vnd.jupyter.widget-view+json": {
       "model_id": "4e27fae8431648718e0c71ce2c58b673",
       "version_major": 2,
       "version_minor": 0
      },
      "text/plain": [
       "  0%|          | 0/1 [00:00<?, ?it/s]"
      ]
     },
     "metadata": {},
     "output_type": "display_data"
    },
    {
     "name": "stdout",
     "output_type": "stream",
     "text": [
      "train_acc: 0.5625  val_acc: 0.1562\n",
      "\n",
      "Epoch:  17 / 200\n"
     ]
    },
    {
     "data": {
      "application/vnd.jupyter.widget-view+json": {
       "model_id": "52377d479a614eb3a835c207cb02a989",
       "version_major": 2,
       "version_minor": 0
      },
      "text/plain": [
       "  0%|          | 0/1 [00:00<?, ?it/s]"
      ]
     },
     "metadata": {},
     "output_type": "display_data"
    },
    {
     "name": "stdout",
     "output_type": "stream",
     "text": [
      "train_acc: 0.5938  val_acc: 0.1562\n",
      "\n",
      "Epoch:  18 / 200\n"
     ]
    },
    {
     "data": {
      "application/vnd.jupyter.widget-view+json": {
       "model_id": "2e40136b91d5451e951cb53272914eff",
       "version_major": 2,
       "version_minor": 0
      },
      "text/plain": [
       "  0%|          | 0/1 [00:00<?, ?it/s]"
      ]
     },
     "metadata": {},
     "output_type": "display_data"
    },
    {
     "name": "stdout",
     "output_type": "stream",
     "text": [
      "train_acc: 0.5938  val_acc: 0.1562\n",
      "\n",
      "Epoch:  19 / 200\n"
     ]
    },
    {
     "data": {
      "application/vnd.jupyter.widget-view+json": {
       "model_id": "1b4f82be567c4805bdbf9c069cc98e47",
       "version_major": 2,
       "version_minor": 0
      },
      "text/plain": [
       "  0%|          | 0/1 [00:00<?, ?it/s]"
      ]
     },
     "metadata": {},
     "output_type": "display_data"
    },
    {
     "name": "stdout",
     "output_type": "stream",
     "text": [
      "train_acc: 0.5938  val_acc: 0.125\n",
      "\n",
      "Epoch:  20 / 200\n"
     ]
    },
    {
     "data": {
      "application/vnd.jupyter.widget-view+json": {
       "model_id": "e8986050abe14a9ea928a900c59ca23c",
       "version_major": 2,
       "version_minor": 0
      },
      "text/plain": [
       "  0%|          | 0/1 [00:00<?, ?it/s]"
      ]
     },
     "metadata": {},
     "output_type": "display_data"
    },
    {
     "name": "stdout",
     "output_type": "stream",
     "text": [
      "train_acc: 0.625  val_acc: 0.1562\n",
      "\n",
      "Epoch:  21 / 200\n"
     ]
    },
    {
     "data": {
      "application/vnd.jupyter.widget-view+json": {
       "model_id": "d98272b68aeb4a21bf382851edea8a81",
       "version_major": 2,
       "version_minor": 0
      },
      "text/plain": [
       "  0%|          | 0/1 [00:00<?, ?it/s]"
      ]
     },
     "metadata": {},
     "output_type": "display_data"
    },
    {
     "name": "stdout",
     "output_type": "stream",
     "text": [
      "train_acc: 0.5938  val_acc: 0.1562\n",
      "\n",
      "Epoch:  22 / 200\n"
     ]
    },
    {
     "data": {
      "application/vnd.jupyter.widget-view+json": {
       "model_id": "c64242a8e77548e08a966c0a0a4e999c",
       "version_major": 2,
       "version_minor": 0
      },
      "text/plain": [
       "  0%|          | 0/1 [00:00<?, ?it/s]"
      ]
     },
     "metadata": {},
     "output_type": "display_data"
    },
    {
     "name": "stdout",
     "output_type": "stream",
     "text": [
      "train_acc: 0.5938  val_acc: 0.1562\n",
      "\n",
      "Epoch:  23 / 200\n"
     ]
    },
    {
     "data": {
      "application/vnd.jupyter.widget-view+json": {
       "model_id": "ed5528c0989b42c6bbe0328103417300",
       "version_major": 2,
       "version_minor": 0
      },
      "text/plain": [
       "  0%|          | 0/1 [00:00<?, ?it/s]"
      ]
     },
     "metadata": {},
     "output_type": "display_data"
    },
    {
     "name": "stdout",
     "output_type": "stream",
     "text": [
      "train_acc: 0.6562  val_acc: 0.1875\n",
      "Model saved at fine_tune_model.pt\n",
      "Best train loss: 0.024095682427287102\n",
      "\n",
      "Epoch:  24 / 200\n"
     ]
    },
    {
     "data": {
      "application/vnd.jupyter.widget-view+json": {
       "model_id": "a06fc4fecd424d34856f5d25bd0e46cc",
       "version_major": 2,
       "version_minor": 0
      },
      "text/plain": [
       "  0%|          | 0/1 [00:00<?, ?it/s]"
      ]
     },
     "metadata": {},
     "output_type": "display_data"
    },
    {
     "name": "stdout",
     "output_type": "stream",
     "text": [
      "train_acc: 0.6562  val_acc: 0.1562\n",
      "\n",
      "Epoch:  25 / 200\n"
     ]
    },
    {
     "data": {
      "application/vnd.jupyter.widget-view+json": {
       "model_id": "375a35214eea45b986aa6ee81706b4a3",
       "version_major": 2,
       "version_minor": 0
      },
      "text/plain": [
       "  0%|          | 0/1 [00:00<?, ?it/s]"
      ]
     },
     "metadata": {},
     "output_type": "display_data"
    },
    {
     "name": "stdout",
     "output_type": "stream",
     "text": [
      "train_acc: 0.625  val_acc: 0.1562\n",
      "\n",
      "Epoch:  26 / 200\n"
     ]
    },
    {
     "data": {
      "application/vnd.jupyter.widget-view+json": {
       "model_id": "1b9f579e0247426db8a486314b36c4a3",
       "version_major": 2,
       "version_minor": 0
      },
      "text/plain": [
       "  0%|          | 0/1 [00:00<?, ?it/s]"
      ]
     },
     "metadata": {},
     "output_type": "display_data"
    },
    {
     "name": "stdout",
     "output_type": "stream",
     "text": [
      "train_acc: 0.625  val_acc: 0.1875\n",
      "\n",
      "Epoch:  27 / 200\n"
     ]
    },
    {
     "data": {
      "application/vnd.jupyter.widget-view+json": {
       "model_id": "6281c16f2102499186b659afe2349ad1",
       "version_major": 2,
       "version_minor": 0
      },
      "text/plain": [
       "  0%|          | 0/1 [00:00<?, ?it/s]"
      ]
     },
     "metadata": {},
     "output_type": "display_data"
    },
    {
     "name": "stdout",
     "output_type": "stream",
     "text": [
      "train_acc: 0.625  val_acc: 0.0938\n",
      "\n",
      "Epoch:  28 / 200\n"
     ]
    },
    {
     "data": {
      "application/vnd.jupyter.widget-view+json": {
       "model_id": "b0e26431b8614e91ae2eb8a49f681106",
       "version_major": 2,
       "version_minor": 0
      },
      "text/plain": [
       "  0%|          | 0/1 [00:00<?, ?it/s]"
      ]
     },
     "metadata": {},
     "output_type": "display_data"
    },
    {
     "name": "stdout",
     "output_type": "stream",
     "text": [
      "train_acc: 0.6562  val_acc: 0.1562\n",
      "\n",
      "Epoch:  29 / 200\n"
     ]
    },
    {
     "data": {
      "application/vnd.jupyter.widget-view+json": {
       "model_id": "a0fa2c157f2d4dac9e670422b521cfee",
       "version_major": 2,
       "version_minor": 0
      },
      "text/plain": [
       "  0%|          | 0/1 [00:00<?, ?it/s]"
      ]
     },
     "metadata": {},
     "output_type": "display_data"
    },
    {
     "name": "stdout",
     "output_type": "stream",
     "text": [
      "train_acc: 0.5938  val_acc: 0.125\n",
      "\n",
      "Epoch:  30 / 200\n"
     ]
    },
    {
     "data": {
      "application/vnd.jupyter.widget-view+json": {
       "model_id": "119257c411d6481891b4cfc8e2f51e4f",
       "version_major": 2,
       "version_minor": 0
      },
      "text/plain": [
       "  0%|          | 0/1 [00:00<?, ?it/s]"
      ]
     },
     "metadata": {},
     "output_type": "display_data"
    },
    {
     "name": "stdout",
     "output_type": "stream",
     "text": [
      "train_acc: 0.5625  val_acc: 0.125\n",
      "\n",
      "Epoch:  31 / 200\n"
     ]
    },
    {
     "data": {
      "application/vnd.jupyter.widget-view+json": {
       "model_id": "86311e8b583448058e64119039d07c41",
       "version_major": 2,
       "version_minor": 0
      },
      "text/plain": [
       "  0%|          | 0/1 [00:00<?, ?it/s]"
      ]
     },
     "metadata": {},
     "output_type": "display_data"
    },
    {
     "name": "stdout",
     "output_type": "stream",
     "text": [
      "train_acc: 0.625  val_acc: 0.125\n",
      "\n",
      "Epoch:  32 / 200\n"
     ]
    },
    {
     "data": {
      "application/vnd.jupyter.widget-view+json": {
       "model_id": "e81547365a7b4a17a0f542069349e284",
       "version_major": 2,
       "version_minor": 0
      },
      "text/plain": [
       "  0%|          | 0/1 [00:00<?, ?it/s]"
      ]
     },
     "metadata": {},
     "output_type": "display_data"
    },
    {
     "name": "stdout",
     "output_type": "stream",
     "text": [
      "train_acc: 0.6562  val_acc: 0.1562\n",
      "\n",
      "Epoch:  33 / 200\n"
     ]
    },
    {
     "data": {
      "application/vnd.jupyter.widget-view+json": {
       "model_id": "f71be7aaaa804f7498eb088c366a0794",
       "version_major": 2,
       "version_minor": 0
      },
      "text/plain": [
       "  0%|          | 0/1 [00:00<?, ?it/s]"
      ]
     },
     "metadata": {},
     "output_type": "display_data"
    },
    {
     "name": "stdout",
     "output_type": "stream",
     "text": [
      "train_acc: 0.6875  val_acc: 0.125\n",
      "Model saved at fine_tune_model.pt\n",
      "Best train loss: 0.023669620975852013\n",
      "\n",
      "Epoch:  34 / 200\n"
     ]
    },
    {
     "data": {
      "application/vnd.jupyter.widget-view+json": {
       "model_id": "685875c15c784b8b8895b6a78538e31c",
       "version_major": 2,
       "version_minor": 0
      },
      "text/plain": [
       "  0%|          | 0/1 [00:00<?, ?it/s]"
      ]
     },
     "metadata": {},
     "output_type": "display_data"
    },
    {
     "name": "stdout",
     "output_type": "stream",
     "text": [
      "train_acc: 0.6562  val_acc: 0.125\n",
      "\n",
      "Epoch:  35 / 200\n"
     ]
    },
    {
     "data": {
      "application/vnd.jupyter.widget-view+json": {
       "model_id": "8379a176d59341188fe31440a627a10e",
       "version_major": 2,
       "version_minor": 0
      },
      "text/plain": [
       "  0%|          | 0/1 [00:00<?, ?it/s]"
      ]
     },
     "metadata": {},
     "output_type": "display_data"
    },
    {
     "name": "stdout",
     "output_type": "stream",
     "text": [
      "train_acc: 0.6562  val_acc: 0.0938\n",
      "\n",
      "Epoch:  36 / 200\n"
     ]
    },
    {
     "data": {
      "application/vnd.jupyter.widget-view+json": {
       "model_id": "81ed361a63b746aabb6a11e5e8eef382",
       "version_major": 2,
       "version_minor": 0
      },
      "text/plain": [
       "  0%|          | 0/1 [00:00<?, ?it/s]"
      ]
     },
     "metadata": {},
     "output_type": "display_data"
    },
    {
     "name": "stdout",
     "output_type": "stream",
     "text": [
      "train_acc: 0.6562  val_acc: 0.1562\n",
      "\n",
      "Epoch:  37 / 200\n"
     ]
    },
    {
     "data": {
      "application/vnd.jupyter.widget-view+json": {
       "model_id": "a6f6ec64cc564b27be671c550b9e2242",
       "version_major": 2,
       "version_minor": 0
      },
      "text/plain": [
       "  0%|          | 0/1 [00:00<?, ?it/s]"
      ]
     },
     "metadata": {},
     "output_type": "display_data"
    },
    {
     "name": "stdout",
     "output_type": "stream",
     "text": [
      "train_acc: 0.6562  val_acc: 0.1562\n",
      "\n",
      "Epoch:  38 / 200\n"
     ]
    },
    {
     "data": {
      "application/vnd.jupyter.widget-view+json": {
       "model_id": "e0cd2c4ba9394f348536734c9e380757",
       "version_major": 2,
       "version_minor": 0
      },
      "text/plain": [
       "  0%|          | 0/1 [00:00<?, ?it/s]"
      ]
     },
     "metadata": {},
     "output_type": "display_data"
    },
    {
     "name": "stdout",
     "output_type": "stream",
     "text": [
      "train_acc: 0.625  val_acc: 0.125\n",
      "\n",
      "Epoch:  39 / 200\n"
     ]
    },
    {
     "data": {
      "application/vnd.jupyter.widget-view+json": {
       "model_id": "6982b5a31f7a4368bca764f9bbebba74",
       "version_major": 2,
       "version_minor": 0
      },
      "text/plain": [
       "  0%|          | 0/1 [00:00<?, ?it/s]"
      ]
     },
     "metadata": {},
     "output_type": "display_data"
    },
    {
     "name": "stdout",
     "output_type": "stream",
     "text": [
      "train_acc: 0.6562  val_acc: 0.125\n",
      "\n",
      "Epoch:  40 / 200\n"
     ]
    },
    {
     "data": {
      "application/vnd.jupyter.widget-view+json": {
       "model_id": "155f17bd026d44c49731db660b762edf",
       "version_major": 2,
       "version_minor": 0
      },
      "text/plain": [
       "  0%|          | 0/1 [00:00<?, ?it/s]"
      ]
     },
     "metadata": {},
     "output_type": "display_data"
    },
    {
     "name": "stdout",
     "output_type": "stream",
     "text": [
      "train_acc: 0.6562  val_acc: 0.1562\n",
      "\n",
      "Epoch:  41 / 200\n"
     ]
    },
    {
     "data": {
      "application/vnd.jupyter.widget-view+json": {
       "model_id": "2421df28743e400ea1c4827c8fed56ce",
       "version_major": 2,
       "version_minor": 0
      },
      "text/plain": [
       "  0%|          | 0/1 [00:00<?, ?it/s]"
      ]
     },
     "metadata": {},
     "output_type": "display_data"
    },
    {
     "name": "stdout",
     "output_type": "stream",
     "text": [
      "train_acc: 0.6562  val_acc: 0.125\n",
      "\n",
      "Epoch:  42 / 200\n"
     ]
    },
    {
     "data": {
      "application/vnd.jupyter.widget-view+json": {
       "model_id": "4a6f32662c8949ffb73ec2567e1a2174",
       "version_major": 2,
       "version_minor": 0
      },
      "text/plain": [
       "  0%|          | 0/1 [00:00<?, ?it/s]"
      ]
     },
     "metadata": {},
     "output_type": "display_data"
    },
    {
     "name": "stdout",
     "output_type": "stream",
     "text": [
      "train_acc: 0.6875  val_acc: 0.1562\n",
      "Model saved at fine_tune_model.pt\n",
      "Best train loss: 0.023312171921133995\n",
      "\n",
      "Epoch:  43 / 200\n"
     ]
    },
    {
     "data": {
      "application/vnd.jupyter.widget-view+json": {
       "model_id": "d2c417c3259b41eea16a2896cc373b13",
       "version_major": 2,
       "version_minor": 0
      },
      "text/plain": [
       "  0%|          | 0/1 [00:00<?, ?it/s]"
      ]
     },
     "metadata": {},
     "output_type": "display_data"
    },
    {
     "name": "stdout",
     "output_type": "stream",
     "text": [
      "train_acc: 0.625  val_acc: 0.125\n",
      "\n",
      "Epoch:  44 / 200\n"
     ]
    },
    {
     "data": {
      "application/vnd.jupyter.widget-view+json": {
       "model_id": "41be7a4b25c447f5b59f50cabdc7fd08",
       "version_major": 2,
       "version_minor": 0
      },
      "text/plain": [
       "  0%|          | 0/1 [00:00<?, ?it/s]"
      ]
     },
     "metadata": {},
     "output_type": "display_data"
    },
    {
     "name": "stdout",
     "output_type": "stream",
     "text": [
      "train_acc: 0.5625  val_acc: 0.1562\n",
      "\n",
      "Epoch:  45 / 200\n"
     ]
    },
    {
     "data": {
      "application/vnd.jupyter.widget-view+json": {
       "model_id": "1c32494f134d4201b88f651129b85bcc",
       "version_major": 2,
       "version_minor": 0
      },
      "text/plain": [
       "  0%|          | 0/1 [00:00<?, ?it/s]"
      ]
     },
     "metadata": {},
     "output_type": "display_data"
    },
    {
     "name": "stdout",
     "output_type": "stream",
     "text": [
      "train_acc: 0.6875  val_acc: 0.1562\n",
      "Model saved at fine_tune_model.pt\n",
      "Best train loss: 0.02330363541841507\n",
      "\n",
      "Epoch:  46 / 200\n"
     ]
    },
    {
     "data": {
      "application/vnd.jupyter.widget-view+json": {
       "model_id": "c9fc837a63464b20afbcad4f63a76f1d",
       "version_major": 2,
       "version_minor": 0
      },
      "text/plain": [
       "  0%|          | 0/1 [00:00<?, ?it/s]"
      ]
     },
     "metadata": {},
     "output_type": "display_data"
    },
    {
     "name": "stdout",
     "output_type": "stream",
     "text": [
      "train_acc: 0.625  val_acc: 0.1562\n",
      "\n",
      "Epoch:  47 / 200\n"
     ]
    },
    {
     "data": {
      "application/vnd.jupyter.widget-view+json": {
       "model_id": "a2dbfbf1814e4dab967755391eb6121b",
       "version_major": 2,
       "version_minor": 0
      },
      "text/plain": [
       "  0%|          | 0/1 [00:00<?, ?it/s]"
      ]
     },
     "metadata": {},
     "output_type": "display_data"
    },
    {
     "name": "stdout",
     "output_type": "stream",
     "text": [
      "train_acc: 0.625  val_acc: 0.1562\n",
      "\n",
      "Epoch:  48 / 200\n"
     ]
    },
    {
     "data": {
      "application/vnd.jupyter.widget-view+json": {
       "model_id": "93127e40cbc14dedba96b53eddb62472",
       "version_major": 2,
       "version_minor": 0
      },
      "text/plain": [
       "  0%|          | 0/1 [00:00<?, ?it/s]"
      ]
     },
     "metadata": {},
     "output_type": "display_data"
    },
    {
     "name": "stdout",
     "output_type": "stream",
     "text": [
      "train_acc: 0.6875  val_acc: 0.125\n",
      "\n",
      "Epoch:  49 / 200\n"
     ]
    },
    {
     "data": {
      "application/vnd.jupyter.widget-view+json": {
       "model_id": "9975148c28094834be444115e01d35a5",
       "version_major": 2,
       "version_minor": 0
      },
      "text/plain": [
       "  0%|          | 0/1 [00:00<?, ?it/s]"
      ]
     },
     "metadata": {},
     "output_type": "display_data"
    },
    {
     "name": "stdout",
     "output_type": "stream",
     "text": [
      "train_acc: 0.6562  val_acc: 0.125\n",
      "\n",
      "Epoch:  50 / 200\n"
     ]
    },
    {
     "data": {
      "application/vnd.jupyter.widget-view+json": {
       "model_id": "28614d93d1384807a36f38c13447886e",
       "version_major": 2,
       "version_minor": 0
      },
      "text/plain": [
       "  0%|          | 0/1 [00:00<?, ?it/s]"
      ]
     },
     "metadata": {},
     "output_type": "display_data"
    },
    {
     "name": "stdout",
     "output_type": "stream",
     "text": [
      "train_acc: 0.625  val_acc: 0.1562\n",
      "\n",
      "Epoch:  51 / 200\n"
     ]
    },
    {
     "data": {
      "application/vnd.jupyter.widget-view+json": {
       "model_id": "a679c353417a49178617f3da0dc5bc88",
       "version_major": 2,
       "version_minor": 0
      },
      "text/plain": [
       "  0%|          | 0/1 [00:00<?, ?it/s]"
      ]
     },
     "metadata": {},
     "output_type": "display_data"
    },
    {
     "name": "stdout",
     "output_type": "stream",
     "text": [
      "train_acc: 0.6562  val_acc: 0.1562\n",
      "\n",
      "Epoch:  52 / 200\n"
     ]
    },
    {
     "data": {
      "application/vnd.jupyter.widget-view+json": {
       "model_id": "e68802ffde6a4c3bb0b7de0d7540c964",
       "version_major": 2,
       "version_minor": 0
      },
      "text/plain": [
       "  0%|          | 0/1 [00:00<?, ?it/s]"
      ]
     },
     "metadata": {},
     "output_type": "display_data"
    },
    {
     "name": "stdout",
     "output_type": "stream",
     "text": [
      "train_acc: 0.6875  val_acc: 0.1562\n",
      "Model saved at fine_tune_model.pt\n",
      "Best train loss: 0.023277057334780693\n",
      "\n",
      "Epoch:  53 / 200\n"
     ]
    },
    {
     "data": {
      "application/vnd.jupyter.widget-view+json": {
       "model_id": "58abe9eb94b344ecbf615b054182ae68",
       "version_major": 2,
       "version_minor": 0
      },
      "text/plain": [
       "  0%|          | 0/1 [00:00<?, ?it/s]"
      ]
     },
     "metadata": {},
     "output_type": "display_data"
    },
    {
     "name": "stdout",
     "output_type": "stream",
     "text": [
      "train_acc: 0.6562  val_acc: 0.1562\n",
      "\n",
      "Epoch:  54 / 200\n"
     ]
    },
    {
     "data": {
      "application/vnd.jupyter.widget-view+json": {
       "model_id": "b130635fc0ec4e6b9d068619b305ffaa",
       "version_major": 2,
       "version_minor": 0
      },
      "text/plain": [
       "  0%|          | 0/1 [00:00<?, ?it/s]"
      ]
     },
     "metadata": {},
     "output_type": "display_data"
    },
    {
     "name": "stdout",
     "output_type": "stream",
     "text": [
      "train_acc: 0.625  val_acc: 0.1562\n",
      "\n",
      "Epoch:  55 / 200\n"
     ]
    },
    {
     "data": {
      "application/vnd.jupyter.widget-view+json": {
       "model_id": "6bf8c785055d4d05ba35e2e327861126",
       "version_major": 2,
       "version_minor": 0
      },
      "text/plain": [
       "  0%|          | 0/1 [00:00<?, ?it/s]"
      ]
     },
     "metadata": {},
     "output_type": "display_data"
    },
    {
     "name": "stdout",
     "output_type": "stream",
     "text": [
      "train_acc: 0.625  val_acc: 0.125\n",
      "\n",
      "Epoch:  56 / 200\n"
     ]
    },
    {
     "data": {
      "application/vnd.jupyter.widget-view+json": {
       "model_id": "628c1f5b4dce48bd984f6e60e8d329b1",
       "version_major": 2,
       "version_minor": 0
      },
      "text/plain": [
       "  0%|          | 0/1 [00:00<?, ?it/s]"
      ]
     },
     "metadata": {},
     "output_type": "display_data"
    },
    {
     "name": "stdout",
     "output_type": "stream",
     "text": [
      "train_acc: 0.6875  val_acc: 0.125\n",
      "\n",
      "Epoch:  57 / 200\n"
     ]
    },
    {
     "data": {
      "application/vnd.jupyter.widget-view+json": {
       "model_id": "056cbbcbc30d4053be78aa603891ff33",
       "version_major": 2,
       "version_minor": 0
      },
      "text/plain": [
       "  0%|          | 0/1 [00:00<?, ?it/s]"
      ]
     },
     "metadata": {},
     "output_type": "display_data"
    },
    {
     "name": "stdout",
     "output_type": "stream",
     "text": [
      "train_acc: 0.6875  val_acc: 0.1562\n",
      "\n",
      "Epoch:  58 / 200\n"
     ]
    },
    {
     "data": {
      "application/vnd.jupyter.widget-view+json": {
       "model_id": "24429a8321084b83932b58ef8af24da7",
       "version_major": 2,
       "version_minor": 0
      },
      "text/plain": [
       "  0%|          | 0/1 [00:00<?, ?it/s]"
      ]
     },
     "metadata": {},
     "output_type": "display_data"
    },
    {
     "name": "stdout",
     "output_type": "stream",
     "text": [
      "train_acc: 0.6875  val_acc: 0.125\n",
      "\n",
      "Epoch:  59 / 200\n"
     ]
    },
    {
     "data": {
      "application/vnd.jupyter.widget-view+json": {
       "model_id": "ab7de3dd3e78436d869fe75ef1719d48",
       "version_major": 2,
       "version_minor": 0
      },
      "text/plain": [
       "  0%|          | 0/1 [00:00<?, ?it/s]"
      ]
     },
     "metadata": {},
     "output_type": "display_data"
    },
    {
     "name": "stdout",
     "output_type": "stream",
     "text": [
      "train_acc: 0.6875  val_acc: 0.1562\n",
      "Model saved at fine_tune_model.pt\n",
      "Best train loss: 0.02327299676835537\n",
      "\n",
      "Epoch:  60 / 200\n"
     ]
    },
    {
     "data": {
      "application/vnd.jupyter.widget-view+json": {
       "model_id": "5a8953de9b8c4b2f986767e07a046e1b",
       "version_major": 2,
       "version_minor": 0
      },
      "text/plain": [
       "  0%|          | 0/1 [00:00<?, ?it/s]"
      ]
     },
     "metadata": {},
     "output_type": "display_data"
    },
    {
     "name": "stdout",
     "output_type": "stream",
     "text": [
      "train_acc: 0.6562  val_acc: 0.0938\n",
      "\n",
      "Epoch:  61 / 200\n"
     ]
    },
    {
     "data": {
      "application/vnd.jupyter.widget-view+json": {
       "model_id": "83b55af5cdd3486dbeffa6c9b30f2a71",
       "version_major": 2,
       "version_minor": 0
      },
      "text/plain": [
       "  0%|          | 0/1 [00:00<?, ?it/s]"
      ]
     },
     "metadata": {},
     "output_type": "display_data"
    },
    {
     "name": "stdout",
     "output_type": "stream",
     "text": [
      "train_acc: 0.6875  val_acc: 0.125\n",
      "Model saved at fine_tune_model.pt\n",
      "Best train loss: 0.023245958611369133\n",
      "\n",
      "Epoch:  62 / 200\n"
     ]
    },
    {
     "data": {
      "application/vnd.jupyter.widget-view+json": {
       "model_id": "03a10cc8ad2e456eaff7d084088a7a8f",
       "version_major": 2,
       "version_minor": 0
      },
      "text/plain": [
       "  0%|          | 0/1 [00:00<?, ?it/s]"
      ]
     },
     "metadata": {},
     "output_type": "display_data"
    },
    {
     "name": "stdout",
     "output_type": "stream",
     "text": [
      "train_acc: 0.6875  val_acc: 0.125\n",
      "\n",
      "Epoch:  63 / 200\n"
     ]
    },
    {
     "data": {
      "application/vnd.jupyter.widget-view+json": {
       "model_id": "6a0db4196426425d9c6a0179a780150b",
       "version_major": 2,
       "version_minor": 0
      },
      "text/plain": [
       "  0%|          | 0/1 [00:00<?, ?it/s]"
      ]
     },
     "metadata": {},
     "output_type": "display_data"
    },
    {
     "name": "stdout",
     "output_type": "stream",
     "text": [
      "train_acc: 0.6562  val_acc: 0.1562\n",
      "\n",
      "Epoch:  64 / 200\n"
     ]
    },
    {
     "data": {
      "application/vnd.jupyter.widget-view+json": {
       "model_id": "b1405de49c76403d89e54f5fa4c48a5a",
       "version_major": 2,
       "version_minor": 0
      },
      "text/plain": [
       "  0%|          | 0/1 [00:00<?, ?it/s]"
      ]
     },
     "metadata": {},
     "output_type": "display_data"
    },
    {
     "name": "stdout",
     "output_type": "stream",
     "text": [
      "train_acc: 0.6562  val_acc: 0.1562\n",
      "\n",
      "Epoch:  65 / 200\n"
     ]
    },
    {
     "data": {
      "application/vnd.jupyter.widget-view+json": {
       "model_id": "5e54f602a7ec4ab59948e28336cef12e",
       "version_major": 2,
       "version_minor": 0
      },
      "text/plain": [
       "  0%|          | 0/1 [00:00<?, ?it/s]"
      ]
     },
     "metadata": {},
     "output_type": "display_data"
    },
    {
     "name": "stdout",
     "output_type": "stream",
     "text": [
      "train_acc: 0.6875  val_acc: 0.125\n",
      "\n",
      "Epoch:  66 / 200\n"
     ]
    },
    {
     "data": {
      "application/vnd.jupyter.widget-view+json": {
       "model_id": "cdb0e836a2b147aa836cedef3502a147",
       "version_major": 2,
       "version_minor": 0
      },
      "text/plain": [
       "  0%|          | 0/1 [00:00<?, ?it/s]"
      ]
     },
     "metadata": {},
     "output_type": "display_data"
    },
    {
     "name": "stdout",
     "output_type": "stream",
     "text": [
      "train_acc: 0.6562  val_acc: 0.1562\n",
      "\n",
      "Epoch:  67 / 200\n"
     ]
    },
    {
     "data": {
      "application/vnd.jupyter.widget-view+json": {
       "model_id": "b7c4686fd6464e8d968f1e3ee1d8b6d5",
       "version_major": 2,
       "version_minor": 0
      },
      "text/plain": [
       "  0%|          | 0/1 [00:00<?, ?it/s]"
      ]
     },
     "metadata": {},
     "output_type": "display_data"
    },
    {
     "name": "stdout",
     "output_type": "stream",
     "text": [
      "train_acc: 0.625  val_acc: 0.125\n",
      "\n",
      "Epoch:  68 / 200\n"
     ]
    },
    {
     "data": {
      "application/vnd.jupyter.widget-view+json": {
       "model_id": "bf90a1af278f4f54a4460ce674d5d5fe",
       "version_major": 2,
       "version_minor": 0
      },
      "text/plain": [
       "  0%|          | 0/1 [00:00<?, ?it/s]"
      ]
     },
     "metadata": {},
     "output_type": "display_data"
    },
    {
     "name": "stdout",
     "output_type": "stream",
     "text": [
      "train_acc: 0.6562  val_acc: 0.0938\n",
      "\n",
      "Epoch:  69 / 200\n"
     ]
    },
    {
     "data": {
      "application/vnd.jupyter.widget-view+json": {
       "model_id": "d3e7c35ccd3f4e6f9ba22fdb1d6d5986",
       "version_major": 2,
       "version_minor": 0
      },
      "text/plain": [
       "  0%|          | 0/1 [00:00<?, ?it/s]"
      ]
     },
     "metadata": {},
     "output_type": "display_data"
    },
    {
     "name": "stdout",
     "output_type": "stream",
     "text": [
      "train_acc: 0.6875  val_acc: 0.1562\n",
      "\n",
      "Epoch:  70 / 200\n"
     ]
    },
    {
     "data": {
      "application/vnd.jupyter.widget-view+json": {
       "model_id": "98c0573b7a504d8a884744eb163d40e5",
       "version_major": 2,
       "version_minor": 0
      },
      "text/plain": [
       "  0%|          | 0/1 [00:00<?, ?it/s]"
      ]
     },
     "metadata": {},
     "output_type": "display_data"
    },
    {
     "name": "stdout",
     "output_type": "stream",
     "text": [
      "train_acc: 0.6875  val_acc: 0.0938\n",
      "\n",
      "Epoch:  71 / 200\n"
     ]
    },
    {
     "data": {
      "application/vnd.jupyter.widget-view+json": {
       "model_id": "c91df2f8e20d4f5ea51335bd7218e550",
       "version_major": 2,
       "version_minor": 0
      },
      "text/plain": [
       "  0%|          | 0/1 [00:00<?, ?it/s]"
      ]
     },
     "metadata": {},
     "output_type": "display_data"
    },
    {
     "name": "stdout",
     "output_type": "stream",
     "text": [
      "train_acc: 0.6875  val_acc: 0.1562\n",
      "Model saved at fine_tune_model.pt\n",
      "Best train loss: 0.023243561387062073\n",
      "\n",
      "Epoch:  72 / 200\n"
     ]
    },
    {
     "data": {
      "application/vnd.jupyter.widget-view+json": {
       "model_id": "3bf5b6d8b82546ff8ddb4c288b4fbd5f",
       "version_major": 2,
       "version_minor": 0
      },
      "text/plain": [
       "  0%|          | 0/1 [00:00<?, ?it/s]"
      ]
     },
     "metadata": {},
     "output_type": "display_data"
    },
    {
     "name": "stdout",
     "output_type": "stream",
     "text": [
      "train_acc: 0.6562  val_acc: 0.125\n",
      "\n",
      "Epoch:  73 / 200\n"
     ]
    },
    {
     "data": {
      "application/vnd.jupyter.widget-view+json": {
       "model_id": "7276e34e40694b57a30c5dc0639b2008",
       "version_major": 2,
       "version_minor": 0
      },
      "text/plain": [
       "  0%|          | 0/1 [00:00<?, ?it/s]"
      ]
     },
     "metadata": {},
     "output_type": "display_data"
    },
    {
     "name": "stdout",
     "output_type": "stream",
     "text": [
      "train_acc: 0.6562  val_acc: 0.1562\n",
      "\n",
      "Epoch:  74 / 200\n"
     ]
    },
    {
     "data": {
      "application/vnd.jupyter.widget-view+json": {
       "model_id": "9321f971b4f143b2bf4e0fe40e319c9c",
       "version_major": 2,
       "version_minor": 0
      },
      "text/plain": [
       "  0%|          | 0/1 [00:00<?, ?it/s]"
      ]
     },
     "metadata": {},
     "output_type": "display_data"
    },
    {
     "name": "stdout",
     "output_type": "stream",
     "text": [
      "train_acc: 0.6562  val_acc: 0.1562\n",
      "\n",
      "Epoch:  75 / 200\n"
     ]
    },
    {
     "data": {
      "application/vnd.jupyter.widget-view+json": {
       "model_id": "5bcc00450f934670834815f73c363bed",
       "version_major": 2,
       "version_minor": 0
      },
      "text/plain": [
       "  0%|          | 0/1 [00:00<?, ?it/s]"
      ]
     },
     "metadata": {},
     "output_type": "display_data"
    },
    {
     "name": "stdout",
     "output_type": "stream",
     "text": [
      "train_acc: 0.6875  val_acc: 0.125\n",
      "\n",
      "Epoch:  76 / 200\n"
     ]
    },
    {
     "data": {
      "application/vnd.jupyter.widget-view+json": {
       "model_id": "404afab45d4c4dd094920fbf4b1e7de2",
       "version_major": 2,
       "version_minor": 0
      },
      "text/plain": [
       "  0%|          | 0/1 [00:00<?, ?it/s]"
      ]
     },
     "metadata": {},
     "output_type": "display_data"
    },
    {
     "name": "stdout",
     "output_type": "stream",
     "text": [
      "train_acc: 0.6875  val_acc: 0.125\n",
      "\n",
      "Epoch:  77 / 200\n"
     ]
    },
    {
     "data": {
      "application/vnd.jupyter.widget-view+json": {
       "model_id": "ee8d96fef81e4479b044a0a84ae2defe",
       "version_major": 2,
       "version_minor": 0
      },
      "text/plain": [
       "  0%|          | 0/1 [00:00<?, ?it/s]"
      ]
     },
     "metadata": {},
     "output_type": "display_data"
    },
    {
     "name": "stdout",
     "output_type": "stream",
     "text": [
      "train_acc: 0.6562  val_acc: 0.1562\n",
      "\n",
      "Epoch:  78 / 200\n"
     ]
    },
    {
     "data": {
      "application/vnd.jupyter.widget-view+json": {
       "model_id": "7cc6589b2f174e68bc0de3c16d2a387c",
       "version_major": 2,
       "version_minor": 0
      },
      "text/plain": [
       "  0%|          | 0/1 [00:00<?, ?it/s]"
      ]
     },
     "metadata": {},
     "output_type": "display_data"
    },
    {
     "name": "stdout",
     "output_type": "stream",
     "text": [
      "train_acc: 0.6875  val_acc: 0.0938\n",
      "\n",
      "Epoch:  79 / 200\n"
     ]
    },
    {
     "data": {
      "application/vnd.jupyter.widget-view+json": {
       "model_id": "bfc075f1016648ba8c00a1a847f9e268",
       "version_major": 2,
       "version_minor": 0
      },
      "text/plain": [
       "  0%|          | 0/1 [00:00<?, ?it/s]"
      ]
     },
     "metadata": {},
     "output_type": "display_data"
    },
    {
     "name": "stdout",
     "output_type": "stream",
     "text": [
      "train_acc: 0.6875  val_acc: 0.0938\n",
      "\n",
      "Epoch:  80 / 200\n"
     ]
    },
    {
     "data": {
      "application/vnd.jupyter.widget-view+json": {
       "model_id": "4a40b517df8c430a84abc9ac11b92155",
       "version_major": 2,
       "version_minor": 0
      },
      "text/plain": [
       "  0%|          | 0/1 [00:00<?, ?it/s]"
      ]
     },
     "metadata": {},
     "output_type": "display_data"
    },
    {
     "name": "stdout",
     "output_type": "stream",
     "text": [
      "train_acc: 0.6875  val_acc: 0.125\n",
      "\n",
      "Epoch:  81 / 200\n"
     ]
    },
    {
     "data": {
      "application/vnd.jupyter.widget-view+json": {
       "model_id": "f4ba750c7b6f4336a664ebf0f6893313",
       "version_major": 2,
       "version_minor": 0
      },
      "text/plain": [
       "  0%|          | 0/1 [00:00<?, ?it/s]"
      ]
     },
     "metadata": {},
     "output_type": "display_data"
    },
    {
     "name": "stdout",
     "output_type": "stream",
     "text": [
      "train_acc: 0.6875  val_acc: 0.1562\n",
      "\n",
      "Epoch:  82 / 200\n"
     ]
    },
    {
     "data": {
      "application/vnd.jupyter.widget-view+json": {
       "model_id": "c24b1a3ac5404d94851db02b7eaa16f8",
       "version_major": 2,
       "version_minor": 0
      },
      "text/plain": [
       "  0%|          | 0/1 [00:00<?, ?it/s]"
      ]
     },
     "metadata": {},
     "output_type": "display_data"
    },
    {
     "name": "stdout",
     "output_type": "stream",
     "text": [
      "train_acc: 0.6562  val_acc: 0.1562\n",
      "\n",
      "Epoch:  83 / 200\n"
     ]
    },
    {
     "data": {
      "application/vnd.jupyter.widget-view+json": {
       "model_id": "75b5d9a215704fd4a5e06d12d3dfd046",
       "version_major": 2,
       "version_minor": 0
      },
      "text/plain": [
       "  0%|          | 0/1 [00:00<?, ?it/s]"
      ]
     },
     "metadata": {},
     "output_type": "display_data"
    },
    {
     "name": "stdout",
     "output_type": "stream",
     "text": [
      "train_acc: 0.6875  val_acc: 0.125\n",
      "\n",
      "Epoch:  84 / 200\n"
     ]
    },
    {
     "data": {
      "application/vnd.jupyter.widget-view+json": {
       "model_id": "9ad6ef1eedad4b5087f812fe2a0a7dcb",
       "version_major": 2,
       "version_minor": 0
      },
      "text/plain": [
       "  0%|          | 0/1 [00:00<?, ?it/s]"
      ]
     },
     "metadata": {},
     "output_type": "display_data"
    },
    {
     "name": "stdout",
     "output_type": "stream",
     "text": [
      "train_acc: 0.6562  val_acc: 0.125\n",
      "\n",
      "Epoch:  85 / 200\n"
     ]
    },
    {
     "data": {
      "application/vnd.jupyter.widget-view+json": {
       "model_id": "19f3d919fb90481dbf872b112f4293f8",
       "version_major": 2,
       "version_minor": 0
      },
      "text/plain": [
       "  0%|          | 0/1 [00:00<?, ?it/s]"
      ]
     },
     "metadata": {},
     "output_type": "display_data"
    },
    {
     "name": "stdout",
     "output_type": "stream",
     "text": [
      "train_acc: 0.6875  val_acc: 0.125\n",
      "\n",
      "Epoch:  86 / 200\n"
     ]
    },
    {
     "data": {
      "application/vnd.jupyter.widget-view+json": {
       "model_id": "cdfa211247ba44688df28af748121d5e",
       "version_major": 2,
       "version_minor": 0
      },
      "text/plain": [
       "  0%|          | 0/1 [00:00<?, ?it/s]"
      ]
     },
     "metadata": {},
     "output_type": "display_data"
    },
    {
     "name": "stdout",
     "output_type": "stream",
     "text": [
      "train_acc: 0.6562  val_acc: 0.125\n",
      "\n",
      "Epoch:  87 / 200\n"
     ]
    },
    {
     "data": {
      "application/vnd.jupyter.widget-view+json": {
       "model_id": "412559fa2dbf4fc1a5bb234c2461fc72",
       "version_major": 2,
       "version_minor": 0
      },
      "text/plain": [
       "  0%|          | 0/1 [00:00<?, ?it/s]"
      ]
     },
     "metadata": {},
     "output_type": "display_data"
    },
    {
     "name": "stdout",
     "output_type": "stream",
     "text": [
      "train_acc: 0.6562  val_acc: 0.125\n",
      "\n",
      "Epoch:  88 / 200\n"
     ]
    },
    {
     "data": {
      "application/vnd.jupyter.widget-view+json": {
       "model_id": "632e33877ace4c67a301249062fabc1a",
       "version_major": 2,
       "version_minor": 0
      },
      "text/plain": [
       "  0%|          | 0/1 [00:00<?, ?it/s]"
      ]
     },
     "metadata": {},
     "output_type": "display_data"
    },
    {
     "name": "stdout",
     "output_type": "stream",
     "text": [
      "train_acc: 0.6562  val_acc: 0.1562\n",
      "\n",
      "Epoch:  89 / 200\n"
     ]
    },
    {
     "data": {
      "application/vnd.jupyter.widget-view+json": {
       "model_id": "c4ec95a8582e410eb3d20ebdec3d32c4",
       "version_major": 2,
       "version_minor": 0
      },
      "text/plain": [
       "  0%|          | 0/1 [00:00<?, ?it/s]"
      ]
     },
     "metadata": {},
     "output_type": "display_data"
    },
    {
     "name": "stdout",
     "output_type": "stream",
     "text": [
      "train_acc: 0.6562  val_acc: 0.125\n",
      "\n",
      "Epoch:  90 / 200\n"
     ]
    },
    {
     "data": {
      "application/vnd.jupyter.widget-view+json": {
       "model_id": "4125083c3b35464489b19819236b491a",
       "version_major": 2,
       "version_minor": 0
      },
      "text/plain": [
       "  0%|          | 0/1 [00:00<?, ?it/s]"
      ]
     },
     "metadata": {},
     "output_type": "display_data"
    },
    {
     "name": "stdout",
     "output_type": "stream",
     "text": [
      "train_acc: 0.6562  val_acc: 0.125\n",
      "\n",
      "Epoch:  91 / 200\n"
     ]
    },
    {
     "data": {
      "application/vnd.jupyter.widget-view+json": {
       "model_id": "7955b9fa8b2f48099857806773de548a",
       "version_major": 2,
       "version_minor": 0
      },
      "text/plain": [
       "  0%|          | 0/1 [00:00<?, ?it/s]"
      ]
     },
     "metadata": {},
     "output_type": "display_data"
    },
    {
     "name": "stdout",
     "output_type": "stream",
     "text": [
      "train_acc: 0.6562  val_acc: 0.0938\n",
      "\n",
      "Epoch:  92 / 200\n"
     ]
    },
    {
     "data": {
      "application/vnd.jupyter.widget-view+json": {
       "model_id": "d95e94bf544346d196cd68540e2b06c2",
       "version_major": 2,
       "version_minor": 0
      },
      "text/plain": [
       "  0%|          | 0/1 [00:00<?, ?it/s]"
      ]
     },
     "metadata": {},
     "output_type": "display_data"
    },
    {
     "name": "stdout",
     "output_type": "stream",
     "text": [
      "train_acc: 0.6875  val_acc: 0.1875\n",
      "\n",
      "Epoch:  93 / 200\n"
     ]
    },
    {
     "data": {
      "application/vnd.jupyter.widget-view+json": {
       "model_id": "2cb09ba0e3fc4997a9e5f3a61ee9b835",
       "version_major": 2,
       "version_minor": 0
      },
      "text/plain": [
       "  0%|          | 0/1 [00:00<?, ?it/s]"
      ]
     },
     "metadata": {},
     "output_type": "display_data"
    },
    {
     "name": "stdout",
     "output_type": "stream",
     "text": [
      "train_acc: 0.6562  val_acc: 0.125\n",
      "\n",
      "Epoch:  94 / 200\n"
     ]
    },
    {
     "data": {
      "application/vnd.jupyter.widget-view+json": {
       "model_id": "167ed5d9b8f74117b41c286a3f4eac1a",
       "version_major": 2,
       "version_minor": 0
      },
      "text/plain": [
       "  0%|          | 0/1 [00:00<?, ?it/s]"
      ]
     },
     "metadata": {},
     "output_type": "display_data"
    },
    {
     "name": "stdout",
     "output_type": "stream",
     "text": [
      "train_acc: 0.6875  val_acc: 0.0938\n",
      "\n",
      "Epoch:  95 / 200\n"
     ]
    },
    {
     "data": {
      "application/vnd.jupyter.widget-view+json": {
       "model_id": "29f0c5a3ef3343e291eabf86eae6529a",
       "version_major": 2,
       "version_minor": 0
      },
      "text/plain": [
       "  0%|          | 0/1 [00:00<?, ?it/s]"
      ]
     },
     "metadata": {},
     "output_type": "display_data"
    },
    {
     "name": "stdout",
     "output_type": "stream",
     "text": [
      "train_acc: 0.6562  val_acc: 0.1562\n",
      "\n",
      "Epoch:  96 / 200\n"
     ]
    },
    {
     "data": {
      "application/vnd.jupyter.widget-view+json": {
       "model_id": "ad7f801b178b4da697cae4a8df62614f",
       "version_major": 2,
       "version_minor": 0
      },
      "text/plain": [
       "  0%|          | 0/1 [00:00<?, ?it/s]"
      ]
     },
     "metadata": {},
     "output_type": "display_data"
    },
    {
     "name": "stdout",
     "output_type": "stream",
     "text": [
      "train_acc: 0.6562  val_acc: 0.0938\n",
      "\n",
      "Epoch:  97 / 200\n"
     ]
    },
    {
     "data": {
      "application/vnd.jupyter.widget-view+json": {
       "model_id": "b622736694f648409e7663108c9afcb7",
       "version_major": 2,
       "version_minor": 0
      },
      "text/plain": [
       "  0%|          | 0/1 [00:00<?, ?it/s]"
      ]
     },
     "metadata": {},
     "output_type": "display_data"
    },
    {
     "name": "stdout",
     "output_type": "stream",
     "text": [
      "train_acc: 0.6562  val_acc: 0.0938\n",
      "\n",
      "Epoch:  98 / 200\n"
     ]
    },
    {
     "data": {
      "application/vnd.jupyter.widget-view+json": {
       "model_id": "091eedff76184816805822a99cf4bdcf",
       "version_major": 2,
       "version_minor": 0
      },
      "text/plain": [
       "  0%|          | 0/1 [00:00<?, ?it/s]"
      ]
     },
     "metadata": {},
     "output_type": "display_data"
    },
    {
     "name": "stdout",
     "output_type": "stream",
     "text": [
      "train_acc: 0.6875  val_acc: 0.125\n",
      "\n",
      "Epoch:  99 / 200\n"
     ]
    },
    {
     "data": {
      "application/vnd.jupyter.widget-view+json": {
       "model_id": "01ae3eb8803a426fb856a776e6efc332",
       "version_major": 2,
       "version_minor": 0
      },
      "text/plain": [
       "  0%|          | 0/1 [00:00<?, ?it/s]"
      ]
     },
     "metadata": {},
     "output_type": "display_data"
    },
    {
     "name": "stdout",
     "output_type": "stream",
     "text": [
      "train_acc: 0.6562  val_acc: 0.1875\n",
      "\n",
      "Epoch:  100 / 200\n"
     ]
    },
    {
     "data": {
      "application/vnd.jupyter.widget-view+json": {
       "model_id": "0c9e7d6324394da4b06aff931ab833e9",
       "version_major": 2,
       "version_minor": 0
      },
      "text/plain": [
       "  0%|          | 0/1 [00:00<?, ?it/s]"
      ]
     },
     "metadata": {},
     "output_type": "display_data"
    },
    {
     "name": "stdout",
     "output_type": "stream",
     "text": [
      "train_acc: 0.6875  val_acc: 0.125\n",
      "\n",
      "Epoch:  101 / 200\n"
     ]
    },
    {
     "data": {
      "application/vnd.jupyter.widget-view+json": {
       "model_id": "2e53209504b8458f98f9e865be7a377c",
       "version_major": 2,
       "version_minor": 0
      },
      "text/plain": [
       "  0%|          | 0/1 [00:00<?, ?it/s]"
      ]
     },
     "metadata": {},
     "output_type": "display_data"
    },
    {
     "name": "stdout",
     "output_type": "stream",
     "text": [
      "train_acc: 0.6562  val_acc: 0.125\n",
      "\n",
      "Epoch:  102 / 200\n"
     ]
    },
    {
     "data": {
      "application/vnd.jupyter.widget-view+json": {
       "model_id": "afd9fafac55c484c91ac8450e1a779be",
       "version_major": 2,
       "version_minor": 0
      },
      "text/plain": [
       "  0%|          | 0/1 [00:00<?, ?it/s]"
      ]
     },
     "metadata": {},
     "output_type": "display_data"
    },
    {
     "name": "stdout",
     "output_type": "stream",
     "text": [
      "train_acc: 0.6875  val_acc: 0.125\n",
      "\n",
      "Epoch:  103 / 200\n"
     ]
    },
    {
     "data": {
      "application/vnd.jupyter.widget-view+json": {
       "model_id": "4b352cca0438411e890a0fc79e9eec92",
       "version_major": 2,
       "version_minor": 0
      },
      "text/plain": [
       "  0%|          | 0/1 [00:00<?, ?it/s]"
      ]
     },
     "metadata": {},
     "output_type": "display_data"
    },
    {
     "name": "stdout",
     "output_type": "stream",
     "text": [
      "train_acc: 0.6875  val_acc: 0.1875\n",
      "Model saved at fine_tune_model.pt\n",
      "Best train loss: 0.023241236805915833\n",
      "\n",
      "Epoch:  104 / 200\n"
     ]
    },
    {
     "data": {
      "application/vnd.jupyter.widget-view+json": {
       "model_id": "9433bbbb1fe04de5b28de170f70f50e9",
       "version_major": 2,
       "version_minor": 0
      },
      "text/plain": [
       "  0%|          | 0/1 [00:00<?, ?it/s]"
      ]
     },
     "metadata": {},
     "output_type": "display_data"
    },
    {
     "name": "stdout",
     "output_type": "stream",
     "text": [
      "train_acc: 0.6562  val_acc: 0.1562\n",
      "\n",
      "Epoch:  105 / 200\n"
     ]
    },
    {
     "data": {
      "application/vnd.jupyter.widget-view+json": {
       "model_id": "b85cbc55dee3476c857dbac39a3e1214",
       "version_major": 2,
       "version_minor": 0
      },
      "text/plain": [
       "  0%|          | 0/1 [00:00<?, ?it/s]"
      ]
     },
     "metadata": {},
     "output_type": "display_data"
    },
    {
     "name": "stdout",
     "output_type": "stream",
     "text": [
      "train_acc: 0.6562  val_acc: 0.125\n",
      "\n",
      "Epoch:  106 / 200\n"
     ]
    },
    {
     "data": {
      "application/vnd.jupyter.widget-view+json": {
       "model_id": "822ff6d3ec964b789b1a25bac20446c4",
       "version_major": 2,
       "version_minor": 0
      },
      "text/plain": [
       "  0%|          | 0/1 [00:00<?, ?it/s]"
      ]
     },
     "metadata": {},
     "output_type": "display_data"
    },
    {
     "name": "stdout",
     "output_type": "stream",
     "text": [
      "train_acc: 0.6562  val_acc: 0.0938\n",
      "\n",
      "Epoch:  107 / 200\n"
     ]
    },
    {
     "data": {
      "application/vnd.jupyter.widget-view+json": {
       "model_id": "fdac8923567f468e81226110eff027a7",
       "version_major": 2,
       "version_minor": 0
      },
      "text/plain": [
       "  0%|          | 0/1 [00:00<?, ?it/s]"
      ]
     },
     "metadata": {},
     "output_type": "display_data"
    },
    {
     "name": "stdout",
     "output_type": "stream",
     "text": [
      "train_acc: 0.6562  val_acc: 0.1875\n",
      "\n",
      "Epoch:  108 / 200\n"
     ]
    },
    {
     "data": {
      "application/vnd.jupyter.widget-view+json": {
       "model_id": "e2b6e57754b04330a8be4558040de3dc",
       "version_major": 2,
       "version_minor": 0
      },
      "text/plain": [
       "  0%|          | 0/1 [00:00<?, ?it/s]"
      ]
     },
     "metadata": {},
     "output_type": "display_data"
    },
    {
     "name": "stdout",
     "output_type": "stream",
     "text": [
      "train_acc: 0.6562  val_acc: 0.1562\n",
      "\n",
      "Epoch:  109 / 200\n"
     ]
    },
    {
     "data": {
      "application/vnd.jupyter.widget-view+json": {
       "model_id": "98c50b3672954157a26754408934f9f4",
       "version_major": 2,
       "version_minor": 0
      },
      "text/plain": [
       "  0%|          | 0/1 [00:00<?, ?it/s]"
      ]
     },
     "metadata": {},
     "output_type": "display_data"
    },
    {
     "name": "stdout",
     "output_type": "stream",
     "text": [
      "train_acc: 0.6875  val_acc: 0.125\n",
      "\n",
      "Epoch:  110 / 200\n"
     ]
    },
    {
     "data": {
      "application/vnd.jupyter.widget-view+json": {
       "model_id": "b33bbc2eff894a3895d572ca3a4cbc57",
       "version_major": 2,
       "version_minor": 0
      },
      "text/plain": [
       "  0%|          | 0/1 [00:00<?, ?it/s]"
      ]
     },
     "metadata": {},
     "output_type": "display_data"
    },
    {
     "name": "stdout",
     "output_type": "stream",
     "text": [
      "train_acc: 0.6562  val_acc: 0.1562\n",
      "\n",
      "Epoch:  111 / 200\n"
     ]
    },
    {
     "data": {
      "application/vnd.jupyter.widget-view+json": {
       "model_id": "1700c25be6f04a578796ffce152dd7cf",
       "version_major": 2,
       "version_minor": 0
      },
      "text/plain": [
       "  0%|          | 0/1 [00:00<?, ?it/s]"
      ]
     },
     "metadata": {},
     "output_type": "display_data"
    },
    {
     "name": "stdout",
     "output_type": "stream",
     "text": [
      "train_acc: 0.6875  val_acc: 0.1562\n",
      "\n",
      "Epoch:  112 / 200\n"
     ]
    },
    {
     "data": {
      "application/vnd.jupyter.widget-view+json": {
       "model_id": "7eb7ff1397644c18904833fd03cd27b2",
       "version_major": 2,
       "version_minor": 0
      },
      "text/plain": [
       "  0%|          | 0/1 [00:00<?, ?it/s]"
      ]
     },
     "metadata": {},
     "output_type": "display_data"
    },
    {
     "name": "stdout",
     "output_type": "stream",
     "text": [
      "train_acc: 0.6875  val_acc: 0.1562\n",
      "\n",
      "Epoch:  113 / 200\n"
     ]
    },
    {
     "data": {
      "application/vnd.jupyter.widget-view+json": {
       "model_id": "16922b8b64ce429994044a1dab702e19",
       "version_major": 2,
       "version_minor": 0
      },
      "text/plain": [
       "  0%|          | 0/1 [00:00<?, ?it/s]"
      ]
     },
     "metadata": {},
     "output_type": "display_data"
    },
    {
     "name": "stdout",
     "output_type": "stream",
     "text": [
      "train_acc: 0.6875  val_acc: 0.0938\n",
      "\n",
      "Epoch:  114 / 200\n"
     ]
    },
    {
     "data": {
      "application/vnd.jupyter.widget-view+json": {
       "model_id": "7df629919837472cbd7a42dcf012f4c0",
       "version_major": 2,
       "version_minor": 0
      },
      "text/plain": [
       "  0%|          | 0/1 [00:00<?, ?it/s]"
      ]
     },
     "metadata": {},
     "output_type": "display_data"
    },
    {
     "name": "stdout",
     "output_type": "stream",
     "text": [
      "train_acc: 0.6562  val_acc: 0.125\n",
      "\n",
      "Epoch:  115 / 200\n"
     ]
    },
    {
     "data": {
      "application/vnd.jupyter.widget-view+json": {
       "model_id": "9ced924e65fa4a539bf4b34a2f856957",
       "version_major": 2,
       "version_minor": 0
      },
      "text/plain": [
       "  0%|          | 0/1 [00:00<?, ?it/s]"
      ]
     },
     "metadata": {},
     "output_type": "display_data"
    },
    {
     "name": "stdout",
     "output_type": "stream",
     "text": [
      "train_acc: 0.6562  val_acc: 0.125\n",
      "\n",
      "Epoch:  116 / 200\n"
     ]
    },
    {
     "data": {
      "application/vnd.jupyter.widget-view+json": {
       "model_id": "94a3ef89160b42668e688508a6473e1a",
       "version_major": 2,
       "version_minor": 0
      },
      "text/plain": [
       "  0%|          | 0/1 [00:00<?, ?it/s]"
      ]
     },
     "metadata": {},
     "output_type": "display_data"
    },
    {
     "name": "stdout",
     "output_type": "stream",
     "text": [
      "train_acc: 0.6875  val_acc: 0.125\n",
      "Model saved at fine_tune_model.pt\n",
      "Best train loss: 0.02324122004210949\n",
      "\n",
      "Epoch:  117 / 200\n"
     ]
    },
    {
     "data": {
      "application/vnd.jupyter.widget-view+json": {
       "model_id": "29ceaf17596f46bfa6ab83927ec031b2",
       "version_major": 2,
       "version_minor": 0
      },
      "text/plain": [
       "  0%|          | 0/1 [00:00<?, ?it/s]"
      ]
     },
     "metadata": {},
     "output_type": "display_data"
    },
    {
     "name": "stdout",
     "output_type": "stream",
     "text": [
      "train_acc: 0.6562  val_acc: 0.125\n",
      "\n",
      "Epoch:  118 / 200\n"
     ]
    },
    {
     "data": {
      "application/vnd.jupyter.widget-view+json": {
       "model_id": "e07f4fd856bf43a1956674eba38d3da8",
       "version_major": 2,
       "version_minor": 0
      },
      "text/plain": [
       "  0%|          | 0/1 [00:00<?, ?it/s]"
      ]
     },
     "metadata": {},
     "output_type": "display_data"
    },
    {
     "name": "stdout",
     "output_type": "stream",
     "text": [
      "train_acc: 0.6875  val_acc: 0.1562\n",
      "\n",
      "Epoch:  119 / 200\n"
     ]
    },
    {
     "data": {
      "application/vnd.jupyter.widget-view+json": {
       "model_id": "438d1c1836764ea682bd2a6784cde006",
       "version_major": 2,
       "version_minor": 0
      },
      "text/plain": [
       "  0%|          | 0/1 [00:00<?, ?it/s]"
      ]
     },
     "metadata": {},
     "output_type": "display_data"
    },
    {
     "name": "stdout",
     "output_type": "stream",
     "text": [
      "train_acc: 0.6875  val_acc: 0.1875\n",
      "\n",
      "Epoch:  120 / 200\n"
     ]
    },
    {
     "data": {
      "application/vnd.jupyter.widget-view+json": {
       "model_id": "07fdaeb508ed48ffa4d7d8b30228f664",
       "version_major": 2,
       "version_minor": 0
      },
      "text/plain": [
       "  0%|          | 0/1 [00:00<?, ?it/s]"
      ]
     },
     "metadata": {},
     "output_type": "display_data"
    },
    {
     "name": "stdout",
     "output_type": "stream",
     "text": [
      "train_acc: 0.6562  val_acc: 0.125\n",
      "\n",
      "Epoch:  121 / 200\n"
     ]
    },
    {
     "data": {
      "application/vnd.jupyter.widget-view+json": {
       "model_id": "5ec7f8230bb5404f8be0885686d6e3af",
       "version_major": 2,
       "version_minor": 0
      },
      "text/plain": [
       "  0%|          | 0/1 [00:00<?, ?it/s]"
      ]
     },
     "metadata": {},
     "output_type": "display_data"
    },
    {
     "name": "stdout",
     "output_type": "stream",
     "text": [
      "train_acc: 0.6562  val_acc: 0.125\n",
      "\n",
      "Epoch:  122 / 200\n"
     ]
    },
    {
     "data": {
      "application/vnd.jupyter.widget-view+json": {
       "model_id": "8daa156b3918429283b049c8d3f8c214",
       "version_major": 2,
       "version_minor": 0
      },
      "text/plain": [
       "  0%|          | 0/1 [00:00<?, ?it/s]"
      ]
     },
     "metadata": {},
     "output_type": "display_data"
    },
    {
     "name": "stdout",
     "output_type": "stream",
     "text": [
      "train_acc: 0.6875  val_acc: 0.1562\n",
      "Model saved at fine_tune_model.pt\n",
      "Best train loss: 0.023240016773343086\n",
      "\n",
      "Epoch:  123 / 200\n"
     ]
    },
    {
     "data": {
      "application/vnd.jupyter.widget-view+json": {
       "model_id": "cb691efc43004023b8bf59c9384dcb3a",
       "version_major": 2,
       "version_minor": 0
      },
      "text/plain": [
       "  0%|          | 0/1 [00:00<?, ?it/s]"
      ]
     },
     "metadata": {},
     "output_type": "display_data"
    },
    {
     "name": "stdout",
     "output_type": "stream",
     "text": [
      "train_acc: 0.6875  val_acc: 0.125\n",
      "\n",
      "Epoch:  124 / 200\n"
     ]
    },
    {
     "data": {
      "application/vnd.jupyter.widget-view+json": {
       "model_id": "136f8e57a9b642688624f11fbcd1b85d",
       "version_major": 2,
       "version_minor": 0
      },
      "text/plain": [
       "  0%|          | 0/1 [00:00<?, ?it/s]"
      ]
     },
     "metadata": {},
     "output_type": "display_data"
    },
    {
     "name": "stdout",
     "output_type": "stream",
     "text": [
      "train_acc: 0.6562  val_acc: 0.0938\n",
      "\n",
      "Epoch:  125 / 200\n"
     ]
    },
    {
     "data": {
      "application/vnd.jupyter.widget-view+json": {
       "model_id": "080ea1e08f934939afbf4713e1515260",
       "version_major": 2,
       "version_minor": 0
      },
      "text/plain": [
       "  0%|          | 0/1 [00:00<?, ?it/s]"
      ]
     },
     "metadata": {},
     "output_type": "display_data"
    },
    {
     "name": "stdout",
     "output_type": "stream",
     "text": [
      "train_acc: 0.6875  val_acc: 0.1562\n",
      "\n",
      "Epoch:  126 / 200\n"
     ]
    },
    {
     "data": {
      "application/vnd.jupyter.widget-view+json": {
       "model_id": "6bcc553c4e544d32910595bfdfe7cbe7",
       "version_major": 2,
       "version_minor": 0
      },
      "text/plain": [
       "  0%|          | 0/1 [00:00<?, ?it/s]"
      ]
     },
     "metadata": {},
     "output_type": "display_data"
    },
    {
     "name": "stdout",
     "output_type": "stream",
     "text": [
      "train_acc: 0.6875  val_acc: 0.0938\n",
      "\n",
      "Epoch:  127 / 200\n"
     ]
    },
    {
     "data": {
      "application/vnd.jupyter.widget-view+json": {
       "model_id": "155ad0d6e4ae46089ec7132b55f5a5ee",
       "version_major": 2,
       "version_minor": 0
      },
      "text/plain": [
       "  0%|          | 0/1 [00:00<?, ?it/s]"
      ]
     },
     "metadata": {},
     "output_type": "display_data"
    },
    {
     "name": "stdout",
     "output_type": "stream",
     "text": [
      "train_acc: 0.6875  val_acc: 0.1562\n",
      "\n",
      "Epoch:  128 / 200\n"
     ]
    },
    {
     "data": {
      "application/vnd.jupyter.widget-view+json": {
       "model_id": "1764ed47511b4d2daf5684f394c23d48",
       "version_major": 2,
       "version_minor": 0
      },
      "text/plain": [
       "  0%|          | 0/1 [00:00<?, ?it/s]"
      ]
     },
     "metadata": {},
     "output_type": "display_data"
    },
    {
     "name": "stdout",
     "output_type": "stream",
     "text": [
      "train_acc: 0.6875  val_acc: 0.1562\n",
      "\n",
      "Epoch:  129 / 200\n"
     ]
    },
    {
     "data": {
      "application/vnd.jupyter.widget-view+json": {
       "model_id": "10caaae41e014727bff9b307004cd68a",
       "version_major": 2,
       "version_minor": 0
      },
      "text/plain": [
       "  0%|          | 0/1 [00:00<?, ?it/s]"
      ]
     },
     "metadata": {},
     "output_type": "display_data"
    },
    {
     "name": "stdout",
     "output_type": "stream",
     "text": [
      "train_acc: 0.6562  val_acc: 0.125\n",
      "\n",
      "Epoch:  130 / 200\n"
     ]
    },
    {
     "data": {
      "application/vnd.jupyter.widget-view+json": {
       "model_id": "549110b6ea8c490fa171c806f3494728",
       "version_major": 2,
       "version_minor": 0
      },
      "text/plain": [
       "  0%|          | 0/1 [00:00<?, ?it/s]"
      ]
     },
     "metadata": {},
     "output_type": "display_data"
    },
    {
     "name": "stdout",
     "output_type": "stream",
     "text": [
      "train_acc: 0.6875  val_acc: 0.125\n",
      "\n",
      "Epoch:  131 / 200\n"
     ]
    },
    {
     "data": {
      "application/vnd.jupyter.widget-view+json": {
       "model_id": "8aa8509e50eb4007b0998a4d6d932472",
       "version_major": 2,
       "version_minor": 0
      },
      "text/plain": [
       "  0%|          | 0/1 [00:00<?, ?it/s]"
      ]
     },
     "metadata": {},
     "output_type": "display_data"
    },
    {
     "name": "stdout",
     "output_type": "stream",
     "text": [
      "train_acc: 0.6875  val_acc: 0.1562\n",
      "\n",
      "Epoch:  132 / 200\n"
     ]
    },
    {
     "data": {
      "application/vnd.jupyter.widget-view+json": {
       "model_id": "ddb6536e98094a14b7fe6733ae22faac",
       "version_major": 2,
       "version_minor": 0
      },
      "text/plain": [
       "  0%|          | 0/1 [00:00<?, ?it/s]"
      ]
     },
     "metadata": {},
     "output_type": "display_data"
    },
    {
     "name": "stdout",
     "output_type": "stream",
     "text": [
      "train_acc: 0.6875  val_acc: 0.1562\n",
      "\n",
      "Epoch:  133 / 200\n"
     ]
    },
    {
     "data": {
      "application/vnd.jupyter.widget-view+json": {
       "model_id": "500bd47267a64774b823b8c4f9003230",
       "version_major": 2,
       "version_minor": 0
      },
      "text/plain": [
       "  0%|          | 0/1 [00:00<?, ?it/s]"
      ]
     },
     "metadata": {},
     "output_type": "display_data"
    },
    {
     "name": "stdout",
     "output_type": "stream",
     "text": [
      "train_acc: 0.6562  val_acc: 0.1562\n",
      "\n",
      "Epoch:  134 / 200\n"
     ]
    },
    {
     "data": {
      "application/vnd.jupyter.widget-view+json": {
       "model_id": "b11ef703ab97485088fdc96b07685fde",
       "version_major": 2,
       "version_minor": 0
      },
      "text/plain": [
       "  0%|          | 0/1 [00:00<?, ?it/s]"
      ]
     },
     "metadata": {},
     "output_type": "display_data"
    },
    {
     "name": "stdout",
     "output_type": "stream",
     "text": [
      "train_acc: 0.6562  val_acc: 0.125\n",
      "\n",
      "Epoch:  135 / 200\n"
     ]
    },
    {
     "data": {
      "application/vnd.jupyter.widget-view+json": {
       "model_id": "d277d661ec9a4706a6af36c586444485",
       "version_major": 2,
       "version_minor": 0
      },
      "text/plain": [
       "  0%|          | 0/1 [00:00<?, ?it/s]"
      ]
     },
     "metadata": {},
     "output_type": "display_data"
    },
    {
     "name": "stdout",
     "output_type": "stream",
     "text": [
      "train_acc: 0.6875  val_acc: 0.1562\n",
      "\n",
      "Epoch:  136 / 200\n"
     ]
    },
    {
     "data": {
      "application/vnd.jupyter.widget-view+json": {
       "model_id": "f3a71cf4bc4646279b0b659711fe9f6e",
       "version_major": 2,
       "version_minor": 0
      },
      "text/plain": [
       "  0%|          | 0/1 [00:00<?, ?it/s]"
      ]
     },
     "metadata": {},
     "output_type": "display_data"
    },
    {
     "name": "stdout",
     "output_type": "stream",
     "text": [
      "train_acc: 0.6875  val_acc: 0.125\n",
      "\n",
      "Epoch:  137 / 200\n"
     ]
    },
    {
     "data": {
      "application/vnd.jupyter.widget-view+json": {
       "model_id": "3846f6b49ef84fc4bd019b2dda57385b",
       "version_major": 2,
       "version_minor": 0
      },
      "text/plain": [
       "  0%|          | 0/1 [00:00<?, ?it/s]"
      ]
     },
     "metadata": {},
     "output_type": "display_data"
    },
    {
     "name": "stdout",
     "output_type": "stream",
     "text": [
      "train_acc: 0.6562  val_acc: 0.1562\n",
      "\n",
      "Epoch:  138 / 200\n"
     ]
    },
    {
     "data": {
      "application/vnd.jupyter.widget-view+json": {
       "model_id": "ed51d6e2f0f0496ea1efad151d7e8970",
       "version_major": 2,
       "version_minor": 0
      },
      "text/plain": [
       "  0%|          | 0/1 [00:00<?, ?it/s]"
      ]
     },
     "metadata": {},
     "output_type": "display_data"
    },
    {
     "name": "stdout",
     "output_type": "stream",
     "text": [
      "train_acc: 0.6562  val_acc: 0.125\n",
      "\n",
      "Epoch:  139 / 200\n"
     ]
    },
    {
     "data": {
      "application/vnd.jupyter.widget-view+json": {
       "model_id": "68ea30818af64c698094900b6cace4c5",
       "version_major": 2,
       "version_minor": 0
      },
      "text/plain": [
       "  0%|          | 0/1 [00:00<?, ?it/s]"
      ]
     },
     "metadata": {},
     "output_type": "display_data"
    },
    {
     "name": "stdout",
     "output_type": "stream",
     "text": [
      "train_acc: 0.6562  val_acc: 0.125\n",
      "\n",
      "Epoch:  140 / 200\n"
     ]
    },
    {
     "data": {
      "application/vnd.jupyter.widget-view+json": {
       "model_id": "2be4cde583a04d618992b81f8fbacb31",
       "version_major": 2,
       "version_minor": 0
      },
      "text/plain": [
       "  0%|          | 0/1 [00:00<?, ?it/s]"
      ]
     },
     "metadata": {},
     "output_type": "display_data"
    },
    {
     "name": "stdout",
     "output_type": "stream",
     "text": [
      "train_acc: 0.6562  val_acc: 0.125\n",
      "\n",
      "Epoch:  141 / 200\n"
     ]
    },
    {
     "data": {
      "application/vnd.jupyter.widget-view+json": {
       "model_id": "f1212323712d4c06a17b741922c6ed42",
       "version_major": 2,
       "version_minor": 0
      },
      "text/plain": [
       "  0%|          | 0/1 [00:00<?, ?it/s]"
      ]
     },
     "metadata": {},
     "output_type": "display_data"
    },
    {
     "name": "stdout",
     "output_type": "stream",
     "text": [
      "train_acc: 0.6875  val_acc: 0.125\n",
      "\n",
      "Epoch:  142 / 200\n"
     ]
    },
    {
     "data": {
      "application/vnd.jupyter.widget-view+json": {
       "model_id": "076606a8abde4b7390ff08f47e0ad2c7",
       "version_major": 2,
       "version_minor": 0
      },
      "text/plain": [
       "  0%|          | 0/1 [00:00<?, ?it/s]"
      ]
     },
     "metadata": {},
     "output_type": "display_data"
    },
    {
     "name": "stdout",
     "output_type": "stream",
     "text": [
      "train_acc: 0.6875  val_acc: 0.125\n",
      "\n",
      "Epoch:  143 / 200\n"
     ]
    },
    {
     "data": {
      "application/vnd.jupyter.widget-view+json": {
       "model_id": "95a0eb6624654b11bd200974cb97f8f8",
       "version_major": 2,
       "version_minor": 0
      },
      "text/plain": [
       "  0%|          | 0/1 [00:00<?, ?it/s]"
      ]
     },
     "metadata": {},
     "output_type": "display_data"
    },
    {
     "name": "stdout",
     "output_type": "stream",
     "text": [
      "train_acc: 0.6875  val_acc: 0.125\n",
      "Model saved at fine_tune_model.pt\n",
      "Best train loss: 0.02323981188237667\n",
      "\n",
      "Epoch:  144 / 200\n"
     ]
    },
    {
     "data": {
      "application/vnd.jupyter.widget-view+json": {
       "model_id": "febf79a76a304a659aeb471f629d6f07",
       "version_major": 2,
       "version_minor": 0
      },
      "text/plain": [
       "  0%|          | 0/1 [00:00<?, ?it/s]"
      ]
     },
     "metadata": {},
     "output_type": "display_data"
    },
    {
     "name": "stdout",
     "output_type": "stream",
     "text": [
      "train_acc: 0.6562  val_acc: 0.0938\n",
      "\n",
      "Epoch:  145 / 200\n"
     ]
    },
    {
     "data": {
      "application/vnd.jupyter.widget-view+json": {
       "model_id": "5b0b723d37444377b1337ac22889a8fb",
       "version_major": 2,
       "version_minor": 0
      },
      "text/plain": [
       "  0%|          | 0/1 [00:00<?, ?it/s]"
      ]
     },
     "metadata": {},
     "output_type": "display_data"
    },
    {
     "name": "stdout",
     "output_type": "stream",
     "text": [
      "train_acc: 0.6562  val_acc: 0.1562\n",
      "\n",
      "Epoch:  146 / 200\n"
     ]
    },
    {
     "data": {
      "application/vnd.jupyter.widget-view+json": {
       "model_id": "80cf5e7c016944f384efe4350e11eaf3",
       "version_major": 2,
       "version_minor": 0
      },
      "text/plain": [
       "  0%|          | 0/1 [00:00<?, ?it/s]"
      ]
     },
     "metadata": {},
     "output_type": "display_data"
    },
    {
     "name": "stdout",
     "output_type": "stream",
     "text": [
      "train_acc: 0.6562  val_acc: 0.125\n",
      "\n",
      "Epoch:  147 / 200\n"
     ]
    },
    {
     "data": {
      "application/vnd.jupyter.widget-view+json": {
       "model_id": "75d699d4932a48e4a377da42836e0733",
       "version_major": 2,
       "version_minor": 0
      },
      "text/plain": [
       "  0%|          | 0/1 [00:00<?, ?it/s]"
      ]
     },
     "metadata": {},
     "output_type": "display_data"
    },
    {
     "name": "stdout",
     "output_type": "stream",
     "text": [
      "train_acc: 0.6562  val_acc: 0.125\n",
      "\n",
      "Epoch:  148 / 200\n"
     ]
    },
    {
     "data": {
      "application/vnd.jupyter.widget-view+json": {
       "model_id": "e853d60de9314a95a2427ac309f60e0e",
       "version_major": 2,
       "version_minor": 0
      },
      "text/plain": [
       "  0%|          | 0/1 [00:00<?, ?it/s]"
      ]
     },
     "metadata": {},
     "output_type": "display_data"
    },
    {
     "name": "stdout",
     "output_type": "stream",
     "text": [
      "train_acc: 0.6875  val_acc: 0.1562\n",
      "\n",
      "Epoch:  149 / 200\n"
     ]
    },
    {
     "data": {
      "application/vnd.jupyter.widget-view+json": {
       "model_id": "dcaa6606b99946b499ad553d91a906d6",
       "version_major": 2,
       "version_minor": 0
      },
      "text/plain": [
       "  0%|          | 0/1 [00:00<?, ?it/s]"
      ]
     },
     "metadata": {},
     "output_type": "display_data"
    },
    {
     "name": "stdout",
     "output_type": "stream",
     "text": [
      "train_acc: 0.6875  val_acc: 0.1562\n",
      "\n",
      "Epoch:  150 / 200\n"
     ]
    },
    {
     "data": {
      "application/vnd.jupyter.widget-view+json": {
       "model_id": "903908b009854e3988492c3bfc3c5c16",
       "version_major": 2,
       "version_minor": 0
      },
      "text/plain": [
       "  0%|          | 0/1 [00:00<?, ?it/s]"
      ]
     },
     "metadata": {},
     "output_type": "display_data"
    },
    {
     "name": "stdout",
     "output_type": "stream",
     "text": [
      "train_acc: 0.6562  val_acc: 0.125\n",
      "\n",
      "Epoch:  151 / 200\n"
     ]
    },
    {
     "data": {
      "application/vnd.jupyter.widget-view+json": {
       "model_id": "dd544de90fd344dea2d8ef73b999927f",
       "version_major": 2,
       "version_minor": 0
      },
      "text/plain": [
       "  0%|          | 0/1 [00:00<?, ?it/s]"
      ]
     },
     "metadata": {},
     "output_type": "display_data"
    },
    {
     "name": "stdout",
     "output_type": "stream",
     "text": [
      "train_acc: 0.6562  val_acc: 0.125\n",
      "\n",
      "Epoch:  152 / 200\n"
     ]
    },
    {
     "data": {
      "application/vnd.jupyter.widget-view+json": {
       "model_id": "301dc846d07d49f9bd6d3e97e547ce4a",
       "version_major": 2,
       "version_minor": 0
      },
      "text/plain": [
       "  0%|          | 0/1 [00:00<?, ?it/s]"
      ]
     },
     "metadata": {},
     "output_type": "display_data"
    },
    {
     "name": "stdout",
     "output_type": "stream",
     "text": [
      "train_acc: 0.6562  val_acc: 0.0938\n",
      "\n",
      "Epoch:  153 / 200\n"
     ]
    },
    {
     "data": {
      "application/vnd.jupyter.widget-view+json": {
       "model_id": "31c6154283664922af9b756d61271d62",
       "version_major": 2,
       "version_minor": 0
      },
      "text/plain": [
       "  0%|          | 0/1 [00:00<?, ?it/s]"
      ]
     },
     "metadata": {},
     "output_type": "display_data"
    },
    {
     "name": "stdout",
     "output_type": "stream",
     "text": [
      "train_acc: 0.6562  val_acc: 0.125\n",
      "\n",
      "Epoch:  154 / 200\n"
     ]
    },
    {
     "data": {
      "application/vnd.jupyter.widget-view+json": {
       "model_id": "a09d0d08e4df4d76a076f557a4efe7cc",
       "version_major": 2,
       "version_minor": 0
      },
      "text/plain": [
       "  0%|          | 0/1 [00:00<?, ?it/s]"
      ]
     },
     "metadata": {},
     "output_type": "display_data"
    },
    {
     "name": "stdout",
     "output_type": "stream",
     "text": [
      "train_acc: 0.6875  val_acc: 0.125\n",
      "\n",
      "Epoch:  155 / 200\n"
     ]
    },
    {
     "data": {
      "application/vnd.jupyter.widget-view+json": {
       "model_id": "3f69e136219b49ac86ee5c411699995f",
       "version_major": 2,
       "version_minor": 0
      },
      "text/plain": [
       "  0%|          | 0/1 [00:00<?, ?it/s]"
      ]
     },
     "metadata": {},
     "output_type": "display_data"
    },
    {
     "name": "stdout",
     "output_type": "stream",
     "text": [
      "train_acc: 0.6562  val_acc: 0.0938\n",
      "\n",
      "Epoch:  156 / 200\n"
     ]
    },
    {
     "data": {
      "application/vnd.jupyter.widget-view+json": {
       "model_id": "2b1ff736a00147cdbf7f9a42d36f70d9",
       "version_major": 2,
       "version_minor": 0
      },
      "text/plain": [
       "  0%|          | 0/1 [00:00<?, ?it/s]"
      ]
     },
     "metadata": {},
     "output_type": "display_data"
    },
    {
     "name": "stdout",
     "output_type": "stream",
     "text": [
      "train_acc: 0.6875  val_acc: 0.0938\n",
      "\n",
      "Epoch:  157 / 200\n"
     ]
    },
    {
     "data": {
      "application/vnd.jupyter.widget-view+json": {
       "model_id": "2596cab5c26e4b0bbcb0de1f1a3d15a6",
       "version_major": 2,
       "version_minor": 0
      },
      "text/plain": [
       "  0%|          | 0/1 [00:00<?, ?it/s]"
      ]
     },
     "metadata": {},
     "output_type": "display_data"
    },
    {
     "name": "stdout",
     "output_type": "stream",
     "text": [
      "train_acc: 0.6562  val_acc: 0.125\n",
      "\n",
      "Epoch:  158 / 200\n"
     ]
    },
    {
     "data": {
      "application/vnd.jupyter.widget-view+json": {
       "model_id": "e0f759b925034af693aca22d13d131c9",
       "version_major": 2,
       "version_minor": 0
      },
      "text/plain": [
       "  0%|          | 0/1 [00:00<?, ?it/s]"
      ]
     },
     "metadata": {},
     "output_type": "display_data"
    },
    {
     "name": "stdout",
     "output_type": "stream",
     "text": [
      "train_acc: 0.6562  val_acc: 0.0938\n",
      "\n",
      "Epoch:  159 / 200\n"
     ]
    },
    {
     "data": {
      "application/vnd.jupyter.widget-view+json": {
       "model_id": "a0f2a29ddac74548a8a563227989aa76",
       "version_major": 2,
       "version_minor": 0
      },
      "text/plain": [
       "  0%|          | 0/1 [00:00<?, ?it/s]"
      ]
     },
     "metadata": {},
     "output_type": "display_data"
    },
    {
     "name": "stdout",
     "output_type": "stream",
     "text": [
      "train_acc: 0.6562  val_acc: 0.0938\n",
      "\n",
      "Epoch:  160 / 200\n"
     ]
    },
    {
     "data": {
      "application/vnd.jupyter.widget-view+json": {
       "model_id": "e3875d961a37445795a3719eb9249efe",
       "version_major": 2,
       "version_minor": 0
      },
      "text/plain": [
       "  0%|          | 0/1 [00:00<?, ?it/s]"
      ]
     },
     "metadata": {},
     "output_type": "display_data"
    },
    {
     "name": "stdout",
     "output_type": "stream",
     "text": [
      "train_acc: 0.6562  val_acc: 0.125\n",
      "\n",
      "Epoch:  161 / 200\n"
     ]
    },
    {
     "data": {
      "application/vnd.jupyter.widget-view+json": {
       "model_id": "9955cea2ce9840efa0b59054bf223fbc",
       "version_major": 2,
       "version_minor": 0
      },
      "text/plain": [
       "  0%|          | 0/1 [00:00<?, ?it/s]"
      ]
     },
     "metadata": {},
     "output_type": "display_data"
    },
    {
     "name": "stdout",
     "output_type": "stream",
     "text": [
      "train_acc: 0.6875  val_acc: 0.1562\n",
      "\n",
      "Epoch:  162 / 200\n"
     ]
    },
    {
     "data": {
      "application/vnd.jupyter.widget-view+json": {
       "model_id": "127b266eac6044d9b71771d0732a6495",
       "version_major": 2,
       "version_minor": 0
      },
      "text/plain": [
       "  0%|          | 0/1 [00:00<?, ?it/s]"
      ]
     },
     "metadata": {},
     "output_type": "display_data"
    },
    {
     "name": "stdout",
     "output_type": "stream",
     "text": [
      "train_acc: 0.6875  val_acc: 0.125\n",
      "\n",
      "Epoch:  163 / 200\n"
     ]
    },
    {
     "data": {
      "application/vnd.jupyter.widget-view+json": {
       "model_id": "2421afcd4c3b4c4f970b1beaa46ea4f6",
       "version_major": 2,
       "version_minor": 0
      },
      "text/plain": [
       "  0%|          | 0/1 [00:00<?, ?it/s]"
      ]
     },
     "metadata": {},
     "output_type": "display_data"
    },
    {
     "name": "stdout",
     "output_type": "stream",
     "text": [
      "train_acc: 0.6562  val_acc: 0.1562\n",
      "\n",
      "Epoch:  164 / 200\n"
     ]
    },
    {
     "data": {
      "application/vnd.jupyter.widget-view+json": {
       "model_id": "db42b5bb2c114236b83af8a97040f622",
       "version_major": 2,
       "version_minor": 0
      },
      "text/plain": [
       "  0%|          | 0/1 [00:00<?, ?it/s]"
      ]
     },
     "metadata": {},
     "output_type": "display_data"
    },
    {
     "name": "stdout",
     "output_type": "stream",
     "text": [
      "train_acc: 0.6562  val_acc: 0.0938\n",
      "\n",
      "Epoch:  165 / 200\n"
     ]
    },
    {
     "data": {
      "application/vnd.jupyter.widget-view+json": {
       "model_id": "6dda1831c4c7442b86bc51793c1b61ea",
       "version_major": 2,
       "version_minor": 0
      },
      "text/plain": [
       "  0%|          | 0/1 [00:00<?, ?it/s]"
      ]
     },
     "metadata": {},
     "output_type": "display_data"
    },
    {
     "name": "stdout",
     "output_type": "stream",
     "text": [
      "train_acc: 0.6562  val_acc: 0.125\n",
      "\n",
      "Epoch:  166 / 200\n"
     ]
    },
    {
     "data": {
      "application/vnd.jupyter.widget-view+json": {
       "model_id": "77c05965c11946838b0c412a44ab2c4e",
       "version_major": 2,
       "version_minor": 0
      },
      "text/plain": [
       "  0%|          | 0/1 [00:00<?, ?it/s]"
      ]
     },
     "metadata": {},
     "output_type": "display_data"
    },
    {
     "name": "stdout",
     "output_type": "stream",
     "text": [
      "train_acc: 0.6875  val_acc: 0.1562\n",
      "\n",
      "Epoch:  167 / 200\n"
     ]
    },
    {
     "data": {
      "application/vnd.jupyter.widget-view+json": {
       "model_id": "62e7d7b53cb4406a89f1cfbafdfef1fa",
       "version_major": 2,
       "version_minor": 0
      },
      "text/plain": [
       "  0%|          | 0/1 [00:00<?, ?it/s]"
      ]
     },
     "metadata": {},
     "output_type": "display_data"
    },
    {
     "name": "stdout",
     "output_type": "stream",
     "text": [
      "train_acc: 0.6562  val_acc: 0.125\n",
      "\n",
      "Epoch:  168 / 200\n"
     ]
    },
    {
     "data": {
      "application/vnd.jupyter.widget-view+json": {
       "model_id": "94a23a63fefa46b4bc880aa238e75c44",
       "version_major": 2,
       "version_minor": 0
      },
      "text/plain": [
       "  0%|          | 0/1 [00:00<?, ?it/s]"
      ]
     },
     "metadata": {},
     "output_type": "display_data"
    },
    {
     "name": "stdout",
     "output_type": "stream",
     "text": [
      "train_acc: 0.6562  val_acc: 0.0938\n",
      "\n",
      "Epoch:  169 / 200\n"
     ]
    },
    {
     "data": {
      "application/vnd.jupyter.widget-view+json": {
       "model_id": "ae6dfc488ad4471fb5abbc4272c3dbeb",
       "version_major": 2,
       "version_minor": 0
      },
      "text/plain": [
       "  0%|          | 0/1 [00:00<?, ?it/s]"
      ]
     },
     "metadata": {},
     "output_type": "display_data"
    },
    {
     "name": "stdout",
     "output_type": "stream",
     "text": [
      "train_acc: 0.6875  val_acc: 0.125\n",
      "\n",
      "Epoch:  170 / 200\n"
     ]
    },
    {
     "data": {
      "application/vnd.jupyter.widget-view+json": {
       "model_id": "77e9f1d09f33433787effe99076b7e1e",
       "version_major": 2,
       "version_minor": 0
      },
      "text/plain": [
       "  0%|          | 0/1 [00:00<?, ?it/s]"
      ]
     },
     "metadata": {},
     "output_type": "display_data"
    },
    {
     "name": "stdout",
     "output_type": "stream",
     "text": [
      "train_acc: 0.6562  val_acc: 0.1562\n",
      "\n",
      "Epoch:  171 / 200\n"
     ]
    },
    {
     "data": {
      "application/vnd.jupyter.widget-view+json": {
       "model_id": "7459a48edfba49d7902aedd1737bce2a",
       "version_major": 2,
       "version_minor": 0
      },
      "text/plain": [
       "  0%|          | 0/1 [00:00<?, ?it/s]"
      ]
     },
     "metadata": {},
     "output_type": "display_data"
    },
    {
     "name": "stdout",
     "output_type": "stream",
     "text": [
      "train_acc: 0.6875  val_acc: 0.125\n",
      "\n",
      "Epoch:  172 / 200\n"
     ]
    },
    {
     "data": {
      "application/vnd.jupyter.widget-view+json": {
       "model_id": "0ef22a9616594759854e5d49af3ab8db",
       "version_major": 2,
       "version_minor": 0
      },
      "text/plain": [
       "  0%|          | 0/1 [00:00<?, ?it/s]"
      ]
     },
     "metadata": {},
     "output_type": "display_data"
    },
    {
     "name": "stdout",
     "output_type": "stream",
     "text": [
      "train_acc: 0.6562  val_acc: 0.125\n",
      "\n",
      "Epoch:  173 / 200\n"
     ]
    },
    {
     "data": {
      "application/vnd.jupyter.widget-view+json": {
       "model_id": "6679b91eb2ba4fecbab8c497ce2630ba",
       "version_major": 2,
       "version_minor": 0
      },
      "text/plain": [
       "  0%|          | 0/1 [00:00<?, ?it/s]"
      ]
     },
     "metadata": {},
     "output_type": "display_data"
    },
    {
     "name": "stdout",
     "output_type": "stream",
     "text": [
      "train_acc: 0.6562  val_acc: 0.0938\n",
      "\n",
      "Epoch:  174 / 200\n"
     ]
    },
    {
     "data": {
      "application/vnd.jupyter.widget-view+json": {
       "model_id": "7b885e88b8064f4ab2b314acf615e31c",
       "version_major": 2,
       "version_minor": 0
      },
      "text/plain": [
       "  0%|          | 0/1 [00:00<?, ?it/s]"
      ]
     },
     "metadata": {},
     "output_type": "display_data"
    },
    {
     "name": "stdout",
     "output_type": "stream",
     "text": [
      "train_acc: 0.6875  val_acc: 0.1562\n",
      "\n",
      "Epoch:  175 / 200\n"
     ]
    },
    {
     "data": {
      "application/vnd.jupyter.widget-view+json": {
       "model_id": "38f565a0cee74607a35155bcf549e308",
       "version_major": 2,
       "version_minor": 0
      },
      "text/plain": [
       "  0%|          | 0/1 [00:00<?, ?it/s]"
      ]
     },
     "metadata": {},
     "output_type": "display_data"
    },
    {
     "name": "stdout",
     "output_type": "stream",
     "text": [
      "train_acc: 0.6875  val_acc: 0.0938\n",
      "\n",
      "Epoch:  176 / 200\n"
     ]
    },
    {
     "data": {
      "application/vnd.jupyter.widget-view+json": {
       "model_id": "de91cd83df5145a78a9cde0a17f4e654",
       "version_major": 2,
       "version_minor": 0
      },
      "text/plain": [
       "  0%|          | 0/1 [00:00<?, ?it/s]"
      ]
     },
     "metadata": {},
     "output_type": "display_data"
    },
    {
     "name": "stdout",
     "output_type": "stream",
     "text": [
      "train_acc: 0.6562  val_acc: 0.0938\n",
      "\n",
      "Epoch:  177 / 200\n"
     ]
    },
    {
     "data": {
      "application/vnd.jupyter.widget-view+json": {
       "model_id": "0a3cb67d82ae4f05a6af062de9ddddaf",
       "version_major": 2,
       "version_minor": 0
      },
      "text/plain": [
       "  0%|          | 0/1 [00:00<?, ?it/s]"
      ]
     },
     "metadata": {},
     "output_type": "display_data"
    },
    {
     "name": "stdout",
     "output_type": "stream",
     "text": [
      "train_acc: 0.6875  val_acc: 0.125\n",
      "\n",
      "Epoch:  178 / 200\n"
     ]
    },
    {
     "data": {
      "application/vnd.jupyter.widget-view+json": {
       "model_id": "185e5b34ba334562af94aa5b09e9a877",
       "version_major": 2,
       "version_minor": 0
      },
      "text/plain": [
       "  0%|          | 0/1 [00:00<?, ?it/s]"
      ]
     },
     "metadata": {},
     "output_type": "display_data"
    },
    {
     "name": "stdout",
     "output_type": "stream",
     "text": [
      "train_acc: 0.6875  val_acc: 0.1562\n",
      "\n",
      "Epoch:  179 / 200\n"
     ]
    },
    {
     "data": {
      "application/vnd.jupyter.widget-view+json": {
       "model_id": "2441ae0a6bbc4897b9c1c263854c9dda",
       "version_major": 2,
       "version_minor": 0
      },
      "text/plain": [
       "  0%|          | 0/1 [00:00<?, ?it/s]"
      ]
     },
     "metadata": {},
     "output_type": "display_data"
    },
    {
     "name": "stdout",
     "output_type": "stream",
     "text": [
      "train_acc: 0.6875  val_acc: 0.125\n",
      "\n",
      "Epoch:  180 / 200\n"
     ]
    },
    {
     "data": {
      "application/vnd.jupyter.widget-view+json": {
       "model_id": "5a796a838d2f42eea54f50d5649c4fc8",
       "version_major": 2,
       "version_minor": 0
      },
      "text/plain": [
       "  0%|          | 0/1 [00:00<?, ?it/s]"
      ]
     },
     "metadata": {},
     "output_type": "display_data"
    },
    {
     "name": "stdout",
     "output_type": "stream",
     "text": [
      "train_acc: 0.6875  val_acc: 0.125\n",
      "\n",
      "Epoch:  181 / 200\n"
     ]
    },
    {
     "data": {
      "application/vnd.jupyter.widget-view+json": {
       "model_id": "39cef8a182e14c71bb8d4b681a8ac8b3",
       "version_major": 2,
       "version_minor": 0
      },
      "text/plain": [
       "  0%|          | 0/1 [00:00<?, ?it/s]"
      ]
     },
     "metadata": {},
     "output_type": "display_data"
    },
    {
     "name": "stdout",
     "output_type": "stream",
     "text": [
      "train_acc: 0.6875  val_acc: 0.1562\n",
      "\n",
      "Epoch:  182 / 200\n"
     ]
    },
    {
     "data": {
      "application/vnd.jupyter.widget-view+json": {
       "model_id": "6681c60fa0cd4762b983056846e7a6db",
       "version_major": 2,
       "version_minor": 0
      },
      "text/plain": [
       "  0%|          | 0/1 [00:00<?, ?it/s]"
      ]
     },
     "metadata": {},
     "output_type": "display_data"
    },
    {
     "name": "stdout",
     "output_type": "stream",
     "text": [
      "train_acc: 0.6562  val_acc: 0.125\n",
      "\n",
      "Epoch:  183 / 200\n"
     ]
    },
    {
     "data": {
      "application/vnd.jupyter.widget-view+json": {
       "model_id": "e60580526fbc472e966d6ce11033a73b",
       "version_major": 2,
       "version_minor": 0
      },
      "text/plain": [
       "  0%|          | 0/1 [00:00<?, ?it/s]"
      ]
     },
     "metadata": {},
     "output_type": "display_data"
    },
    {
     "name": "stdout",
     "output_type": "stream",
     "text": [
      "train_acc: 0.6875  val_acc: 0.125\n",
      "\n",
      "Epoch:  184 / 200\n"
     ]
    },
    {
     "data": {
      "application/vnd.jupyter.widget-view+json": {
       "model_id": "0c408713d0044bd19de00e1d99b1292f",
       "version_major": 2,
       "version_minor": 0
      },
      "text/plain": [
       "  0%|          | 0/1 [00:00<?, ?it/s]"
      ]
     },
     "metadata": {},
     "output_type": "display_data"
    },
    {
     "name": "stdout",
     "output_type": "stream",
     "text": [
      "train_acc: 0.6562  val_acc: 0.125\n",
      "\n",
      "Epoch:  185 / 200\n"
     ]
    },
    {
     "data": {
      "application/vnd.jupyter.widget-view+json": {
       "model_id": "1ebfac6d90044683b5ba2ea72c4064c1",
       "version_major": 2,
       "version_minor": 0
      },
      "text/plain": [
       "  0%|          | 0/1 [00:00<?, ?it/s]"
      ]
     },
     "metadata": {},
     "output_type": "display_data"
    },
    {
     "name": "stdout",
     "output_type": "stream",
     "text": [
      "train_acc: 0.6562  val_acc: 0.1562\n",
      "\n",
      "Epoch:  186 / 200\n"
     ]
    },
    {
     "data": {
      "application/vnd.jupyter.widget-view+json": {
       "model_id": "76059b81007241b9a00614095535c2b9",
       "version_major": 2,
       "version_minor": 0
      },
      "text/plain": [
       "  0%|          | 0/1 [00:00<?, ?it/s]"
      ]
     },
     "metadata": {},
     "output_type": "display_data"
    },
    {
     "name": "stdout",
     "output_type": "stream",
     "text": [
      "train_acc: 0.6562  val_acc: 0.1562\n",
      "\n",
      "Epoch:  187 / 200\n"
     ]
    },
    {
     "data": {
      "application/vnd.jupyter.widget-view+json": {
       "model_id": "1467d8f92e1d44e0a67ebc08dc6db16f",
       "version_major": 2,
       "version_minor": 0
      },
      "text/plain": [
       "  0%|          | 0/1 [00:00<?, ?it/s]"
      ]
     },
     "metadata": {},
     "output_type": "display_data"
    },
    {
     "name": "stdout",
     "output_type": "stream",
     "text": [
      "train_acc: 0.6562  val_acc: 0.125\n",
      "\n",
      "Epoch:  188 / 200\n"
     ]
    },
    {
     "data": {
      "application/vnd.jupyter.widget-view+json": {
       "model_id": "0141d8fdbfbd4d12bf9e728a47fa76de",
       "version_major": 2,
       "version_minor": 0
      },
      "text/plain": [
       "  0%|          | 0/1 [00:00<?, ?it/s]"
      ]
     },
     "metadata": {},
     "output_type": "display_data"
    },
    {
     "name": "stdout",
     "output_type": "stream",
     "text": [
      "train_acc: 0.6562  val_acc: 0.0938\n",
      "\n",
      "Epoch:  189 / 200\n"
     ]
    },
    {
     "data": {
      "application/vnd.jupyter.widget-view+json": {
       "model_id": "a36c52484f8547818d9710c119a97368",
       "version_major": 2,
       "version_minor": 0
      },
      "text/plain": [
       "  0%|          | 0/1 [00:00<?, ?it/s]"
      ]
     },
     "metadata": {},
     "output_type": "display_data"
    },
    {
     "name": "stdout",
     "output_type": "stream",
     "text": [
      "train_acc: 0.6875  val_acc: 0.1562\n",
      "\n",
      "Epoch:  190 / 200\n"
     ]
    },
    {
     "data": {
      "application/vnd.jupyter.widget-view+json": {
       "model_id": "ba241b94136b4ae5b3ad128b075a5167",
       "version_major": 2,
       "version_minor": 0
      },
      "text/plain": [
       "  0%|          | 0/1 [00:00<?, ?it/s]"
      ]
     },
     "metadata": {},
     "output_type": "display_data"
    },
    {
     "name": "stdout",
     "output_type": "stream",
     "text": [
      "train_acc: 0.6562  val_acc: 0.1562\n",
      "\n",
      "Epoch:  191 / 200\n"
     ]
    },
    {
     "data": {
      "application/vnd.jupyter.widget-view+json": {
       "model_id": "c421c9c1cb01419181fd859ae41a79eb",
       "version_major": 2,
       "version_minor": 0
      },
      "text/plain": [
       "  0%|          | 0/1 [00:00<?, ?it/s]"
      ]
     },
     "metadata": {},
     "output_type": "display_data"
    },
    {
     "name": "stdout",
     "output_type": "stream",
     "text": [
      "train_acc: 0.6562  val_acc: 0.125\n",
      "\n",
      "Epoch:  192 / 200\n"
     ]
    },
    {
     "data": {
      "application/vnd.jupyter.widget-view+json": {
       "model_id": "3a867a77ffcd45599f2d11755fb99860",
       "version_major": 2,
       "version_minor": 0
      },
      "text/plain": [
       "  0%|          | 0/1 [00:00<?, ?it/s]"
      ]
     },
     "metadata": {},
     "output_type": "display_data"
    },
    {
     "name": "stdout",
     "output_type": "stream",
     "text": [
      "train_acc: 0.6562  val_acc: 0.1562\n",
      "\n",
      "Epoch:  193 / 200\n"
     ]
    },
    {
     "data": {
      "application/vnd.jupyter.widget-view+json": {
       "model_id": "af27d3e4ecaa467d8bdfb3cd7c026a55",
       "version_major": 2,
       "version_minor": 0
      },
      "text/plain": [
       "  0%|          | 0/1 [00:00<?, ?it/s]"
      ]
     },
     "metadata": {},
     "output_type": "display_data"
    },
    {
     "name": "stdout",
     "output_type": "stream",
     "text": [
      "train_acc: 0.6875  val_acc: 0.0938\n",
      "\n",
      "Epoch:  194 / 200\n"
     ]
    },
    {
     "data": {
      "application/vnd.jupyter.widget-view+json": {
       "model_id": "8f70ceefb8734beaac7af85d2f7b5648",
       "version_major": 2,
       "version_minor": 0
      },
      "text/plain": [
       "  0%|          | 0/1 [00:00<?, ?it/s]"
      ]
     },
     "metadata": {},
     "output_type": "display_data"
    },
    {
     "name": "stdout",
     "output_type": "stream",
     "text": [
      "train_acc: 0.6875  val_acc: 0.1562\n",
      "\n",
      "Epoch:  195 / 200\n"
     ]
    },
    {
     "data": {
      "application/vnd.jupyter.widget-view+json": {
       "model_id": "12b2b21ec09e437ea2c10bfaa347b65b",
       "version_major": 2,
       "version_minor": 0
      },
      "text/plain": [
       "  0%|          | 0/1 [00:00<?, ?it/s]"
      ]
     },
     "metadata": {},
     "output_type": "display_data"
    },
    {
     "name": "stdout",
     "output_type": "stream",
     "text": [
      "train_acc: 0.6562  val_acc: 0.125\n",
      "\n",
      "Epoch:  196 / 200\n"
     ]
    },
    {
     "data": {
      "application/vnd.jupyter.widget-view+json": {
       "model_id": "a21241132e9d41f7b3f99260bf891c65",
       "version_major": 2,
       "version_minor": 0
      },
      "text/plain": [
       "  0%|          | 0/1 [00:00<?, ?it/s]"
      ]
     },
     "metadata": {},
     "output_type": "display_data"
    },
    {
     "name": "stdout",
     "output_type": "stream",
     "text": [
      "train_acc: 0.6562  val_acc: 0.125\n",
      "\n",
      "Epoch:  197 / 200\n"
     ]
    },
    {
     "data": {
      "application/vnd.jupyter.widget-view+json": {
       "model_id": "4bf0ce1050ec40e184c128f237f1da5a",
       "version_major": 2,
       "version_minor": 0
      },
      "text/plain": [
       "  0%|          | 0/1 [00:00<?, ?it/s]"
      ]
     },
     "metadata": {},
     "output_type": "display_data"
    },
    {
     "name": "stdout",
     "output_type": "stream",
     "text": [
      "train_acc: 0.6562  val_acc: 0.125\n",
      "\n",
      "Epoch:  198 / 200\n"
     ]
    },
    {
     "data": {
      "application/vnd.jupyter.widget-view+json": {
       "model_id": "919da6d6e7a34de4947e52833b1f4187",
       "version_major": 2,
       "version_minor": 0
      },
      "text/plain": [
       "  0%|          | 0/1 [00:00<?, ?it/s]"
      ]
     },
     "metadata": {},
     "output_type": "display_data"
    },
    {
     "name": "stdout",
     "output_type": "stream",
     "text": [
      "train_acc: 0.6875  val_acc: 0.125\n",
      "\n",
      "Epoch:  199 / 200\n"
     ]
    },
    {
     "data": {
      "application/vnd.jupyter.widget-view+json": {
       "model_id": "c69b24a7be6b48b78d7361cb1f4cb3b0",
       "version_major": 2,
       "version_minor": 0
      },
      "text/plain": [
       "  0%|          | 0/1 [00:00<?, ?it/s]"
      ]
     },
     "metadata": {},
     "output_type": "display_data"
    },
    {
     "name": "stdout",
     "output_type": "stream",
     "text": [
      "train_acc: 0.6875  val_acc: 0.0938\n",
      "\n",
      "Epoch:  200 / 200\n"
     ]
    },
    {
     "data": {
      "application/vnd.jupyter.widget-view+json": {
       "model_id": "8b8c714c90c7433dae60a02c530b8f76",
       "version_major": 2,
       "version_minor": 0
      },
      "text/plain": [
       "  0%|          | 0/1 [00:00<?, ?it/s]"
      ]
     },
     "metadata": {},
     "output_type": "display_data"
    },
    {
     "name": "stdout",
     "output_type": "stream",
     "text": [
      "train_acc: 0.6875  val_acc: 0.125\n"
     ]
    }
   ],
   "source": [
    "fine_tune_optimizer = torch.optim.Adam(model.parameters(),lr=0.0001,betas=(0.9,0.99),amsgrad=False,weight_decay=0.0001)\n",
    "fine_tune_train_acc,fine_tune_val_acc,fine_tune_model,fine_tune_loss_with_epochs,fine_tune_val_loss_with_epochs = train_evaluate(model,fine_tune_optimizer,patient_train_loader,patient_test_loader,num_epochs=200,save_model_name=\"fine_tune_model.pt\",dropout=0.5,learning_rate=0.0001,device=device)"
   ]
  },
  {
   "attachments": {},
   "cell_type": "markdown",
   "metadata": {},
   "source": [
    "# Results"
   ]
  },
  {
   "cell_type": "code",
   "execution_count": 60,
   "metadata": {},
   "outputs": [],
   "source": [
    "import warnings\n",
    "warnings.filterwarnings(\"ignore\")"
   ]
  },
  {
   "cell_type": "code",
   "execution_count": 44,
   "metadata": {},
   "outputs": [],
   "source": [
    "# load the saved models for direct testing\n",
    "# fine_tune_model = RModel()\n",
    "# fine_tune_model.load_state_dict(torch.load(\"saved_models/fine_tune_model.pt\"))\n",
    "# fine_tune_model = fine_tune_model.to(device)\n"
   ]
  },
  {
   "cell_type": "code",
   "execution_count": 63,
   "metadata": {},
   "outputs": [],
   "source": [
    "# load the saved models for direct testing\n",
    "# vgg16_model = torchvision.models.vgg16(weights=torchvision.models.VGG16_Weights.DEFAULT)\n",
    "# vgg16_model.features[0]=torch.nn.Conv2d(1,64,kernel_size=3,padding=1,stride=1)\n",
    "# vgg_in_features = vgg16_model.classifier[6].in_features\n",
    "# vgg16_model.classifier[6] = torch.nn.Linear(vgg_in_features,4)\n",
    "\n",
    "# vgg16_model.load_state_dict(torch.load(\"saved_models/vgg16model.pt\"))\n",
    "# vgg16_model = vgg16_model.to(device)"
   ]
  },
  {
   "cell_type": "code",
   "execution_count": 64,
   "metadata": {},
   "outputs": [],
   "source": [
    "# load the saved models for direct testing\n",
    "# mobilenet_model = torchvision.models.mobilenet_v2(weights=torchvision.models.MobileNet_V2_Weights)\n",
    "# new_conv = torch.nn.Conv2d(1, 32, kernel_size=3, stride=2, padding=1, bias=False)\n",
    "# # with torch.no_grad():\n",
    "# #     new_conv.weight[:, 0, :, :] = mobilenet_model.features[0].weight.sum(dim=1)\n",
    "# mobilenet_model.features[0] = new_conv\n",
    "# mobilenet_in_features = mobilenet_model.classifier[1].in_features\n",
    "# mobilenet_model.classifier[1] = torch.nn.Linear(mobilenet_in_features,4)\n",
    "# mobilenet_model.load_state_dict(torch.load(\"saved_models/mobilenetmodel.pt\"))\n",
    "# mobilenet_model = mobilenet_model.to(device)"
   ]
  },
  {
   "cell_type": "code",
   "execution_count": 61,
   "metadata": {},
   "outputs": [
    {
     "name": "stdout",
     "output_type": "stream",
     "text": [
      "Results on Testing Data\n",
      "Test Loss on fine tuned patient specific model:  0.04004629256824652\n",
      "Test Specificity on fine tuned patient specific model:  44.53571428571429\n",
      "Test Sensitivity on fine tuned patient specific model:  51.900456964203066\n",
      "Test Score on fine tuned patient specific model:  48.21808562495869\n"
     ]
    }
   ],
   "source": [
    "print(\"Results on Testing Data\")\n",
    "loss,specificity, sensitivity, score = get_scores(fine_tune_model, test_loader, device)\n",
    "print(\"Test Loss on fine tuned patient specific model: \",loss)\n",
    "print(\"Test Specificity on fine tuned patient specific model: \",specificity*100)\n",
    "print(\"Test Sensitivity on fine tuned patient specific model: \",sensitivity*100)\n",
    "print(\"Test Score on fine tuned patient specific model: \",score*100)\n"
   ]
  },
  {
   "cell_type": "code",
   "execution_count": 88,
   "metadata": {},
   "outputs": [
    {
     "name": "stdout",
     "output_type": "stream",
     "text": [
      "Results on Testing Data\n",
      "Test Loss on fine tuned Vgg16 backbone model:  0.04184153482317925\n",
      "Test Specificity on fine tuned Vgg16 backbone model:  0.40113095238095237\n",
      "Test Sensitivity on fine tuned Vgg16 backbone model:  0.39370972396931464\n",
      "Test Score on fine tuned Vgg16 backbone model:  0.3974203381751336\n"
     ]
    }
   ],
   "source": [
    "print(\"Results on Testing Data\")\n",
    "loss,specificity, sensitivity, score = get_scores(vgg16_model, test_loader, device)\n",
    "print(\"Test Loss on fine tuned Vgg16 backbone model: \",loss)\n",
    "print(\"Test Specificity on fine tuned Vgg16 backbone model: \",specificity)\n",
    "print(\"Test Sensitivity on fine tuned Vgg16 backbone model: \",sensitivity)\n",
    "print(\"Test Score on fine tuned Vgg16 backbone model: \",score)\n"
   ]
  },
  {
   "cell_type": "code",
   "execution_count": 91,
   "metadata": {},
   "outputs": [
    {
     "name": "stdout",
     "output_type": "stream",
     "text": [
      "Results on Testing Data\n",
      "Test Loss on fine tuned Mobilenet backbone model:  0.07910254761576653\n",
      "Test Specificity on fine tuned Mobilenet backbone model:  0.4244642857142857\n",
      "Test Sensitivity on fine tuned Mobilenet backbone model:  0.5070550929694287\n",
      "Test Score on fine tuned Mobilenet backbone model:  0.4657596893418574\n"
     ]
    }
   ],
   "source": [
    "print(\"Results on Testing Data\")\n",
    "loss,specificity, sensitivity, score = get_scores(mobilenet_model, test_loader, device)\n",
    "print(\"Test Loss on fine tuned Mobilenet backbone model: \",loss)\n",
    "print(\"Test Specificity on fine tuned Mobilenet backbone model: \",specificity)\n",
    "print(\"Test Sensitivity on fine tuned Mobilenet backbone model: \",sensitivity)\n",
    "print(\"Test Score on fine tuned Mobilenet backbone model: \",score)\n"
   ]
  },
  {
   "cell_type": "code",
   "execution_count": 73,
   "metadata": {},
   "outputs": [
    {
     "name": "stdout",
     "output_type": "stream",
     "text": [
      "Results on patient 107 using fine tuned patient specific model\n",
      "Test Loss for patient 107 on fine tuned patient specific model:  0.0010429327376186848\n",
      "Test Specificity for patient 107 on fine tuned patient specific model:  100.0\n",
      "Test Sensitivity for patient 107 on fine tuned patient specific model:  100.0\n",
      "Test Score for patient 107 on fine tuned patient specific model:  100.0\n",
      "-------------------------------------------\n",
      "Results on patient 107 using fine tuned Vgg16 backbone model\n",
      "Test Loss for patient 107 on fine tuned Vgg16 backbone model:  0.03787274658679962\n",
      "Test Specificity for patient 107 on fine tuned Vgg16 backbone model:  50.0\n",
      "Test Sensitivity for patient 107 on fine tuned Vgg16 backbone model:  100.0\n",
      "Test Score for patient 107 on fine tuned Vgg16 backbone model:  75.0\n",
      "-------------------------------------------\n",
      "Results on patient 107 using fine tuned Mobilenet backbone model\n",
      "Test Loss for patient 107 on fine tuned Mobilenet backbone model:  0.006522719282656908\n",
      "Test Specificity for patient 107 on fine tuned Mobilenet backbone model:  83.33333333333334\n",
      "Test Sensitivity for patient 107 on fine tuned Mobilenet backbone model:  100.0\n",
      "Test Score for patient 107 on fine tuned Mobilenet backbone model:  91.66666666666667\n",
      "-------------------------------------------\n"
     ]
    }
   ],
   "source": [
    "print(\"Results on patient 107 using fine tuned patient specific model\")\n",
    "loss,specificity, sensitivity, score = get_scores(fine_tune_model, patient_test_loader, device)\n",
    "print(\"Test Loss for patient 107 on fine tuned patient specific model: \",loss)\n",
    "print(\"Test Specificity for patient 107 on fine tuned patient specific model: \",specificity*100)\n",
    "print(\"Test Sensitivity for patient 107 on fine tuned patient specific model: \",sensitivity*100)\n",
    "print(\"Test Score for patient 107 on fine tuned patient specific model: \",score*100)\n",
    "print(\"-------------------------------------------\")\n",
    "print(\"Results on patient 107 using fine tuned Vgg16 backbone model\")\n",
    "loss,specificity, sensitivity, score = get_scores(vgg16_model, patient_test_loader, device)\n",
    "print(\"Test Loss for patient 107 on fine tuned Vgg16 backbone model: \",loss)\n",
    "print(\"Test Specificity for patient 107 on fine tuned Vgg16 backbone model: \",specificity*100)\n",
    "print(\"Test Sensitivity for patient 107 on fine tuned Vgg16 backbone model: \",sensitivity*100)\n",
    "print(\"Test Score for patient 107 on fine tuned Vgg16 backbone model: \",score*100)\n",
    "print(\"-------------------------------------------\")\n",
    "print(\"Results on patient 107 using fine tuned Mobilenet backbone model\")\n",
    "loss,specificity, sensitivity, score = get_scores(mobilenet_model, patient_test_loader, device)\n",
    "print(\"Test Loss for patient 107 on fine tuned Mobilenet backbone model: \",loss)\n",
    "print(\"Test Specificity for patient 107 on fine tuned Mobilenet backbone model: \",specificity*100)\n",
    "print(\"Test Sensitivity for patient 107 on fine tuned Mobilenet backbone model: \",sensitivity*100)\n",
    "print(\"Test Score for patient 107 on fine tuned Mobilenet backbone model: \",score*100)\n",
    "print(\"-------------------------------------------\")\n"
   ]
  },
  {
   "cell_type": "code",
   "execution_count": 101,
   "metadata": {},
   "outputs": [
    {
     "name": "stdout",
     "output_type": "stream",
     "text": [
      "Patient Based Model Summary\n",
      "==========================================================================================\n",
      "Layer (type:depth-idx)                   Output Shape              Param #\n",
      "==========================================================================================\n",
      "├─Sequential: 1-1                        [-1, 128, 24, 3]          --\n",
      "|    └─BatchNorm2d: 2-1                  [-1, 1, 256, 256]         2\n",
      "|    └─Conv2d: 2-2                       [-1, 64, 252, 250]        2,304\n",
      "|    └─ReLU: 2-3                         [-1, 64, 252, 250]        --\n",
      "|    └─MaxPool2d: 2-4                    [-1, 64, 126, 83]         --\n",
      "|    └─Conv2d: 2-5                       [-1, 64, 124, 81]         36,928\n",
      "|    └─ReLU: 2-6                         [-1, 64, 124, 81]         --\n",
      "|    └─Conv2d: 2-7                       [-1, 64, 122, 79]         36,928\n",
      "|    └─ReLU: 2-8                         [-1, 64, 122, 79]         --\n",
      "|    └─MaxPool2d: 2-9                    [-1, 64, 61, 26]          --\n",
      "|    └─Conv2d: 2-10                      [-1, 128, 59, 24]         73,856\n",
      "|    └─ReLU: 2-11                        [-1, 128, 59, 24]         --\n",
      "|    └─Conv2d: 2-12                      [-1, 128, 57, 22]         147,584\n",
      "|    └─ReLU: 2-13                        [-1, 128, 57, 22]         --\n",
      "|    └─MaxPool2d: 2-14                   [-1, 128, 28, 7]          --\n",
      "|    └─Conv2d: 2-15                      [-1, 128, 26, 5]          147,584\n",
      "|    └─ReLU: 2-16                        [-1, 128, 26, 5]          --\n",
      "|    └─Conv2d: 2-17                      [-1, 128, 24, 3]          147,584\n",
      "|    └─ReLU: 2-18                        [-1, 128, 24, 3]          --\n",
      "├─LSTM: 1-2                              [-1, 72, 512]             790,528\n",
      "├─Sequential: 1-3                        [-1, 4]                   --\n",
      "|    └─Flatten: 2-19                     [-1, 36864]               --\n",
      "|    └─Dropout: 2-20                     [-1, 36864]               --\n",
      "|    └─Linear: 2-21                      [-1, 100]                 3,686,500\n",
      "|    └─Dropout: 2-22                     [-1, 100]                 --\n",
      "|    └─Linear: 2-23                      [-1, 4]                   404\n",
      "|    └─Softmax: 2-24                     [-1, 4]                   --\n",
      "==========================================================================================\n",
      "Total params: 5,070,202\n",
      "Trainable params: 5,070,202\n",
      "Non-trainable params: 0\n",
      "Total mult-adds (G): 1.19\n",
      "==========================================================================================\n",
      "Input size (MB): 0.25\n",
      "Forward/backward pass size (MB): 43.96\n",
      "Params size (MB): 19.34\n",
      "Estimated Total Size (MB): 63.55\n",
      "==========================================================================================\n"
     ]
    },
    {
     "data": {
      "text/plain": [
       "==========================================================================================\n",
       "Layer (type:depth-idx)                   Output Shape              Param #\n",
       "==========================================================================================\n",
       "├─Sequential: 1-1                        [-1, 128, 24, 3]          --\n",
       "|    └─BatchNorm2d: 2-1                  [-1, 1, 256, 256]         2\n",
       "|    └─Conv2d: 2-2                       [-1, 64, 252, 250]        2,304\n",
       "|    └─ReLU: 2-3                         [-1, 64, 252, 250]        --\n",
       "|    └─MaxPool2d: 2-4                    [-1, 64, 126, 83]         --\n",
       "|    └─Conv2d: 2-5                       [-1, 64, 124, 81]         36,928\n",
       "|    └─ReLU: 2-6                         [-1, 64, 124, 81]         --\n",
       "|    └─Conv2d: 2-7                       [-1, 64, 122, 79]         36,928\n",
       "|    └─ReLU: 2-8                         [-1, 64, 122, 79]         --\n",
       "|    └─MaxPool2d: 2-9                    [-1, 64, 61, 26]          --\n",
       "|    └─Conv2d: 2-10                      [-1, 128, 59, 24]         73,856\n",
       "|    └─ReLU: 2-11                        [-1, 128, 59, 24]         --\n",
       "|    └─Conv2d: 2-12                      [-1, 128, 57, 22]         147,584\n",
       "|    └─ReLU: 2-13                        [-1, 128, 57, 22]         --\n",
       "|    └─MaxPool2d: 2-14                   [-1, 128, 28, 7]          --\n",
       "|    └─Conv2d: 2-15                      [-1, 128, 26, 5]          147,584\n",
       "|    └─ReLU: 2-16                        [-1, 128, 26, 5]          --\n",
       "|    └─Conv2d: 2-17                      [-1, 128, 24, 3]          147,584\n",
       "|    └─ReLU: 2-18                        [-1, 128, 24, 3]          --\n",
       "├─LSTM: 1-2                              [-1, 72, 512]             790,528\n",
       "├─Sequential: 1-3                        [-1, 4]                   --\n",
       "|    └─Flatten: 2-19                     [-1, 36864]               --\n",
       "|    └─Dropout: 2-20                     [-1, 36864]               --\n",
       "|    └─Linear: 2-21                      [-1, 100]                 3,686,500\n",
       "|    └─Dropout: 2-22                     [-1, 100]                 --\n",
       "|    └─Linear: 2-23                      [-1, 4]                   404\n",
       "|    └─Softmax: 2-24                     [-1, 4]                   --\n",
       "==========================================================================================\n",
       "Total params: 5,070,202\n",
       "Trainable params: 5,070,202\n",
       "Non-trainable params: 0\n",
       "Total mult-adds (G): 1.19\n",
       "==========================================================================================\n",
       "Input size (MB): 0.25\n",
       "Forward/backward pass size (MB): 43.96\n",
       "Params size (MB): 19.34\n",
       "Estimated Total Size (MB): 63.55\n",
       "=========================================================================================="
      ]
     },
     "execution_count": 101,
     "metadata": {},
     "output_type": "execute_result"
    }
   ],
   "source": [
    "# print model summary\n",
    "import torchsummary\n",
    "print(\"Patient Based Model Summary\")\n",
    "torchsummary.summary(fine_tune_model,(1,256,256))\n",
    "\n"
   ]
  },
  {
   "cell_type": "code",
   "execution_count": 102,
   "metadata": {},
   "outputs": [
    {
     "name": "stdout",
     "output_type": "stream",
     "text": [
      "MobileNet Model Summary\n",
      "====================================================================================================\n",
      "Layer (type:depth-idx)                             Output Shape              Param #\n",
      "====================================================================================================\n",
      "├─Sequential: 1-1                                  [-1, 1280, 8, 8]          --\n",
      "|    └─Conv2d: 2-1                                 [-1, 32, 128, 128]        288\n",
      "|    └─InvertedResidual: 2-2                       [-1, 16, 128, 128]        --\n",
      "|    |    └─Sequential: 3-1                        [-1, 16, 128, 128]        896\n",
      "|    └─InvertedResidual: 2-3                       [-1, 24, 64, 64]          --\n",
      "|    |    └─Sequential: 3-2                        [-1, 24, 64, 64]          5,136\n",
      "|    └─InvertedResidual: 2-4                       [-1, 24, 64, 64]          --\n",
      "|    |    └─Sequential: 3-3                        [-1, 24, 64, 64]          8,832\n",
      "|    └─InvertedResidual: 2-5                       [-1, 32, 32, 32]          --\n",
      "|    |    └─Sequential: 3-4                        [-1, 32, 32, 32]          10,000\n",
      "|    └─InvertedResidual: 2-6                       [-1, 32, 32, 32]          --\n",
      "|    |    └─Sequential: 3-5                        [-1, 32, 32, 32]          14,848\n",
      "|    └─InvertedResidual: 2-7                       [-1, 32, 32, 32]          --\n",
      "|    |    └─Sequential: 3-6                        [-1, 32, 32, 32]          14,848\n",
      "|    └─InvertedResidual: 2-8                       [-1, 64, 16, 16]          --\n",
      "|    |    └─Sequential: 3-7                        [-1, 64, 16, 16]          21,056\n",
      "|    └─InvertedResidual: 2-9                       [-1, 64, 16, 16]          --\n",
      "|    |    └─Sequential: 3-8                        [-1, 64, 16, 16]          54,272\n",
      "|    └─InvertedResidual: 2-10                      [-1, 64, 16, 16]          --\n",
      "|    |    └─Sequential: 3-9                        [-1, 64, 16, 16]          54,272\n",
      "|    └─InvertedResidual: 2-11                      [-1, 64, 16, 16]          --\n",
      "|    |    └─Sequential: 3-10                       [-1, 64, 16, 16]          54,272\n",
      "|    └─InvertedResidual: 2-12                      [-1, 96, 16, 16]          --\n",
      "|    |    └─Sequential: 3-11                       [-1, 96, 16, 16]          66,624\n",
      "|    └─InvertedResidual: 2-13                      [-1, 96, 16, 16]          --\n",
      "|    |    └─Sequential: 3-12                       [-1, 96, 16, 16]          118,272\n",
      "|    └─InvertedResidual: 2-14                      [-1, 96, 16, 16]          --\n",
      "|    |    └─Sequential: 3-13                       [-1, 96, 16, 16]          118,272\n",
      "|    └─InvertedResidual: 2-15                      [-1, 160, 8, 8]           --\n",
      "|    |    └─Sequential: 3-14                       [-1, 160, 8, 8]           155,264\n",
      "|    └─InvertedResidual: 2-16                      [-1, 160, 8, 8]           --\n",
      "|    |    └─Sequential: 3-15                       [-1, 160, 8, 8]           320,000\n",
      "|    └─InvertedResidual: 2-17                      [-1, 160, 8, 8]           --\n",
      "|    |    └─Sequential: 3-16                       [-1, 160, 8, 8]           320,000\n",
      "|    └─InvertedResidual: 2-18                      [-1, 320, 8, 8]           --\n",
      "|    |    └─Sequential: 3-17                       [-1, 320, 8, 8]           473,920\n",
      "|    └─Conv2dNormActivation: 2-19                  [-1, 1280, 8, 8]          --\n",
      "|    |    └─Conv2d: 3-18                           [-1, 1280, 8, 8]          409,600\n",
      "|    |    └─BatchNorm2d: 3-19                      [-1, 1280, 8, 8]          2,560\n",
      "|    |    └─ReLU6: 3-20                            [-1, 1280, 8, 8]          --\n",
      "├─Sequential: 1-2                                  [-1, 4]                   --\n",
      "|    └─Dropout: 2-20                               [-1, 1280]                --\n",
      "|    └─Linear: 2-21                                [-1, 4]                   5,124\n",
      "====================================================================================================\n",
      "Total params: 2,228,356\n",
      "Trainable params: 2,228,356\n",
      "Non-trainable params: 0\n",
      "Total mult-adds (M): 192.26\n",
      "====================================================================================================\n",
      "Input size (MB): 0.25\n",
      "Forward/backward pass size (MB): 16.66\n",
      "Params size (MB): 8.50\n",
      "Estimated Total Size (MB): 25.41\n",
      "====================================================================================================\n"
     ]
    },
    {
     "data": {
      "text/plain": [
       "====================================================================================================\n",
       "Layer (type:depth-idx)                             Output Shape              Param #\n",
       "====================================================================================================\n",
       "├─Sequential: 1-1                                  [-1, 1280, 8, 8]          --\n",
       "|    └─Conv2d: 2-1                                 [-1, 32, 128, 128]        288\n",
       "|    └─InvertedResidual: 2-2                       [-1, 16, 128, 128]        --\n",
       "|    |    └─Sequential: 3-1                        [-1, 16, 128, 128]        896\n",
       "|    └─InvertedResidual: 2-3                       [-1, 24, 64, 64]          --\n",
       "|    |    └─Sequential: 3-2                        [-1, 24, 64, 64]          5,136\n",
       "|    └─InvertedResidual: 2-4                       [-1, 24, 64, 64]          --\n",
       "|    |    └─Sequential: 3-3                        [-1, 24, 64, 64]          8,832\n",
       "|    └─InvertedResidual: 2-5                       [-1, 32, 32, 32]          --\n",
       "|    |    └─Sequential: 3-4                        [-1, 32, 32, 32]          10,000\n",
       "|    └─InvertedResidual: 2-6                       [-1, 32, 32, 32]          --\n",
       "|    |    └─Sequential: 3-5                        [-1, 32, 32, 32]          14,848\n",
       "|    └─InvertedResidual: 2-7                       [-1, 32, 32, 32]          --\n",
       "|    |    └─Sequential: 3-6                        [-1, 32, 32, 32]          14,848\n",
       "|    └─InvertedResidual: 2-8                       [-1, 64, 16, 16]          --\n",
       "|    |    └─Sequential: 3-7                        [-1, 64, 16, 16]          21,056\n",
       "|    └─InvertedResidual: 2-9                       [-1, 64, 16, 16]          --\n",
       "|    |    └─Sequential: 3-8                        [-1, 64, 16, 16]          54,272\n",
       "|    └─InvertedResidual: 2-10                      [-1, 64, 16, 16]          --\n",
       "|    |    └─Sequential: 3-9                        [-1, 64, 16, 16]          54,272\n",
       "|    └─InvertedResidual: 2-11                      [-1, 64, 16, 16]          --\n",
       "|    |    └─Sequential: 3-10                       [-1, 64, 16, 16]          54,272\n",
       "|    └─InvertedResidual: 2-12                      [-1, 96, 16, 16]          --\n",
       "|    |    └─Sequential: 3-11                       [-1, 96, 16, 16]          66,624\n",
       "|    └─InvertedResidual: 2-13                      [-1, 96, 16, 16]          --\n",
       "|    |    └─Sequential: 3-12                       [-1, 96, 16, 16]          118,272\n",
       "|    └─InvertedResidual: 2-14                      [-1, 96, 16, 16]          --\n",
       "|    |    └─Sequential: 3-13                       [-1, 96, 16, 16]          118,272\n",
       "|    └─InvertedResidual: 2-15                      [-1, 160, 8, 8]           --\n",
       "|    |    └─Sequential: 3-14                       [-1, 160, 8, 8]           155,264\n",
       "|    └─InvertedResidual: 2-16                      [-1, 160, 8, 8]           --\n",
       "|    |    └─Sequential: 3-15                       [-1, 160, 8, 8]           320,000\n",
       "|    └─InvertedResidual: 2-17                      [-1, 160, 8, 8]           --\n",
       "|    |    └─Sequential: 3-16                       [-1, 160, 8, 8]           320,000\n",
       "|    └─InvertedResidual: 2-18                      [-1, 320, 8, 8]           --\n",
       "|    |    └─Sequential: 3-17                       [-1, 320, 8, 8]           473,920\n",
       "|    └─Conv2dNormActivation: 2-19                  [-1, 1280, 8, 8]          --\n",
       "|    |    └─Conv2d: 3-18                           [-1, 1280, 8, 8]          409,600\n",
       "|    |    └─BatchNorm2d: 3-19                      [-1, 1280, 8, 8]          2,560\n",
       "|    |    └─ReLU6: 3-20                            [-1, 1280, 8, 8]          --\n",
       "├─Sequential: 1-2                                  [-1, 4]                   --\n",
       "|    └─Dropout: 2-20                               [-1, 1280]                --\n",
       "|    └─Linear: 2-21                                [-1, 4]                   5,124\n",
       "====================================================================================================\n",
       "Total params: 2,228,356\n",
       "Trainable params: 2,228,356\n",
       "Non-trainable params: 0\n",
       "Total mult-adds (M): 192.26\n",
       "====================================================================================================\n",
       "Input size (MB): 0.25\n",
       "Forward/backward pass size (MB): 16.66\n",
       "Params size (MB): 8.50\n",
       "Estimated Total Size (MB): 25.41\n",
       "===================================================================================================="
      ]
     },
     "execution_count": 102,
     "metadata": {},
     "output_type": "execute_result"
    }
   ],
   "source": [
    "print(\"MobileNet Model Summary\")\n",
    "torchsummary.summary(mobilenet_model,(1,256,256))\n"
   ]
  },
  {
   "cell_type": "code",
   "execution_count": 103,
   "metadata": {},
   "outputs": [
    {
     "name": "stdout",
     "output_type": "stream",
     "text": [
      "Vgg16 Model Summary\n",
      "==========================================================================================\n",
      "Layer (type:depth-idx)                   Output Shape              Param #\n",
      "==========================================================================================\n",
      "├─Sequential: 1-1                        [-1, 512, 8, 8]           --\n",
      "|    └─Conv2d: 2-1                       [-1, 64, 256, 256]        640\n",
      "|    └─ReLU: 2-2                         [-1, 64, 256, 256]        --\n",
      "|    └─Conv2d: 2-3                       [-1, 64, 256, 256]        36,928\n",
      "|    └─ReLU: 2-4                         [-1, 64, 256, 256]        --\n",
      "|    └─MaxPool2d: 2-5                    [-1, 64, 128, 128]        --\n",
      "|    └─Conv2d: 2-6                       [-1, 128, 128, 128]       73,856\n",
      "|    └─ReLU: 2-7                         [-1, 128, 128, 128]       --\n",
      "|    └─Conv2d: 2-8                       [-1, 128, 128, 128]       147,584\n",
      "|    └─ReLU: 2-9                         [-1, 128, 128, 128]       --\n",
      "|    └─MaxPool2d: 2-10                   [-1, 128, 64, 64]         --\n",
      "|    └─Conv2d: 2-11                      [-1, 256, 64, 64]         295,168\n",
      "|    └─ReLU: 2-12                        [-1, 256, 64, 64]         --\n",
      "|    └─Conv2d: 2-13                      [-1, 256, 64, 64]         590,080\n",
      "|    └─ReLU: 2-14                        [-1, 256, 64, 64]         --\n",
      "|    └─Conv2d: 2-15                      [-1, 256, 64, 64]         590,080\n",
      "|    └─ReLU: 2-16                        [-1, 256, 64, 64]         --\n",
      "|    └─MaxPool2d: 2-17                   [-1, 256, 32, 32]         --\n",
      "|    └─Conv2d: 2-18                      [-1, 512, 32, 32]         1,180,160\n",
      "|    └─ReLU: 2-19                        [-1, 512, 32, 32]         --\n",
      "|    └─Conv2d: 2-20                      [-1, 512, 32, 32]         2,359,808\n",
      "|    └─ReLU: 2-21                        [-1, 512, 32, 32]         --\n",
      "|    └─Conv2d: 2-22                      [-1, 512, 32, 32]         2,359,808\n",
      "|    └─ReLU: 2-23                        [-1, 512, 32, 32]         --\n",
      "|    └─MaxPool2d: 2-24                   [-1, 512, 16, 16]         --\n",
      "|    └─Conv2d: 2-25                      [-1, 512, 16, 16]         2,359,808\n",
      "|    └─ReLU: 2-26                        [-1, 512, 16, 16]         --\n",
      "|    └─Conv2d: 2-27                      [-1, 512, 16, 16]         2,359,808\n",
      "|    └─ReLU: 2-28                        [-1, 512, 16, 16]         --\n",
      "|    └─Conv2d: 2-29                      [-1, 512, 16, 16]         2,359,808\n",
      "|    └─ReLU: 2-30                        [-1, 512, 16, 16]         --\n",
      "|    └─MaxPool2d: 2-31                   [-1, 512, 8, 8]           --\n",
      "├─AdaptiveAvgPool2d: 1-2                 [-1, 512, 7, 7]           --\n",
      "├─Sequential: 1-3                        [-1, 4]                   --\n",
      "|    └─Linear: 2-32                      [-1, 4096]                102,764,544\n",
      "|    └─ReLU: 2-33                        [-1, 4096]                --\n",
      "|    └─Dropout: 2-34                     [-1, 4096]                --\n",
      "|    └─Linear: 2-35                      [-1, 4096]                16,781,312\n",
      "|    └─ReLU: 2-36                        [-1, 4096]                --\n",
      "|    └─Dropout: 2-37                     [-1, 4096]                --\n",
      "|    └─Linear: 2-38                      [-1, 4]                   16,388\n",
      "==========================================================================================\n",
      "Total params: 134,275,780\n",
      "Trainable params: 134,275,780\n",
      "Non-trainable params: 0\n",
      "Total mult-adds (G): 20.22\n",
      "==========================================================================================\n",
      "Input size (MB): 0.25\n",
      "Forward/backward pass size (MB): 135.06\n",
      "Params size (MB): 512.22\n",
      "Estimated Total Size (MB): 647.53\n",
      "==========================================================================================\n"
     ]
    },
    {
     "data": {
      "text/plain": [
       "==========================================================================================\n",
       "Layer (type:depth-idx)                   Output Shape              Param #\n",
       "==========================================================================================\n",
       "├─Sequential: 1-1                        [-1, 512, 8, 8]           --\n",
       "|    └─Conv2d: 2-1                       [-1, 64, 256, 256]        640\n",
       "|    └─ReLU: 2-2                         [-1, 64, 256, 256]        --\n",
       "|    └─Conv2d: 2-3                       [-1, 64, 256, 256]        36,928\n",
       "|    └─ReLU: 2-4                         [-1, 64, 256, 256]        --\n",
       "|    └─MaxPool2d: 2-5                    [-1, 64, 128, 128]        --\n",
       "|    └─Conv2d: 2-6                       [-1, 128, 128, 128]       73,856\n",
       "|    └─ReLU: 2-7                         [-1, 128, 128, 128]       --\n",
       "|    └─Conv2d: 2-8                       [-1, 128, 128, 128]       147,584\n",
       "|    └─ReLU: 2-9                         [-1, 128, 128, 128]       --\n",
       "|    └─MaxPool2d: 2-10                   [-1, 128, 64, 64]         --\n",
       "|    └─Conv2d: 2-11                      [-1, 256, 64, 64]         295,168\n",
       "|    └─ReLU: 2-12                        [-1, 256, 64, 64]         --\n",
       "|    └─Conv2d: 2-13                      [-1, 256, 64, 64]         590,080\n",
       "|    └─ReLU: 2-14                        [-1, 256, 64, 64]         --\n",
       "|    └─Conv2d: 2-15                      [-1, 256, 64, 64]         590,080\n",
       "|    └─ReLU: 2-16                        [-1, 256, 64, 64]         --\n",
       "|    └─MaxPool2d: 2-17                   [-1, 256, 32, 32]         --\n",
       "|    └─Conv2d: 2-18                      [-1, 512, 32, 32]         1,180,160\n",
       "|    └─ReLU: 2-19                        [-1, 512, 32, 32]         --\n",
       "|    └─Conv2d: 2-20                      [-1, 512, 32, 32]         2,359,808\n",
       "|    └─ReLU: 2-21                        [-1, 512, 32, 32]         --\n",
       "|    └─Conv2d: 2-22                      [-1, 512, 32, 32]         2,359,808\n",
       "|    └─ReLU: 2-23                        [-1, 512, 32, 32]         --\n",
       "|    └─MaxPool2d: 2-24                   [-1, 512, 16, 16]         --\n",
       "|    └─Conv2d: 2-25                      [-1, 512, 16, 16]         2,359,808\n",
       "|    └─ReLU: 2-26                        [-1, 512, 16, 16]         --\n",
       "|    └─Conv2d: 2-27                      [-1, 512, 16, 16]         2,359,808\n",
       "|    └─ReLU: 2-28                        [-1, 512, 16, 16]         --\n",
       "|    └─Conv2d: 2-29                      [-1, 512, 16, 16]         2,359,808\n",
       "|    └─ReLU: 2-30                        [-1, 512, 16, 16]         --\n",
       "|    └─MaxPool2d: 2-31                   [-1, 512, 8, 8]           --\n",
       "├─AdaptiveAvgPool2d: 1-2                 [-1, 512, 7, 7]           --\n",
       "├─Sequential: 1-3                        [-1, 4]                   --\n",
       "|    └─Linear: 2-32                      [-1, 4096]                102,764,544\n",
       "|    └─ReLU: 2-33                        [-1, 4096]                --\n",
       "|    └─Dropout: 2-34                     [-1, 4096]                --\n",
       "|    └─Linear: 2-35                      [-1, 4096]                16,781,312\n",
       "|    └─ReLU: 2-36                        [-1, 4096]                --\n",
       "|    └─Dropout: 2-37                     [-1, 4096]                --\n",
       "|    └─Linear: 2-38                      [-1, 4]                   16,388\n",
       "==========================================================================================\n",
       "Total params: 134,275,780\n",
       "Trainable params: 134,275,780\n",
       "Non-trainable params: 0\n",
       "Total mult-adds (G): 20.22\n",
       "==========================================================================================\n",
       "Input size (MB): 0.25\n",
       "Forward/backward pass size (MB): 135.06\n",
       "Params size (MB): 512.22\n",
       "Estimated Total Size (MB): 647.53\n",
       "=========================================================================================="
      ]
     },
     "execution_count": 103,
     "metadata": {},
     "output_type": "execute_result"
    }
   ],
   "source": [
    "print(\"Vgg16 Model Summary\")\n",
    "torchsummary.summary(vgg16_model,(1,256,256))"
   ]
  },
  {
   "cell_type": "code",
   "execution_count": null,
   "metadata": {},
   "outputs": [],
   "source": []
  }
 ],
 "metadata": {
  "colab": {
   "provenance": []
  },
  "gpuClass": "standard",
  "kernelspec": {
   "display_name": "Python 3 (ipykernel)",
   "language": "python",
   "name": "python3"
  },
  "language_info": {
   "codemirror_mode": {
    "name": "ipython",
    "version": 3
   },
   "file_extension": ".py",
   "mimetype": "text/x-python",
   "name": "python",
   "nbconvert_exporter": "python",
   "pygments_lexer": "ipython3",
   "version": "3.8.10"
  }
 },
 "nbformat": 4,
 "nbformat_minor": 1
}
